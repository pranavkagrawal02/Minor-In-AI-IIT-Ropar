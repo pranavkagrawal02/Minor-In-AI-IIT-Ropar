{
  "nbformat": 4,
  "nbformat_minor": 0,
  "metadata": {
    "colab": {
      "provenance": [],
      "include_colab_link": true
    },
    "kernelspec": {
      "name": "python3",
      "display_name": "Python 3"
    },
    "language_info": {
      "name": "python"
    }
  },
  "cells": [
    {
      "cell_type": "markdown",
      "metadata": {
        "id": "view-in-github",
        "colab_type": "text"
      },
      "source": [
        "<a href=\"https://colab.research.google.com/github/pranavkagrawal02/Minor-In-AI-IIT-Ropar/blob/main/Feb_6_OOP_Robomart.ipynb\" target=\"_parent\"><img src=\"https://colab.research.google.com/assets/colab-badge.svg\" alt=\"Open In Colab\"/></a>"
      ]
    },
    {
      "cell_type": "markdown",
      "source": [
        "# Transitioning from Procedural to Object Oriented Approach"
      ],
      "metadata": {
        "id": "lCpE5ebg_ByE"
      }
    },
    {
      "cell_type": "markdown",
      "source": [
        "## Build an inventory and Billing System using Procedural Approach"
      ],
      "metadata": {
        "id": "uaz-l6Q7_VkQ"
      }
    },
    {
      "cell_type": "code",
      "execution_count": null,
      "metadata": {
        "colab": {
          "base_uri": "https://localhost:8080/"
        },
        "id": "az_bP5iHV4k2",
        "outputId": "b560a933-32e3-4c2e-f3e5-3913f3fa4e57"
      },
      "outputs": [
        {
          "output_type": "stream",
          "name": "stdout",
          "text": [
            "Available Products:\n",
            "1. notebook - Rs.150 - Quantity: 100\n",
            "2. pen - Rs.20 - Quantity: 200\n",
            "3. eraser - Rs.5 - Quantity: 300\n"
          ]
        }
      ],
      "source": [
        "#Product details in inventory\n",
        "\n",
        "product_names=['notebook', 'pen', 'eraser']\n",
        "product_price=[150, 20, 5]\n",
        "product_qty=[100, 200, 300]\n",
        "\n",
        "\n",
        "# function to display all the products\n",
        "def display_products():\n",
        "  print(\"Available Products:\")\n",
        "  for i in range(len(product_names)):\n",
        "    print(f\"{i+1}. {product_names[i]} - Rs.{product_price[i]} - Quantity: {product_qty[i]}\")\n",
        "\n",
        "display_products()"
      ]
    },
    {
      "cell_type": "code",
      "source": [
        "# Read the Product number and quantity required and create a list of tuples called selected items\n",
        "selected_items=[]\n",
        "while(True):\n",
        "  product_number=int(input(\"Enter the product number: \"))\n",
        "  quantity_required=int(input(\"Enter the quantity required:\"))\n",
        "  selected_items.append((product_number, quantity_required))\n",
        "  print(selected_items)\n",
        "  if input(\"Do you want to add more items? (y/n): \")=='n':\n",
        "    print(\"selected items: \", selected_items)\n",
        "    break\n"
      ],
      "metadata": {
        "colab": {
          "base_uri": "https://localhost:8080/"
        },
        "id": "43DpplUiXgRi",
        "outputId": "34be034c-1080-46ed-f729-aaa2866fac84"
      },
      "execution_count": null,
      "outputs": [
        {
          "output_type": "stream",
          "name": "stdout",
          "text": [
            "Enter the product number: 1\n",
            "Enter the quantity required:11\n",
            "[(1, 11)]\n",
            "Do you want to add more items? (y/n): y\n",
            "Enter the product number: 2\n",
            "Enter the quantity required:43\n",
            "[(1, 11), (2, 43)]\n",
            "Do you want to add more items? (y/n): n\n",
            "selected items:  [(1, 11), (2, 43)]\n"
          ]
        }
      ]
    },
    {
      "cell_type": "code",
      "source": [
        "# function to calculate the bill amount by passing the selected items as argument\n",
        "\n",
        "def calculate_bill(selected_items):\n",
        "  total_bill=0\n",
        "  for item in selected_items:\n",
        "    product_number, quantity_required=item\n",
        "    if product_number<1 or product_number>len(product_names):\n",
        "      print(\"Invalid product number\")\n",
        "      continue\n",
        "    if quantity_required>product_qty[product_number-1]:\n",
        "      print(\"Insufficient quantity\")\n",
        "      continue\n",
        "    total_bill+=product_price[product_number-1]*quantity_required\n",
        "  return total_bill\n",
        "\n",
        "bill=calculate_bill(selected_items)\n",
        "print(\"Total bill amount: \", bill)\n",
        "\n",
        "\n",
        "\n"
      ],
      "metadata": {
        "colab": {
          "base_uri": "https://localhost:8080/"
        },
        "id": "YTIo4fi_Z2YT",
        "outputId": "17e5ce32-281e-4e15-91c4-847481fd1d11"
      },
      "execution_count": null,
      "outputs": [
        {
          "output_type": "stream",
          "name": "stdout",
          "text": [
            "Total bill amount:  2510\n"
          ]
        }
      ]
    },
    {
      "cell_type": "markdown",
      "source": [
        "## Object Oriented Approach for the same Inventory and Billing system"
      ],
      "metadata": {
        "id": "vNR5HIyF_isG"
      }
    },
    {
      "cell_type": "markdown",
      "source": [
        "#### Create a class and then create an instance/object for the class"
      ],
      "metadata": {
        "id": "VhznesR_K8o_"
      }
    },
    {
      "cell_type": "code",
      "source": [
        "class Product:\n",
        "    def __init__(self, name, price, quantity):\n",
        "        self.name = name\n",
        "        self.price = price\n",
        "        self.quantity = quantity\n",
        "    def display(self):\n",
        "        print(f\"{self.name} - Rs.{self.price} (Stock: {self.quantity})\")\n",
        "    def update_stock(self, qty):\n",
        "        if self.quantity >= qty:\n",
        "            self.quantity -= qty\n",
        "            return self.price * qty\n",
        "        else:\n",
        "            print(f\"Not enough stock for {self.name}\")\n",
        "            return 0\n",
        "\n",
        "\n",
        "# Create an instance of the Product class\n",
        "item = Product(\"Apple\", 100, 10)\n",
        "\n",
        "# Accessing the instance attributes\n",
        "print(item.name)      # Output: Apple\n",
        "print(item.price)     # Output: 100\n",
        "print(item.quantity)  # Output: 10"
      ],
      "metadata": {
        "colab": {
          "base_uri": "https://localhost:8080/"
        },
        "id": "UZktEWOSrMEP",
        "outputId": "363c2d26-58c6-44f2-f534-2592fbbf1396"
      },
      "execution_count": null,
      "outputs": [
        {
          "output_type": "stream",
          "name": "stdout",
          "text": [
            "Apple\n",
            "100\n",
            "10\n"
          ]
        }
      ]
    },
    {
      "cell_type": "markdown",
      "source": [
        "#### Create a class to represent the product and Calculate the total bill amount based on the purchased products and their quantities."
      ],
      "metadata": {
        "id": "nI8GjkjMLE2v"
      }
    },
    {
      "cell_type": "code",
      "source": [
        "class Product:\n",
        "    \"\"\"\n",
        "    A class to represent a product with a name, price, and stock quantity.\n",
        "    \"\"\"\n",
        "    def __init__(self, name, price, quantity):\n",
        "        \"\"\"\n",
        "        Initialize a Product instance.\n",
        "\n",
        "        :param name: Name of the product\n",
        "        :param price: Price of a single unit of the product\n",
        "        :param quantity: Available stock quantity\n",
        "        \"\"\"\n",
        "        self.name = name # public member\n",
        "        self.price = price\n",
        "        self.quantity = quantity\n",
        "\n",
        "    def display(self):\n",
        "        \"\"\"\n",
        "        Display the product details including name, price, and available stock.\n",
        "        \"\"\"\n",
        "        print(f\"{self.name} - Rs.{self.price} (Stock: {self.quantity})\")\n",
        "\n",
        "    def update_stock(self, qty):\n",
        "        \"\"\"\n",
        "        Update the stock quantity after a purchase.\n",
        "\n",
        "        :param qty: Quantity to be purchased\n",
        "        :return: Total price if stock is sufficient, otherwise 0\n",
        "        \"\"\"\n",
        "        if self.quantity >= qty:\n",
        "            self.quantity -= qty  # Reduce stock\n",
        "            return self.price * qty  # Return cost of purchased items\n",
        "        else:\n",
        "            print(f\"Not enough stock for {self.name}. Available: {self.quantity}\")\n",
        "            return 0  # Return zero if stock is insufficient\n",
        "\n",
        "\n",
        "def calculate_bill(products, cart):\n",
        "    \"\"\"\n",
        "    Calculate the total bill amount based on the purchased products and their quantities.\n",
        "\n",
        "    :param products: List of Product objects\n",
        "    :param cart: Dictionary where keys are product names and values are quantities to buy\n",
        "    :return: Total bill amount\n",
        "    \"\"\"\n",
        "    total_bill = 0  # Initialize total bill amount\n",
        "    print(\"\\nProcessing Order...\\n\")\n",
        "\n",
        "    for product in products:\n",
        "        if product.name in cart:  # Check if the product is in the shopping cart\n",
        "            qty = cart[product.name]\n",
        "            cost = product.update_stock(qty)  # Deduct purchased quantity and get cost\n",
        "            if cost > 0:\n",
        "                print(f\"{qty} x {product.name} added to bill: Rs.{cost}\")\n",
        "            total_bill += cost  # Add cost to total bill\n",
        "\n",
        "    print(\"\\nOrder Processed Successfully!\")\n",
        "    return total_bill  # Return the final bill amount\n",
        "\n",
        "\n",
        "# Create a list of Product instances\n",
        "products = [\n",
        "    Product(\"Laptop\", 50000, 10),\n",
        "    Product(\"Phone\", 20000, 5),\n",
        "    Product(\"Headphones\", 3000, 15)\n",
        "]\n",
        "\n",
        "# Display available products before purchase\n",
        "print(\"Available Products:\")\n",
        "for product in products:\n",
        "    product.display()\n",
        "\n",
        "# Define a sample cart with the product names and quantities to be purchased\n",
        "# cart = {\"Laptop\": 1, \"Phone\": 2, \"Headphones\": 3}\n",
        "\n",
        "# Get input for the cart from user\n",
        "\n",
        "cart = {}\n",
        "while True:\n",
        "    product_name = input(\"Enter the product name (or 'done' to finish): \")\n",
        "    if product_name.lower() == 'done':\n",
        "        break\n",
        "    quantity = int(input(\"Enter the quantity: \"))\n",
        "    cart[product_name] = quantity\n",
        "\n",
        "# Calculate the bill based on the cart\n",
        "total = calculate_bill(products, cart)\n",
        "print(f\"\\nTotal Bill Amount: Rs.{total}\")\n",
        "\n",
        "# Display product stock after the purchase\n",
        "print(\"\\nStock After Purchase:\")\n",
        "for product in products:\n",
        "    product.display()\n"
      ],
      "metadata": {
        "colab": {
          "base_uri": "https://localhost:8080/"
        },
        "id": "9sqORXe0tYQK",
        "outputId": "d075b768-72d5-4dba-8f4a-9303ce907f28"
      },
      "execution_count": null,
      "outputs": [
        {
          "output_type": "stream",
          "name": "stdout",
          "text": [
            "Available Products:\n",
            "Laptop - Rs.50000 (Stock: 10)\n",
            "Phone - Rs.20000 (Stock: 5)\n",
            "Headphones - Rs.3000 (Stock: 15)\n",
            "Enter the product name (or 'done' to finish): Laptop\n",
            "Enter the quantity: 2\n",
            "Enter the product name (or 'done' to finish): done\n",
            "\n",
            "Processing Order...\n",
            "\n",
            "2 x Laptop added to bill: Rs.100000\n",
            "\n",
            "Order Processed Successfully!\n",
            "\n",
            "Total Bill Amount: Rs.100000\n",
            "\n",
            "Stock After Purchase:\n",
            "Laptop - Rs.50000 (Stock: 8)\n",
            "Phone - Rs.20000 (Stock: 5)\n",
            "Headphones - Rs.3000 (Stock: 15)\n"
          ]
        }
      ]
    },
    {
      "cell_type": "markdown",
      "source": [
        "### Inheritance & Encapsulation"
      ],
      "metadata": {
        "id": "Ia2zhJCswcTm"
      }
    },
    {
      "cell_type": "code",
      "source": [
        "# Create a class called Product with attributes name, price and quantity. The methods here are get_details and update_stock\n",
        "\n",
        "\n",
        "class Product:\n",
        "  def __init__(self, name, price, quantity):\n",
        "    self.name = name\n",
        "    self.price = price\n",
        "    self.quantity = quantity\n",
        "\n",
        "  def get_details(self):\n",
        "    return f\"{self.name} - Rs.{self.price} (Stock: {self.quantity})\"\n",
        "\n",
        "  def update_stock(self, qty): # qty is the demand from customer\n",
        "    if self.quantity >= qty:\n",
        "      self.quantity -= qty\n",
        "      return self.price * qty\n",
        "    else:\n",
        "      print(\"Product unavailable\")\n",
        "      return 0\n",
        "\n",
        "# Create a child class for Product which has additional attribute discount and a method called apply_discount\n",
        "\n",
        "class DiscountedProduct(Product):\n",
        "  def __init__(self, name, price, quantity, discount):\n",
        "    super().__init__(name, price, quantity)\n",
        "    self.discount = discount\n",
        "  def apply_discount(self):\n",
        "    total_price = self.price * self.quantity\n",
        "    if total_price>0:\n",
        "      discount_amount = total_price * (self.discount / 100)\n",
        "    return total_price - discount_amount\n",
        "\n",
        "# Create products\n",
        "\n",
        "p1=Product(\"Laptop\",60000,50)\n",
        "p2=Product(\"Mobile\",300000,100)\n",
        "p3=Product(\"Tablet\",100000,200)\n",
        "p4=DiscountedProduct(\"Laptop1\",60000,50,10)\n",
        "p5=DiscountedProduct(\"Mobile1\",300000,100,20)\n",
        "\n",
        "\n",
        "# Create a dictionary of shopping cart\n",
        "cart={\"Laptop\":2, \"Mobile\":3}\n",
        "\n",
        "# Calculate the bill amount\n",
        "total_bill=0\n",
        "for item in cart:\n",
        "  if item in p1.name:\n",
        "    total_bill+=p1.update_stock(cart[item])\n",
        "  elif item in p2.name:\n",
        "    total_bill+=p2.update_stock(cart[item])\n",
        "  elif item in p3.name:\n",
        "    total_bill+=p3.update_stock(cart[item])\n",
        "  elif item in p4.name:\n",
        "    total_bill+=p4.apply_discount()\n",
        "  elif item in p5.name:\n",
        "    total_bill+=p5.apply_discount()\n",
        "  else:\n",
        "    print(\"Product not found\")\n",
        "    break\n",
        "print(\"Total bill amount: \", total_bill)\n"
      ],
      "metadata": {
        "colab": {
          "base_uri": "https://localhost:8080/"
        },
        "id": "tR2L156D_IHP",
        "outputId": "fcd9133f-5530-48a5-f800-335539f786d1"
      },
      "execution_count": null,
      "outputs": [
        {
          "output_type": "stream",
          "name": "stdout",
          "text": [
            "Total bill amount:  1020000\n"
          ]
        }
      ]
    },
    {
      "cell_type": "code",
      "source": [],
      "metadata": {
        "id": "KXpqFAKYAlJp"
      },
      "execution_count": null,
      "outputs": []
    },
    {
      "cell_type": "markdown",
      "source": [
        "Double underscore - private variable\n",
        "__age\n",
        "Single underscore - protected variable\n",
        "_salary"
      ],
      "metadata": {
        "id": "yuJU7jAiAlqH"
      }
    }
  ]
}