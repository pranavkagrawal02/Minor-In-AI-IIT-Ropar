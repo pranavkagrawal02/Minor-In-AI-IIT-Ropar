{
  "nbformat": 4,
  "nbformat_minor": 0,
  "metadata": {
    "colab": {
      "provenance": [],
      "include_colab_link": true
    },
    "kernelspec": {
      "name": "python3",
      "display_name": "Python 3"
    },
    "language_info": {
      "name": "python"
    }
  },
  "cells": [
    {
      "cell_type": "markdown",
      "metadata": {
        "id": "view-in-github",
        "colab_type": "text"
      },
      "source": [
        "<a href=\"https://colab.research.google.com/github/pranavkagrawal02/Minor-In-AI-IIT-Ropar/blob/main/Feb_17_probability_theory.ipynb\" target=\"_parent\"><img src=\"https://colab.research.google.com/assets/colab-badge.svg\" alt=\"Open In Colab\"/></a>"
      ]
    },
    {
      "cell_type": "code",
      "source": [],
      "metadata": {
        "id": "7XRVJK7IkFEx"
      },
      "execution_count": null,
      "outputs": []
    },
    {
      "cell_type": "code",
      "source": [
        "#Sample Space, Outcomes and Events\n",
        "import random\n",
        "\n",
        "# Sample space\n",
        "coin = [\"H\", \"T\"]\n",
        "die = [1, 2, 3, 4, 5, 6]\n",
        "sample_space = [(c, d) for c in coin for d in die]\n",
        "\n",
        "# Simulating one trial\n",
        "def experiment():\n",
        "    toss = random.choice(coin)\n",
        "    roll = random.choice(die)\n",
        "    return (toss, roll)\n",
        "\n",
        "# Running a single trial\n",
        "outcome = experiment()\n",
        "print(f\"Outcome: {outcome}\")\n",
        "print(f\"Sample Space: {sample_space}\")\n",
        "\n",
        "# Checking event occurrences\n",
        "event_A = [pair for pair in sample_space if pair[0] == \"H\"]\n",
        "event_B = [pair for pair in sample_space if pair[1] % 2 == 0]\n",
        "event_C = [pair for pair in sample_space if pair == (\"T\", 5)]\n",
        "\n",
        "print(f\"Event A (Getting Heads): {event_A}\")\n",
        "print(f\"Event B (Rolling Even Number): {event_B}\")\n",
        "print(f\"Event C (Tails & Rolling 5): {event_C}\")"
      ],
      "metadata": {
        "colab": {
          "base_uri": "https://localhost:8080/"
        },
        "id": "aiYSXNZZrXJh",
        "outputId": "33bb56ce-9720-4c30-f83f-2cbd187f3c79"
      },
      "execution_count": null,
      "outputs": [
        {
          "output_type": "stream",
          "name": "stdout",
          "text": [
            "Outcome: ('T', 2)\n",
            "Sample Space: [('H', 1), ('H', 2), ('H', 3), ('H', 4), ('H', 5), ('H', 6), ('T', 1), ('T', 2), ('T', 3), ('T', 4), ('T', 5), ('T', 6)]\n",
            "Event A (Getting Heads): [('H', 1), ('H', 2), ('H', 3), ('H', 4), ('H', 5), ('H', 6)]\n",
            "Event B (Rolling Even Number): [('H', 2), ('H', 4), ('H', 6), ('T', 2), ('T', 4), ('T', 6)]\n",
            "Event C (Tails & Rolling 5): [('T', 5)]\n"
          ]
        }
      ]
    },
    {
      "cell_type": "code",
      "source": [
        "#Sample Space, Outcomes and Events\n",
        "import random\n",
        "\n",
        "# Defining the sample space\n",
        "traffic_lights = [\"Red\", \"Yellow\", \"Green\"]\n",
        "pedestrians = [\"Yes\", \"No\"]\n",
        "\n",
        "# Generating all possible outcomes\n",
        "sample_space = [(light, ped) for light in traffic_lights for ped in pedestrians]\n",
        "\n",
        "# Simulating an AI decision\n",
        "def self_driving_ai():\n",
        "    light = random.choice(traffic_lights)\n",
        "    pedestrian = random.choice(pedestrians)\n",
        "\n",
        "    # AI stopping rule\n",
        "    stop = (light == \"Red\") or (pedestrian == \"Yes\")\n",
        "\n",
        "    return (light, pedestrian, \"Stop\" if stop else \"Go\")\n",
        "\n",
        "# Running one simulation\n",
        "outcome = self_driving_ai()\n",
        "\n",
        "# Events\n",
        "event_A = outcome[0] == \"Red\"\n",
        "event_B = outcome[1] == \"Yes\"\n",
        "event_C = outcome[2] == \"Stop\"\n",
        "\n",
        "# Printing results\n",
        "print(f\"Sample Space: {sample_space}\")\n",
        "print(f\"Outcome: {outcome}\")\n",
        "print(f\"Event A (Light is Red): {event_A}\")\n",
        "print(f\"Event B (Pedestrian Present): {event_B}\")\n",
        "print(f\"Event C (Car Stops): {event_C}\")\n"
      ],
      "metadata": {
        "colab": {
          "base_uri": "https://localhost:8080/"
        },
        "id": "td4SDXXAr6IF",
        "outputId": "0e52d5fb-e4e2-4085-e853-fc0faceae6da"
      },
      "execution_count": null,
      "outputs": [
        {
          "output_type": "stream",
          "name": "stdout",
          "text": [
            "Sample Space: [('Red', 'Yes'), ('Red', 'No'), ('Yellow', 'Yes'), ('Yellow', 'No'), ('Green', 'Yes'), ('Green', 'No')]\n",
            "Outcome: ('Red', 'No', 'Stop')\n",
            "Event A (Light is Red): True\n",
            "Event B (Pedestrian Present): False\n",
            "Event C (Car Stops): True\n"
          ]
        }
      ]
    },
    {
      "cell_type": "code",
      "source": [
        "import random\n",
        "\n",
        "# Independent Events: Drawing Cards WITH Replacement\n",
        "def draw_with_replacement():\n",
        "    deck = [\"Red\", \"Red\", \"Black\", \"Black\"]  # 2 Red, 2 Black\n",
        "    first_draw = random.choice(deck)  # Draw first card\n",
        "    second_draw = random.choice(deck)  # Draw second card (same probabilities)\n",
        "\n",
        "    # Probabilities remain unchanged\n",
        "    P_red = deck.count(\"Red\") / len(deck)  # 2/4 = 0.5\n",
        "    P_black = deck.count(\"Black\") / len(deck)  # 2/4 = 0.5\n",
        "\n",
        "    print(\"🔹 Independent Events: Drawing With Replacement\")\n",
        "    print(f\"First draw: {first_draw}\")\n",
        "    print(f\"Second draw: {second_draw}\")\n",
        "    print(f\"P(Red) = {P_red:.2f}, P(Black) = {P_black:.2f}\")\n",
        "    print(\"Probability remains unchanged because the card is put back.\\n\")\n",
        "\n",
        "# Dependent Events: Drawing Cards WITHOUT Replacement\n",
        "def draw_without_replacement():\n",
        "    deck = [\"Red\", \"Red\", \"Black\", \"Black\"]  # 2 Red, 2 Black\n",
        "    first_draw = random.choice(deck)  # Draw first card\n",
        "    deck.remove(first_draw)  # Remove it (no replacement)\n",
        "\n",
        "    # Updated probabilities after first draw\n",
        "    P_red_first = 2/4  # 2 red cards in 4\n",
        "    P_black_first = 2/4  # 2 black cards in 4\n",
        "\n",
        "    P_red_second = deck.count(\"Red\") / len(deck)  # Updated probability\n",
        "    P_black_second = deck.count(\"Black\") / len(deck)  # Updated probability\n",
        "\n",
        "    second_draw = random.choice(deck)  # Draw second card\n",
        "\n",
        "    print(\"🔹 Dependent Events: Drawing Without Replacement\")\n",
        "    print(f\"First draw: {first_draw}\")\n",
        "    print(f\"Second draw: {second_draw}\")\n",
        "    print(f\"P(Red first) = {P_red_first:.2f}, P(Black first) = {P_black_first:.2f}\")\n",
        "    print(f\"P(Red second | First draw) = {P_red_second:.2f}, P(Black second | First draw) = {P_black_second:.2f}\")\n",
        "    print(\"Probability changes because the first card is not put back.\\n\")\n",
        "\n",
        "# Run the functions\n",
        "draw_with_replacement()\n",
        "draw_without_replacement()"
      ],
      "metadata": {
        "id": "eAxHldy2wf6b",
        "outputId": "fa96fa77-e036-40a8-b404-3371c5f521c8",
        "colab": {
          "base_uri": "https://localhost:8080/"
        }
      },
      "execution_count": null,
      "outputs": [
        {
          "output_type": "stream",
          "name": "stdout",
          "text": [
            "🔹 Independent Events: Drawing With Replacement\n",
            "First draw: Black\n",
            "Second draw: Black\n",
            "P(Red) = 0.50, P(Black) = 0.50\n",
            "Probability remains unchanged because the card is put back.\n",
            "\n",
            "🔹 Dependent Events: Drawing Without Replacement\n",
            "First draw: Red\n",
            "Second draw: Black\n",
            "P(Red first) = 0.50, P(Black first) = 0.50\n",
            "P(Red second | First draw) = 0.33, P(Black second | First draw) = 0.67\n",
            "Probability changes because the first card is not put back.\n",
            "\n"
          ]
        }
      ]
    },
    {
      "cell_type": "code",
      "execution_count": null,
      "metadata": {
        "colab": {
          "base_uri": "https://localhost:8080/"
        },
        "id": "d9Zfaa3YVd8V",
        "outputId": "e6d8a080-492a-4bd1-bb64-2d039d7b9e7e"
      },
      "outputs": [
        {
          "output_type": "stream",
          "name": "stdout",
          "text": [
            "Addition Rule in Probability Demonstration\n",
            "Total students: 8\n",
            "P(Math) 0.5\n",
            "P(Science) 0.625\n",
            "P(Both Math & Science) 0.25\n",
            "P(Either Math or Science) = P(Math) + P(Science) - P(Both) 0.875\n"
          ]
        }
      ],
      "source": [
        "# Addition Rule\n",
        "\n",
        "import random\n",
        "\n",
        "# Simulated students with their preferences\n",
        "students = [\n",
        "    {\"name\": \"Amit\", \"likes_math\": True, \"likes_science\": False},\n",
        "    {\"name\": \"Priya\", \"likes_math\": True, \"likes_science\": True},\n",
        "    {\"name\": \"Raj\", \"likes_math\": False, \"likes_science\": True},\n",
        "    {\"name\": \"Sara\", \"likes_math\": True, \"likes_science\": False},\n",
        "    {\"name\": \"Vikram\", \"likes_math\": False, \"likes_science\": True},\n",
        "    {\"name\": \"Neha\", \"likes_math\": True, \"likes_science\": True},\n",
        "    {\"name\": \"Rahul\", \"likes_math\": False, \"likes_science\": False},\n",
        "    {\"name\": \"Anita\", \"likes_math\": False, \"likes_science\": True},\n",
        "]\n",
        "\n",
        "# Count occurrences\n",
        "total_students = len(students)\n",
        "likes_math = sum(1 for s in students if s[\"likes_math\"])\n",
        "likes_science = sum(1 for s in students if s[\"likes_science\"])\n",
        "likes_both = sum(1 for s in students if s[\"likes_math\"] and s[\"likes_science\"])\n",
        "\n",
        "# Calculate probabilities\n",
        "P_math = likes_math / total_students\n",
        "P_science = likes_science / total_students\n",
        "P_both = likes_both / total_students\n",
        "P_either = P_math + P_science - P_both  # Applying the Addition Rule\n",
        "\n",
        "# Print results\n",
        "print(\"Addition Rule in Probability Demonstration\")\n",
        "print(\"Total students:\", total_students)\n",
        "print(\"P(Math)\", P_math)\n",
        "print(\"P(Science)\", P_science)\n",
        "print(\"P(Both Math & Science)\", P_both)\n",
        "print(\"P(Either Math or Science) = P(Math) + P(Science) - P(Both)\", P_either)\n"
      ]
    },
    {
      "cell_type": "code",
      "source": [
        "# Multplication Rule\n",
        "\n",
        "import random\n",
        "\n",
        "def draw_with_replacement():\n",
        "    deck = [\"A\", \"B\", \"C\", \"D\"]\n",
        "    first_card = random.choice(deck)\n",
        "    second_card = random.choice(deck)  # Can be the same as first_card\n",
        "    P_A = 1 / 4  # Probability of drawing any specific card (since there are 4)\n",
        "    P_B_given_A = 1 / 4  # Still 1/4 since the card is replaced\n",
        "    P_A_and_B = P_A * P_B_given_A  # Independent events\n",
        "    print(f\"With Replacement: P(A and B) = {P_A:.2f} × {P_B_given_A:.2f} = {P_A_and_B:.2f}\")\n",
        "\n",
        "def draw_without_replacement():\n",
        "    deck = [\"A\", \"B\", \"C\", \"D\"]\n",
        "    first_card = random.choice(deck)\n",
        "    deck.remove(first_card)  # Remove first drawn card from the deck\n",
        "    second_card = random.choice(deck)  # Cannot be the same as first_card\n",
        "    P_A = 1 / 4  # Probability of drawing any specific card\n",
        "    P_B_given_A = 1 / 3  # Now only 3 choices left\n",
        "    P_A_and_B = P_A * P_B_given_A  # Dependent events\n",
        "    print(f\"Without Replacement: P(A and B) = {P_A:.2f} × {P_B_given_A:.2f} = {P_A_and_B:.2f}\")\n",
        "\n",
        "# Run both functions\n",
        "draw_with_replacement()\n",
        "draw_without_replacement()\n",
        "\n"
      ],
      "metadata": {
        "colab": {
          "base_uri": "https://localhost:8080/"
        },
        "id": "U_-y6aW6V8gS",
        "outputId": "ced06c31-3ca2-4ad0-813a-e0dfbfc95eb3"
      },
      "execution_count": null,
      "outputs": [
        {
          "output_type": "stream",
          "name": "stdout",
          "text": [
            "With Replacement: P(A and B) = 0.25 × 0.25 = 0.06\n",
            "Without Replacement: P(A and B) = 0.25 × 0.33 = 0.08\n"
          ]
        }
      ]
    },
    {
      "cell_type": "code",
      "source": [
        "import random\n",
        "\n",
        "# Independent Events: Drawing Cards WITH Replacement\n",
        "def draw_with_replacement():\n",
        "    deck = [\"Red\", \"Red\", \"Black\", \"Black\"]  # 2 Red, 2 Black\n",
        "    first_draw = random.choice(deck)  # Draw first card\n",
        "    second_draw = random.choice(deck)  # Draw second card (same probabilities)\n",
        "\n",
        "    # Probabilities remain unchanged\n",
        "    P_red = deck.count(\"Red\") / len(deck)  # 2/4 = 0.5\n",
        "    P_black = deck.count(\"Black\") / len(deck)  # 2/4 = 0.5\n",
        "\n",
        "    print(\"🔹 Independent Events: Drawing With Replacement\")\n",
        "    print(f\"First draw: {first_draw}\")\n",
        "    print(f\"Second draw: {second_draw}\")\n",
        "    print(f\"P(Red) = {P_red:.2f}, P(Black) = {P_black:.2f}\")\n",
        "    print(\"Probability remains unchanged because the card is put back.\\n\")\n",
        "\n",
        "# Dependent Events: Drawing Cards WITHOUT Replacement\n",
        "def draw_without_replacement():\n",
        "    deck = [\"Red\", \"Red\", \"Black\", \"Black\"]  # 2 Red, 2 Black\n",
        "    first_draw = random.choice(deck)  # Draw first card\n",
        "    deck.remove(first_draw)  # Remove it (no replacement)\n",
        "\n",
        "    # Updated probabilities after first draw\n",
        "    P_red_first = 2/4  # 2 red cards in 4\n",
        "    P_black_first = 2/4  # 2 black cards in 4\n",
        "\n",
        "    P_red_second = deck.count(\"Red\") / len(deck)  # Updated probability\n",
        "    P_black_second = deck.count(\"Black\") / len(deck)  # Updated probability\n",
        "\n",
        "    second_draw = random.choice(deck)  # Draw second card\n",
        "\n",
        "    print(\"🔹 Dependent Events: Drawing Without Replacement\")\n",
        "    print(f\"First draw: {first_draw}\")\n",
        "    print(f\"Second draw: {second_draw}\")\n",
        "    print(f\"P(Red first) = {P_red_first:.2f}, P(Black first) = {P_black_first:.2f}\")\n",
        "    print(f\"P(Red second | First draw) = {P_red_second:.2f}, P(Black second | First draw) = {P_black_second:.2f}\")\n",
        "    print(\"Probability changes because the first card is not put back.\\n\")\n",
        "\n",
        "# Run the functions\n",
        "draw_with_replacement()\n",
        "draw_without_replacement()"
      ],
      "metadata": {
        "id": "I41gkf2h4u-w"
      },
      "execution_count": null,
      "outputs": []
    }
  ]
}