{
  "nbformat": 4,
  "nbformat_minor": 0,
  "metadata": {
    "colab": {
      "provenance": [],
      "include_colab_link": true
    },
    "kernelspec": {
      "name": "python3",
      "display_name": "Python 3"
    },
    "language_info": {
      "name": "python"
    }
  },
  "cells": [
    {
      "cell_type": "markdown",
      "metadata": {
        "id": "view-in-github",
        "colab_type": "text"
      },
      "source": [
        "<a href=\"https://colab.research.google.com/github/pranavkagrawal02/Minor-In-AI-IIT-Ropar/blob/main/Mar_25_inheritance_insertion.ipynb\" target=\"_parent\"><img src=\"https://colab.research.google.com/assets/colab-badge.svg\" alt=\"Open In Colab\"/></a>"
      ]
    },
    {
      "cell_type": "code",
      "execution_count": 1,
      "metadata": {
        "id": "xOkqIa2uZxT_",
        "colab": {
          "base_uri": "https://localhost:8080/"
        },
        "outputId": "33135ee5-8747-4065-e38d-d43abeed0c07"
      },
      "outputs": [
        {
          "output_type": "stream",
          "name": "stdout",
          "text": [
            "Playing Bones by Style\n",
            "3\n",
            "\n",
            "Playing Minor in AI by HS\n",
            "5\n"
          ]
        }
      ],
      "source": [
        "class Audio:\n",
        "  def __init__(self, title):\n",
        "    self.title = title\n",
        "\n",
        "class Song(Audio):\n",
        "  def __init__(self, title, artist):\n",
        "    super().__init__(title)\n",
        "    self.artist = artist\n",
        "    self._duration = 3\n",
        "\n",
        "class Podcast(Audio):\n",
        "  def __init__(self, title, host):\n",
        "    super().__init__(title)\n",
        "    self.host = host\n",
        "    self.__rating = 5\n",
        "\n",
        "  def get_rating(self):\n",
        "    return self.__rating\n",
        "\n",
        "song = Song(\"Bones\", \"Style\")\n",
        "print(\"Playing\", song.title, \"by\", song.artist)\n",
        "print(song._duration)\n",
        "print()\n",
        "p = Podcast(\"Minor in AI\", \"HS\")\n",
        "print(\"Playing\", p.title, \"by\", p.host)\n",
        "print(p.get_rating())"
      ]
    }
  ]
}