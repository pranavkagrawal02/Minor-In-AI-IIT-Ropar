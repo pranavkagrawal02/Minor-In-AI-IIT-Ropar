{
  "nbformat": 4,
  "nbformat_minor": 0,
  "metadata": {
    "colab": {
      "provenance": [],
      "include_colab_link": true
    },
    "kernelspec": {
      "name": "python3",
      "display_name": "Python 3"
    },
    "language_info": {
      "name": "python"
    }
  },
  "cells": [
    {
      "cell_type": "markdown",
      "metadata": {
        "id": "view-in-github",
        "colab_type": "text"
      },
      "source": [
        "<a href=\"https://colab.research.google.com/github/pranavkagrawal02/Minor-In-AI-IIT-Ropar/blob/main/Feb_20_Tutorial%20Session_TAsession_20thFeb2025.ipynb\" target=\"_parent\"><img src=\"https://colab.research.google.com/assets/colab-badge.svg\" alt=\"Open In Colab\"/></a>"
      ]
    },
    {
      "cell_type": "code",
      "source": [
        "\n",
        "# Single Linked List\n",
        "class Node:\n",
        "    def __init__(self, data):\n",
        "        self.data = data\n",
        "        self.next = None\n",
        "\n",
        "    def __repr__(self):\n",
        "        return self.data\n",
        "\n",
        "class LinkedList:\n",
        "    def __init__(self):\n",
        "        self.head = None\n",
        "\n",
        "    def __repr__(self):\n",
        "        node = self.head\n",
        "        nodes = []\n",
        "        while node is not None:\n",
        "            nodes.append(str(node.data))\n",
        "            node = node.next\n",
        "        return \" -> \".join(nodes)\n",
        "\n",
        "    def add_first(self, node):\n",
        "      node.next = self.head\n",
        "      self.head = node\n",
        "\n",
        "    def add_last(self, node):\n",
        "      if not self.head:\n",
        "        self.head = node\n",
        "        return\n",
        "      for current_node in self: # iterates to the last node of the linkedlist\n",
        "        pass\n",
        "      current_node.next = node\n",
        "\n",
        "    def __iter__(self):\n",
        "      node = self.head\n",
        "      while node is not None:\n",
        "        yield node\n",
        "        node = node.next"
      ],
      "metadata": {
        "id": "xJCU52ktJ90C"
      },
      "execution_count": null,
      "outputs": []
    },
    {
      "cell_type": "code",
      "source": [
        "l1 = LinkedList()\n",
        "l1.add_first(Node(12))\n",
        "l1.add_last(Node(-2))\n",
        "l1"
      ],
      "metadata": {
        "colab": {
          "base_uri": "https://localhost:8080/"
        },
        "id": "QgtssAJjjDD3",
        "outputId": "b52b0ea7-69ab-4b2b-87da-4b90d7e5987d"
      },
      "execution_count": null,
      "outputs": [
        {
          "output_type": "execute_result",
          "data": {
            "text/plain": [
              "12 -> -2"
            ]
          },
          "metadata": {},
          "execution_count": 71
        }
      ]
    },
    {
      "cell_type": "code",
      "source": [
        "llist = LinkedList()\n",
        "llist.add_first(Node(12))\n",
        "llist\n"
      ],
      "metadata": {
        "colab": {
          "base_uri": "https://localhost:8080/"
        },
        "id": "kzxx3mFfKFKX",
        "outputId": "43f67486-b2b5-4452-8b18-d54dab8d83e6"
      },
      "execution_count": null,
      "outputs": [
        {
          "output_type": "stream",
          "name": "stdout",
          "text": [
            "12\n"
          ]
        }
      ]
    },
    {
      "cell_type": "code",
      "source": [
        "llist.add_first(Node(23))"
      ],
      "metadata": {
        "id": "jbWw76-GKuH5"
      },
      "execution_count": null,
      "outputs": []
    },
    {
      "cell_type": "code",
      "source": [
        "llist"
      ],
      "metadata": {
        "colab": {
          "base_uri": "https://localhost:8080/"
        },
        "id": "fkKru_VrKwgR",
        "outputId": "272159b8-1063-42e5-a07a-08dbc687ce37"
      },
      "execution_count": null,
      "outputs": [
        {
          "output_type": "execute_result",
          "data": {
            "text/plain": [
              "23 -> 12"
            ]
          },
          "metadata": {},
          "execution_count": 15
        }
      ]
    },
    {
      "cell_type": "code",
      "source": [
        "llist.add_last(Node(34))"
      ],
      "metadata": {
        "id": "GJyGRCeFK4rP"
      },
      "execution_count": null,
      "outputs": []
    },
    {
      "cell_type": "code",
      "source": [
        "llist"
      ],
      "metadata": {
        "colab": {
          "base_uri": "https://localhost:8080/"
        },
        "id": "pwVKhMW7K7P7",
        "outputId": "38d90184-7360-425f-eb30-ccf3d14e9e94"
      },
      "execution_count": null,
      "outputs": [
        {
          "output_type": "execute_result",
          "data": {
            "text/plain": [
              "23 -> 12 -> 34"
            ]
          },
          "metadata": {},
          "execution_count": 17
        }
      ]
    },
    {
      "cell_type": "code",
      "source": [
        "# llist.__repr__()"
      ],
      "metadata": {
        "colab": {
          "base_uri": "https://localhost:8080/",
          "height": 36
        },
        "id": "dx-z-WnVKqZD",
        "outputId": "bf887626-bd9e-4c3c-e6b1-fdc44d48c495"
      },
      "execution_count": null,
      "outputs": [
        {
          "output_type": "execute_result",
          "data": {
            "text/plain": [
              "'12'"
            ],
            "application/vnd.google.colaboratory.intrinsic+json": {
              "type": "string"
            }
          },
          "metadata": {},
          "execution_count": 13
        }
      ]
    },
    {
      "cell_type": "code",
      "source": [
        "Node(1).__repr__()"
      ],
      "metadata": {
        "colab": {
          "base_uri": "https://localhost:8080/"
        },
        "id": "ORAxWlGqKMEx",
        "outputId": "4b44a258-7e81-418d-b155-2127231c2afc"
      },
      "execution_count": null,
      "outputs": [
        {
          "output_type": "execute_result",
          "data": {
            "text/plain": [
              "1"
            ]
          },
          "metadata": {},
          "execution_count": 10
        }
      ]
    },
    {
      "cell_type": "code",
      "source": [
        "# tuple\n",
        "var1 = (1,2,3,4)"
      ],
      "metadata": {
        "id": "JTF7keCqMGra"
      },
      "execution_count": null,
      "outputs": []
    },
    {
      "cell_type": "code",
      "source": [
        "var1"
      ],
      "metadata": {
        "colab": {
          "base_uri": "https://localhost:8080/"
        },
        "id": "8s-2VH1vMViq",
        "outputId": "f15b23fc-7969-46f4-d1b8-cd1f1bee56e3"
      },
      "execution_count": null,
      "outputs": [
        {
          "output_type": "execute_result",
          "data": {
            "text/plain": [
              "(1, 2, 3, 4)"
            ]
          },
          "metadata": {},
          "execution_count": 25
        }
      ]
    },
    {
      "cell_type": "code",
      "source": [
        "var2 = (1,)"
      ],
      "metadata": {
        "id": "ihj6hjvqMmRS"
      },
      "execution_count": null,
      "outputs": []
    },
    {
      "cell_type": "code",
      "source": [
        "var2"
      ],
      "metadata": {
        "colab": {
          "base_uri": "https://localhost:8080/"
        },
        "id": "WqgGvqo0Mn8_",
        "outputId": "64f13a34-446c-4e35-cf02-e2064f3f86ec"
      },
      "execution_count": null,
      "outputs": [
        {
          "output_type": "execute_result",
          "data": {
            "text/plain": [
              "(1,)"
            ]
          },
          "metadata": {},
          "execution_count": 27
        }
      ]
    },
    {
      "cell_type": "code",
      "source": [
        "var3 = (1)"
      ],
      "metadata": {
        "id": "NjyI_FGwMqkX"
      },
      "execution_count": null,
      "outputs": []
    },
    {
      "cell_type": "code",
      "source": [
        "var3"
      ],
      "metadata": {
        "colab": {
          "base_uri": "https://localhost:8080/"
        },
        "id": "tiMTqkIIMr46",
        "outputId": "63acca43-9afa-4725-e4a1-838fd0802188"
      },
      "execution_count": null,
      "outputs": [
        {
          "output_type": "execute_result",
          "data": {
            "text/plain": [
              "1"
            ]
          },
          "metadata": {},
          "execution_count": 29
        }
      ]
    },
    {
      "cell_type": "code",
      "source": [
        "# basically to avoid accidental changes in some data\n",
        "import var1 from program2file\n",
        "tuple(var1_)"
      ],
      "metadata": {
        "id": "0Jlh9O71Mu-R"
      },
      "execution_count": null,
      "outputs": []
    },
    {
      "cell_type": "code",
      "source": [
        "list1 = [1,2,3] # sensitive data # imported from python2file\n",
        "l2 =tuple(list1)"
      ],
      "metadata": {
        "id": "fHhSOywTNIAp"
      },
      "execution_count": null,
      "outputs": []
    },
    {
      "cell_type": "code",
      "source": [
        "l2 += 1"
      ],
      "metadata": {
        "colab": {
          "base_uri": "https://localhost:8080/",
          "height": 144
        },
        "id": "4LT-nPKtNW6Q",
        "outputId": "009477ba-fe24-4887-b06d-7de27e602f0c"
      },
      "execution_count": null,
      "outputs": [
        {
          "output_type": "error",
          "ename": "TypeError",
          "evalue": "can only concatenate tuple (not \"int\") to tuple",
          "traceback": [
            "\u001b[0;31m---------------------------------------------------------------------------\u001b[0m",
            "\u001b[0;31mTypeError\u001b[0m                                 Traceback (most recent call last)",
            "\u001b[0;32m<ipython-input-34-f985de0e66a7>\u001b[0m in \u001b[0;36m<cell line: 0>\u001b[0;34m()\u001b[0m\n\u001b[0;32m----> 1\u001b[0;31m \u001b[0ml2\u001b[0m \u001b[0;34m+=\u001b[0m \u001b[0;36m1\u001b[0m\u001b[0;34m\u001b[0m\u001b[0;34m\u001b[0m\u001b[0m\n\u001b[0m",
            "\u001b[0;31mTypeError\u001b[0m: can only concatenate tuple (not \"int\") to tuple"
          ]
        }
      ]
    },
    {
      "cell_type": "code",
      "source": [
        "\n",
        "# length of linked list"
      ],
      "metadata": {
        "id": "6tKeEuO0N1Aj"
      },
      "execution_count": null,
      "outputs": []
    },
    {
      "cell_type": "code",
      "source": [
        "# prompt: create a singly linked list with 3 nodes\n",
        "\n",
        "# Create 3 nodes\n",
        "node1 = Node(1)\n",
        "node2 = Node(2)\n",
        "node3 = Node(4)\n",
        "node4 = Node(5)\n",
        "node5 = Node(7)\n",
        "\n",
        "# Create a linked list\n",
        "llist = LinkedList()\n",
        "\n",
        "# Add the nodes to the linked list\n",
        "llist.add_last(node1)\n",
        "llist.add_last(node2)\n",
        "llist.add_last(node3)\n",
        "llist.add_last(node4)\n",
        "llist.add_last(node5)\n",
        "\n",
        "# Print the linked list\n",
        "llist\n"
      ],
      "metadata": {
        "colab": {
          "base_uri": "https://localhost:8080/"
        },
        "id": "2LTBc6glN6Ap",
        "outputId": "8d108d79-819c-4001-a9f9-7dc53b9888ca"
      },
      "execution_count": null,
      "outputs": [
        {
          "output_type": "execute_result",
          "data": {
            "text/plain": [
              "1 -> 2 -> 4 -> 5 -> 7"
            ]
          },
          "metadata": {},
          "execution_count": 44
        }
      ]
    },
    {
      "cell_type": "code",
      "source": [
        "# 1st element\n",
        "# 1. traverse all nodes (find length of linked list = n)\n",
        "# 2. find middle element which is at index n//2\n",
        "def findMiddleElementOfLinkedList1(list1): # list1 is linkedlist\n",
        "    counter = 0\n",
        "    curr = list1.head\n",
        "    while (curr.next != None):\n",
        "        curr = curr.next\n",
        "        counter += 1\n",
        "    curr = list1.head\n",
        "    for i in range(counter//2):\n",
        "        curr = curr.next\n",
        "    return curr.data"
      ],
      "metadata": {
        "id": "O5aotqZQOObh"
      },
      "execution_count": null,
      "outputs": []
    },
    {
      "cell_type": "code",
      "source": [
        "findMiddleElementOfLinkedList1(llist)"
      ],
      "metadata": {
        "colab": {
          "base_uri": "https://localhost:8080/"
        },
        "id": "QWCAkbVXRFla",
        "outputId": "df838f2b-74a3-4183-96e7-5c2ed8d8f585"
      },
      "execution_count": null,
      "outputs": [
        {
          "output_type": "execute_result",
          "data": {
            "text/plain": [
              "4"
            ]
          },
          "metadata": {},
          "execution_count": 48
        }
      ]
    },
    {
      "cell_type": "code",
      "source": [
        "# 2nd implementation\n",
        "# 2 pointers (p is slow pointer, q is fast pointer)\n",
        "def findMiddleElementOfLinkedList2(list1): # list1 is linkedlist\n",
        "    p = q = list1.head\n",
        "    # counter = 0\n",
        "    if not q or not q:\n",
        "        return q\n",
        "\n",
        "    while (q!= None and q.next != None):\n",
        "        q = q.next.next\n",
        "        p = p.next\n",
        "        # counter+=1\n",
        "    return p.data\n",
        "\n",
        "    # curr = list1.head\n",
        "    # for i in range(counter//2):\n",
        "    #     curr = curr.next\n",
        "    # return curr.data"
      ],
      "metadata": {
        "id": "HRXoIJJfSJEa"
      },
      "execution_count": null,
      "outputs": []
    },
    {
      "cell_type": "code",
      "source": [
        "findMiddleElementOfLinkedList2(llist)"
      ],
      "metadata": {
        "colab": {
          "base_uri": "https://localhost:8080/"
        },
        "id": "3BdQDdeOS6n7",
        "outputId": "e2beba6b-31d2-4cc6-ad21-586a14d0c4de"
      },
      "execution_count": null,
      "outputs": [
        {
          "output_type": "execute_result",
          "data": {
            "text/plain": [
              "4"
            ]
          },
          "metadata": {},
          "execution_count": 58
        }
      ]
    },
    {
      "cell_type": "code",
      "source": [
        "llist1 = LinkedList()\n",
        "llist1.add_last(Node(1))\n",
        "llist1"
      ],
      "metadata": {
        "colab": {
          "base_uri": "https://localhost:8080/"
        },
        "id": "TE4Jh2mchZf2",
        "outputId": "668b74ab-7688-475b-aa73-e786d0e34bd1"
      },
      "execution_count": null,
      "outputs": [
        {
          "output_type": "execute_result",
          "data": {
            "text/plain": [
              "1"
            ]
          },
          "metadata": {},
          "execution_count": 60
        }
      ]
    },
    {
      "cell_type": "code",
      "source": [
        "findMiddleElementOfLinkedList2(llist1) # only 1 node present therefore 1st node's value returned"
      ],
      "metadata": {
        "colab": {
          "base_uri": "https://localhost:8080/"
        },
        "id": "CJpGcCRnht5n",
        "outputId": "9cb49518-ee1e-47f1-9cf3-34784b95adfb"
      },
      "execution_count": null,
      "outputs": [
        {
          "output_type": "execute_result",
          "data": {
            "text/plain": [
              "1"
            ]
          },
          "metadata": {},
          "execution_count": 62
        }
      ]
    },
    {
      "cell_type": "code",
      "source": [
        "llist2 = LinkedList()\n",
        "llist2.add_last(Node(-1))\n",
        "llist2.add_last(Node(23))\n",
        "llist2"
      ],
      "metadata": {
        "colab": {
          "base_uri": "https://localhost:8080/"
        },
        "id": "eoCwPHpRh76O",
        "outputId": "0ccf2e6d-7073-4cc4-eed6-7c41eb3677a3"
      },
      "execution_count": null,
      "outputs": [
        {
          "output_type": "execute_result",
          "data": {
            "text/plain": [
              "-1 -> 23"
            ]
          },
          "metadata": {},
          "execution_count": 64
        }
      ]
    },
    {
      "cell_type": "code",
      "source": [
        "findMiddleElementOfLinkedList2(llist2)\n",
        "# only 2 nodes present, so, for middle element 2nd element returns\n",
        "# (for all even length linked lists the 2nd middle element will be returned by this algo)"
      ],
      "metadata": {
        "colab": {
          "base_uri": "https://localhost:8080/"
        },
        "id": "aCz5QP2Ih69L",
        "outputId": "7e981e4c-6726-43aa-8f10-cbbde574a270"
      },
      "execution_count": null,
      "outputs": [
        {
          "output_type": "execute_result",
          "data": {
            "text/plain": [
              "23"
            ]
          },
          "metadata": {},
          "execution_count": 68
        }
      ]
    },
    {
      "cell_type": "code",
      "source": [
        "llist3 = LinkedList()\n",
        "llist3.add_last(Node(-1))\n",
        "llist3.add_last(Node(23))\n",
        "llist3.add_last(Node(-2))\n",
        "llist3.add_last(Node(-3))\n",
        "llist3"
      ],
      "metadata": {
        "colab": {
          "base_uri": "https://localhost:8080/"
        },
        "id": "PBt8AqRTihQd",
        "outputId": "fcf68354-1d62-43f4-eabd-87304d1dc666"
      },
      "execution_count": null,
      "outputs": [
        {
          "output_type": "execute_result",
          "data": {
            "text/plain": [
              "-1 -> 23 -> -2 -> -3"
            ]
          },
          "metadata": {},
          "execution_count": 69
        }
      ]
    },
    {
      "cell_type": "code",
      "source": [
        "findMiddleElementOfLinkedList2(llist3) # 2nd middle element returned for even length linked list"
      ],
      "metadata": {
        "colab": {
          "base_uri": "https://localhost:8080/"
        },
        "id": "wk8uhS4Fiost",
        "outputId": "5af109ca-4c9b-4dc0-abe3-09eee59127d2"
      },
      "execution_count": null,
      "outputs": [
        {
          "output_type": "execute_result",
          "data": {
            "text/plain": [
              "-2"
            ]
          },
          "metadata": {},
          "execution_count": 70
        }
      ]
    }
  ]
}