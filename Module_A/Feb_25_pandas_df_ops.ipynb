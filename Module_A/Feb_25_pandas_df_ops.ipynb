{
  "nbformat": 4,
  "nbformat_minor": 0,
  "metadata": {
    "colab": {
      "provenance": [],
      "include_colab_link": true
    },
    "kernelspec": {
      "name": "python3",
      "display_name": "Python 3"
    },
    "language_info": {
      "name": "python"
    }
  },
  "cells": [
    {
      "cell_type": "markdown",
      "metadata": {
        "id": "view-in-github",
        "colab_type": "text"
      },
      "source": [
        "<a href=\"https://colab.research.google.com/github/pranavkagrawal02/Minor-In-AI-IIT-Ropar/blob/main/Feb_25_pandas_df_ops.ipynb\" target=\"_parent\"><img src=\"https://colab.research.google.com/assets/colab-badge.svg\" alt=\"Open In Colab\"/></a>"
      ]
    },
    {
      "cell_type": "code",
      "source": [],
      "metadata": {
        "id": "3pZN5RLX_W_G"
      },
      "execution_count": null,
      "outputs": []
    },
    {
      "cell_type": "code",
      "execution_count": null,
      "metadata": {
        "colab": {
          "base_uri": "https://localhost:8080/"
        },
        "id": "BWeLlWC3mvCC",
        "outputId": "64afde95-fa4e-4229-ba3e-3a44fbe10e0d"
      },
      "outputs": [
        {
          "output_type": "stream",
          "name": "stdout",
          "text": [
            "Original DataFrame:\n",
            "   col1 col2  col3\n",
            "0     1    A    10\n",
            "1     2    B    20\n",
            "2     2    B    20\n",
            "3     3    C    30\n",
            "4     4    D    40\n",
            "5     4    D    40\n",
            "6     4    D    40\n",
            "\n",
            "DataFrame with duplicates removed (all columns):\n",
            "   col1 col2  col3\n",
            "0     1    A    10\n",
            "1     2    B    20\n",
            "3     3    C    30\n",
            "4     4    D    40\n"
          ]
        }
      ],
      "source": [
        "# prompt: case to handle the dropping duplicates\n",
        "\n",
        "import pandas as pd\n",
        "\n",
        "# Create a sample DataFrame with duplicate rows\n",
        "data = {'col1': [1, 2, 2, 3, 4, 4, 4],\n",
        "        'col2': ['A', 'B', 'B', 'C', 'D', 'D', 'D'],\n",
        "        'col3': [10, 20, 20, 30, 40, 40, 40]}\n",
        "df = pd.DataFrame(data)\n",
        "\n",
        "# Print the original DataFrame\n",
        "print(\"Original DataFrame:\")\n",
        "print(df)\n",
        "\n",
        "# Drop duplicate rows based on all columns\n",
        "df_no_duplicates = df.drop_duplicates()\n",
        "\n",
        "# Print the DataFrame with duplicates removed\n",
        "print(\"\\nDataFrame with duplicates removed (all columns):\")\n",
        "print(df_no_duplicates)\n"
      ]
    },
    {
      "cell_type": "code",
      "source": [
        "# prompt: simple pandas program to demo the str.replace()\n",
        "\n",
        "import pandas as pd\n",
        "\n",
        "# Sample DataFrame\n",
        "data = {'col1': ['apple', 'banana', 'cherry'],\n",
        "        'col2': ['apple pie', 'banana bread', 'cherry cake']}\n",
        "df = pd.DataFrame(data)\n",
        "\n",
        "print(df, \"\\n\")\n",
        "\n",
        "# Replace 'apple' with 'orange'\n",
        "df['col1'] = df['col1'].str.replace('apple', 'orange')\n",
        "df['col2'] = df['col2'].str.replace('apple', 'orange')\n",
        "\n",
        "print(df, \"\\n\")\n",
        "\n",
        "# Replace 'pie' with 'tart' in 'col2'\n",
        "df['col2'] = df['col2'].str.replace('pie', 'tart')\n",
        "\n",
        "print(df, \"\\n\")\n"
      ],
      "metadata": {
        "colab": {
          "base_uri": "https://localhost:8080/"
        },
        "id": "e11IR2x14tlc",
        "outputId": "7d24d6ce-fc79-456e-91b8-4072f28a29db"
      },
      "execution_count": null,
      "outputs": [
        {
          "output_type": "stream",
          "name": "stdout",
          "text": [
            "     col1          col2\n",
            "0   apple     apple pie\n",
            "1  banana  banana bread\n",
            "2  cherry   cherry cake \n",
            "\n",
            "     col1          col2\n",
            "0  orange    orange pie\n",
            "1  banana  banana bread\n",
            "2  cherry   cherry cake \n",
            "\n",
            "     col1          col2\n",
            "0  orange   orange tart\n",
            "1  banana  banana bread\n",
            "2  cherry   cherry cake \n",
            "\n"
          ]
        }
      ]
    },
    {
      "cell_type": "code",
      "source": [
        "# prompt: simple pandas progrm to add and drop a column\n",
        "\n",
        "import pandas as pd\n",
        "\n",
        "#create a sample dataframe\n",
        "data = {'col1': [1,2], 'col2': [3,4]}\n",
        "df = pd.DataFrame(data)\n",
        "\n",
        "#add a new column\n",
        "df['col3'] = [5,6]\n",
        "print(df, \"\\n\")\n",
        "\n",
        "#drop a column\n",
        "df = df.drop('col3', axis=1)\n",
        "print(df, \"\\n\")\n"
      ],
      "metadata": {
        "colab": {
          "base_uri": "https://localhost:8080/"
        },
        "id": "WBiAQ8625hzD",
        "outputId": "0264bef6-6d66-4f4b-869e-1064d304813d"
      },
      "execution_count": null,
      "outputs": [
        {
          "output_type": "stream",
          "name": "stdout",
          "text": [
            "   col1  col2  col3\n",
            "0     1     3     5\n",
            "1     2     4     6 \n",
            "\n",
            "   col1  col2\n",
            "0     1     3\n",
            "1     2     4 \n",
            "\n"
          ]
        }
      ]
    },
    {
      "cell_type": "code",
      "source": [
        "# prompt: simple pandas program to use map\n",
        "\n",
        "import pandas as pd\n",
        "\n",
        "# Sample DataFrame\n",
        "data = {'item': [1, 2, 3],\n",
        "        'price': [90, 75, 65]}\n",
        "df = pd.DataFrame(data)\n",
        "print(df, \"\\n\")\n",
        "\n",
        "# Define a mapping function\n",
        "def double_value(x):\n",
        "  return x * 0.04\n",
        "\n",
        "# Apply the mapping function to 'col1' using map()\n",
        "df['tax'] = df['price'].map(double_value)\n",
        "\n",
        "print(df)\n"
      ],
      "metadata": {
        "colab": {
          "base_uri": "https://localhost:8080/"
        },
        "id": "Dd1RmjBF536A",
        "outputId": "73c42366-487e-4c0a-9e5f-a9f1e3a18d86"
      },
      "execution_count": null,
      "outputs": [
        {
          "output_type": "stream",
          "name": "stdout",
          "text": [
            "   item  price\n",
            "0     1     90\n",
            "1     2     75\n",
            "2     3     65 \n",
            "\n",
            "   item  price  tax\n",
            "0     1     90  3.6\n",
            "1     2     75  3.0\n",
            "2     3     65  2.6\n"
          ]
        }
      ]
    },
    {
      "cell_type": "code",
      "source": [
        "# prompt: program to demo Sorting  in pandas. take examples of courses and number of students registered\n",
        "\n",
        "import pandas as pd\n",
        "\n",
        "# Sample data for courses and number of students\n",
        "courses = ['Math', 'Science', 'English', 'History', 'Physics']\n",
        "students = [25, 30, 20, 28, 35]\n",
        "\n",
        "# Create a DataFrame\n",
        "df = pd.DataFrame({'Course': courses, 'Students': students})\n",
        "\n",
        "print(\"Original DataFrame:\")\n",
        "print(df)\n",
        "\n",
        "# Sort by the number of students (ascending order)\n",
        "df_sorted_asc = df.sort_values(by='Students')\n",
        "print(\"\\nDataFrame sorted by Students (ascending):\")\n",
        "print(df_sorted_asc)\n",
        "\n",
        "# Sort by course name (descending order)\n",
        "df_sorted_desc = df.sort_values(by='Course', ascending=False)\n",
        "print(\"\\nDataFrame sorted by Course (descending):\")\n",
        "print(df_sorted_desc)\n"
      ],
      "metadata": {
        "colab": {
          "base_uri": "https://localhost:8080/"
        },
        "id": "_bPpQn5G7HL6",
        "outputId": "222f9f78-8458-4b7c-9202-8e007536d583"
      },
      "execution_count": null,
      "outputs": [
        {
          "output_type": "stream",
          "name": "stdout",
          "text": [
            "Original DataFrame:\n",
            "    Course  Students\n",
            "0     Math        25\n",
            "1  Science        30\n",
            "2  English        20\n",
            "3  History        28\n",
            "4  Physics        35\n",
            "\n",
            "DataFrame sorted by Students (ascending):\n",
            "    Course  Students\n",
            "2  English        20\n",
            "0     Math        25\n",
            "3  History        28\n",
            "1  Science        30\n",
            "4  Physics        35\n",
            "\n",
            "DataFrame sorted by Course (descending):\n",
            "    Course  Students\n",
            "1  Science        30\n",
            "4  Physics        35\n",
            "0     Math        25\n",
            "3  History        28\n",
            "2  English        20\n"
          ]
        }
      ]
    }
  ]
}