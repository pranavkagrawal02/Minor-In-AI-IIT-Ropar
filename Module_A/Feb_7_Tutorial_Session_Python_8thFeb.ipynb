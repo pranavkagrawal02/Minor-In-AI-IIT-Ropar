{
  "nbformat": 4,
  "nbformat_minor": 0,
  "metadata": {
    "colab": {
      "provenance": [],
      "include_colab_link": true
    },
    "kernelspec": {
      "name": "python3",
      "display_name": "Python 3"
    },
    "language_info": {
      "name": "python"
    }
  },
  "cells": [
    {
      "cell_type": "markdown",
      "metadata": {
        "id": "view-in-github",
        "colab_type": "text"
      },
      "source": [
        "<a href=\"https://colab.research.google.com/github/pranavkagrawal02/Minor-In-AI-IIT-Ropar/blob/main/Feb_7_Tutorial_Session_Python_8thFeb.ipynb\" target=\"_parent\"><img src=\"https://colab.research.google.com/assets/colab-badge.svg\" alt=\"Open In Colab\"/></a>"
      ]
    },
    {
      "cell_type": "markdown",
      "source": [
        "#Dictionaries\n",
        "\n",
        "It is nothing but key value pairs.\n",
        "- ordered\n",
        "- mutable\n",
        "- keys must be unique\n",
        "\n",
        "Usual representation: {key:value}\n"
      ],
      "metadata": {
        "id": "eiZdq0h15RVY"
      }
    },
    {
      "cell_type": "code",
      "execution_count": null,
      "metadata": {
        "id": "imvQD1I15M3U",
        "colab": {
          "base_uri": "https://localhost:8080/"
        },
        "outputId": "d00a952a-91eb-4b29-f33e-20082d62a3f6"
      },
      "outputs": [
        {
          "output_type": "stream",
          "name": "stdout",
          "text": [
            "<class 'dict'>\n"
          ]
        }
      ],
      "source": [
        "#student here is empty dictionary\n",
        "student ={}\n",
        "print(type(student))\n",
        "\n",
        "#lets add some students\n",
        "student = {\n",
        "    1:\"student1\",\n",
        "    2:\"student2\",\n",
        "    3:\"student3\"\n",
        "}\n",
        "\n",
        "#lets say we want to keep data of a class inside dictionary\n",
        "# Note : 1. We can have dictionary inside dictionary on the place of value , not keys as keys needs too be unique\n",
        "# We can even have a list in place of values\n",
        "# We can conclude that we can use other data structres on the place of value\n",
        "class_Batch4 = {\n",
        "    \"Ram\": {\n",
        "        \"Roll No\" : 1,\n",
        "        \"Present\" : True,\n",
        "        \"Subject\": [\"Python\", \"Linear Algebra\" , \"English\"]\n",
        "        },\n",
        "    \"Shyam\": {\n",
        "        \"Roll No\" : 2,\n",
        "        \"Present\" : True,\n",
        "        \"Subject\": [\"Python\", \"Linear Algebra\" , \"English\"]\n",
        "        },\n",
        "    \"Hari\": {\n",
        "        \"Roll No\" : 3,\n",
        "        \"Present\" : True,\n",
        "        \"Subject\": [\"Python\", \"Linear Algebra\" , \"English\"]\n",
        "        }\n",
        "    }\n",
        "\n",
        "\n"
      ]
    },
    {
      "cell_type": "code",
      "source": [
        "print(class_Batch4[\"Ram\"][\"Roll No\"])"
      ],
      "metadata": {
        "colab": {
          "base_uri": "https://localhost:8080/"
        },
        "id": "FRjXZXjBNEy2",
        "outputId": "84bdb4a7-bf46-4953-ca4b-ef08d9116133"
      },
      "execution_count": null,
      "outputs": [
        {
          "output_type": "stream",
          "name": "stdout",
          "text": [
            "1\n"
          ]
        }
      ]
    },
    {
      "cell_type": "code",
      "source": [
        "#printing entire dictionary\n",
        "print(\"This is the entire dictionary\")\n",
        "print(class_Batch4)\n",
        "\n",
        "#printing each indiviual cell\n",
        "for i in class_Batch4:\n",
        "  #this will only print keys\n",
        "  print(i)\n",
        "  #this will print the values associated with key\n",
        "  print(class_Batch4[i])\n",
        "\n",
        "#printing dictionary inside dictionary\n",
        "for i in class_Batch4:\n",
        "  print(i)\n",
        "  for j in class_Batch4[i]:\n",
        "    print(j,\":\",class_Batch4[i][j])\n",
        "\n",
        "print(class_Batch4[\"Ram\"][\"Subject\"][1])\n"
      ],
      "metadata": {
        "colab": {
          "base_uri": "https://localhost:8080/"
        },
        "id": "wRB31kFu7VYs",
        "outputId": "d5d38579-efcb-41a2-c348-0feb74c53317"
      },
      "execution_count": null,
      "outputs": [
        {
          "output_type": "stream",
          "name": "stdout",
          "text": [
            "This is the entire dictionary\n",
            "{'Ram': {'Roll No': 1, 'Present': True, 'Subject': ['Python', 'Linear Algebra', 'English']}, 'Shyam': {'Roll No': 2, 'Present': True, 'Subject': ['Python', 'Linear Algebra', 'English']}, 'Hari': {'Roll No': 3, 'Present': True, 'Subject': ['Python', 'Linear Algebra', 'English']}}\n",
            "Ram\n",
            "{'Roll No': 1, 'Present': True, 'Subject': ['Python', 'Linear Algebra', 'English']}\n",
            "Shyam\n",
            "{'Roll No': 2, 'Present': True, 'Subject': ['Python', 'Linear Algebra', 'English']}\n",
            "Hari\n",
            "{'Roll No': 3, 'Present': True, 'Subject': ['Python', 'Linear Algebra', 'English']}\n",
            "Ram\n",
            "Roll No : 1\n",
            "Present : True\n",
            "Subject : ['Python', 'Linear Algebra', 'English']\n",
            "Shyam\n",
            "Roll No : 2\n",
            "Present : True\n",
            "Subject : ['Python', 'Linear Algebra', 'English']\n",
            "Hari\n",
            "Roll No : 3\n",
            "Present : True\n",
            "Subject : ['Python', 'Linear Algebra', 'English']\n",
            "Linear Algebra\n"
          ]
        }
      ]
    },
    {
      "cell_type": "code",
      "source": [
        "#methods/functions predefined with dictionary\n",
        "\n",
        "# .keys(): Returns all the keys\n",
        "print(class_Batch4.keys())\n",
        "\n",
        "# .values(): Returns all the values\n",
        "print(class_Batch4.values())\n",
        "\n",
        "print(\"---------------------------------\")\n",
        "for i in class_Batch4.values():\n",
        "  print(type(i))\n",
        "  print(i)\n",
        "print(\"---------------------------------\")\n",
        "\n",
        "# .items(): Returns all the items\n",
        "\n",
        "print(\"---------------------------------\")\n",
        "for i in class_Batch4.items():\n",
        "  print(i)\n",
        "print(\"---------------------------------\")\n",
        "\n",
        "# .get(key, default) : Returns value of key or default if key not found\n",
        "print(class_Batch4.get(\"Arun\", \"\"))\n",
        "\n",
        "# .pop(key): Removes all key value pair\n",
        "dict = {1:\"A\",2:\"B\",3:\"C\",4:\"D\"}\n",
        "print(dict)\n",
        "dict.pop(1)\n",
        "print(dict)\n",
        "\n",
        "# .update(): You can use this to merge two dictionary\n",
        "dict1 = {1:\"A\",2:\"B\",3:\"C\",4:\"D\"}\n",
        "dict2 = {5:\"E\",6:\"F\"}\n",
        "dict1.update(dict2)\n",
        "print(dict1)"
      ],
      "metadata": {
        "colab": {
          "base_uri": "https://localhost:8080/"
        },
        "id": "oCwuoHmW8l8m",
        "outputId": "69581d83-2901-4317-fd86-36a8fb61f62c"
      },
      "execution_count": null,
      "outputs": [
        {
          "output_type": "stream",
          "name": "stdout",
          "text": [
            "dict_keys(['Ram', 'Shyam', 'Hari'])\n",
            "dict_values([{'Roll No': 1, 'Present': True, 'Subject': ['Python', 'Linear Algebra', 'English']}, {'Roll No': 2, 'Present': True, 'Subject': ['Python', 'Linear Algebra', 'English']}, {'Roll No': 3, 'Present': True, 'Subject': ['Python', 'Linear Algebra', 'English']}])\n",
            "---------------------------------\n",
            "<class 'dict'>\n",
            "{'Roll No': 1, 'Present': True, 'Subject': ['Python', 'Linear Algebra', 'English']}\n",
            "<class 'dict'>\n",
            "{'Roll No': 2, 'Present': True, 'Subject': ['Python', 'Linear Algebra', 'English']}\n",
            "<class 'dict'>\n",
            "{'Roll No': 3, 'Present': True, 'Subject': ['Python', 'Linear Algebra', 'English']}\n",
            "---------------------------------\n",
            "---------------------------------\n",
            "('Ram', {'Roll No': 1, 'Present': True, 'Subject': ['Python', 'Linear Algebra', 'English']})\n",
            "('Shyam', {'Roll No': 2, 'Present': True, 'Subject': ['Python', 'Linear Algebra', 'English']})\n",
            "('Hari', {'Roll No': 3, 'Present': True, 'Subject': ['Python', 'Linear Algebra', 'English']})\n",
            "---------------------------------\n",
            "\n",
            "{1: 'A', 2: 'B', 3: 'C', 4: 'D'}\n",
            "{2: 'B', 3: 'C', 4: 'D'}\n",
            "{1: 'A', 2: 'B', 3: 'C', 4: 'D', 5: 'E', 6: 'F'}\n"
          ]
        }
      ]
    },
    {
      "cell_type": "code",
      "source": [
        "#print(class_Batch4[\"Arun\"])\n",
        "\n",
        "#whyyyyy\n",
        "print(class_Batch4.get(\"Arun\",\"User Not Found\"))\n"
      ],
      "metadata": {
        "colab": {
          "base_uri": "https://localhost:8080/"
        },
        "id": "eJYTWTMsOaMJ",
        "outputId": "fe71d2e6-ed6c-4b2e-ab04-f553f0c9d135"
      },
      "execution_count": null,
      "outputs": [
        {
          "output_type": "stream",
          "name": "stdout",
          "text": [
            "User Not Found\n"
          ]
        }
      ]
    },
    {
      "cell_type": "markdown",
      "source": [
        "#Tuples\n",
        "\n",
        "- Ordered: items have fixed order\n",
        "- Immutable: Cannot of changed once created\n",
        "- Allows duplicates : Can contain repeated values\n",
        "\n",
        "Usual Representation : tup = ()"
      ],
      "metadata": {
        "id": "Fnqrm2PV9U4W"
      }
    },
    {
      "cell_type": "code",
      "source": [
        "#This is empty tuple\n",
        "fruits=()\n",
        "print(fruits)\n",
        "\n",
        "#this is fruits tuple (we can update it but can't change)\n",
        "fruits =(\"apple\", \"banana\", \"cherry\",\"mango\",\"pear\")\n",
        "print(fruits)\n",
        "print(type(fruits))\n",
        "\n",
        "#single elemet tuple can be defined like this\n",
        "brand=(\"apple\")\n",
        "num =(1)\n",
        "print(num)\n",
        "\n",
        "\n",
        "tup = (\"hi\")\n",
        "print(tup)\n",
        "\n",
        "\n"
      ],
      "metadata": {
        "colab": {
          "base_uri": "https://localhost:8080/"
        },
        "id": "e9Xepbtg_LMN",
        "outputId": "95ef974d-75dd-435a-c873-6449f21281c5"
      },
      "execution_count": null,
      "outputs": [
        {
          "output_type": "stream",
          "name": "stdout",
          "text": [
            "()\n",
            "('apple', 'banana', 'cherry', 'mango', 'pear')\n",
            "<class 'tuple'>\n",
            "1\n",
            "hi\n"
          ]
        }
      ]
    },
    {
      "cell_type": "code",
      "source": [
        "#Most of the operations are very similar to lists\n",
        "\n",
        "print(fruits[0])\n",
        "\n",
        "print(fruits[1])\n",
        "\n",
        "\n",
        "#slicing\n",
        "\n",
        "print(fruits[0:2])\n",
        "\n",
        "print(fruits[0:-1])\n",
        "print(fruits[-1])\n",
        "\n",
        "print(fruits[0:])\n",
        "\n",
        "print(fruits[::-1])\n",
        "\n",
        "\n",
        "#looping through the tuple\n",
        "#syntax: for variable in tuple\n",
        "for fruit in fruits:\n",
        "    print(fruit)"
      ],
      "metadata": {
        "colab": {
          "base_uri": "https://localhost:8080/"
        },
        "id": "y40maWGRAV3o",
        "outputId": "dda2fa0c-9cc5-46e7-ff39-cad78910cde4"
      },
      "execution_count": null,
      "outputs": [
        {
          "output_type": "stream",
          "name": "stdout",
          "text": [
            "apple\n",
            "banana\n",
            "('apple', 'banana')\n",
            "('apple', 'banana', 'cherry', 'mango')\n",
            "pear\n",
            "('apple', 'banana', 'cherry', 'mango', 'pear')\n",
            "('pear', 'mango', 'cherry', 'banana', 'apple')\n",
            "apple\n",
            "banana\n",
            "cherry\n",
            "mango\n",
            "pear\n"
          ]
        }
      ]
    },
    {
      "cell_type": "code",
      "source": [
        "#methods in tuples\n",
        "\n",
        "#.count(value) : how many times does a value appears (as we already know there is repetation)\n",
        "num= (1,1,2,2,5,3,4,1)\n",
        "print(num.count(1))\n",
        "\n",
        "# .index(value) : first occurance will be returned\n",
        "print(num.index(1))\n",
        "print(num.index(3))"
      ],
      "metadata": {
        "colab": {
          "base_uri": "https://localhost:8080/"
        },
        "id": "rs-nlfFGCD1t",
        "outputId": "728ee6b7-5e2f-448c-fa91-9a8d7254fbbb"
      },
      "execution_count": null,
      "outputs": [
        {
          "output_type": "stream",
          "name": "stdout",
          "text": [
            "3\n",
            "0\n",
            "5\n"
          ]
        }
      ]
    },
    {
      "cell_type": "code",
      "source": [
        "#one bonus feature i would like to let you know is unpacking of tuple\n",
        "fruits =(\"apple\", \"banana\", \"cherry\",\"Bango\")\n",
        "\n",
        "x,*y,z= fruits\n",
        "\n",
        "print(x)\n",
        "print(y)\n",
        "print(z)\n",
        "\n",
        "a,*c,d =fruits\n",
        "\n",
        "\n",
        "\n",
        "\n"
      ],
      "metadata": {
        "colab": {
          "base_uri": "https://localhost:8080/"
        },
        "id": "WbCgigvFDKBG",
        "outputId": "8f16d50b-381b-4b73-b610-e0b91f2e7ad1"
      },
      "execution_count": null,
      "outputs": [
        {
          "output_type": "stream",
          "name": "stdout",
          "text": [
            "apple\n",
            "['banana', 'cherry']\n",
            "Bango\n"
          ]
        }
      ]
    },
    {
      "cell_type": "code",
      "source": [
        "# prompt: generate difference between lists, tuples, and sets\n",
        "\n",
        "# Lists\n",
        "# - Ordered: Items have a defined order, and that order will not change.\n",
        "# - Mutable: Items can be changed, added, and removed after the list has been created.\n",
        "# - Allows duplicates: Lists can have items with the same value.\n",
        "\n",
        "# Usual representation: my_list = []\n",
        "my_list = [1, 2, 3, 2, \"apple\", \"banana\"]\n",
        "\n",
        "# Tuples\n",
        "# - Ordered: Items have a defined order, and that order will not change.\n",
        "# - Immutable: Items cannot be changed, added, or removed after the tuple has been created.\n",
        "# - Allows duplicates: Tuples can have items with the same value.\n",
        "\n",
        "# Usual representation: my_tuple = ()\n",
        "my_tuple = (1, 2, 3, 2, \"apple\", \"banana\")\n",
        "\n",
        "\n",
        "# Sets\n",
        "# - Unordered: Items do not have a defined order. You cannot refer to an item by using an index.\n",
        "# - Mutable: Items can be added and removed, but existing items cannot be changed.\n",
        "# - No duplicates: Sets cannot have two items with the same value.\n",
        "\n",
        "# Usual representation: my_set = {}\n",
        "my_set = {1, 2, 3, \"apple\", \"banana\"}  # Note: Duplicates are automatically removed\n",
        "\n",
        "\n",
        "# Differences Summarized\n",
        "\n",
        "# | Feature      | List     | Tuple    | Set      |\n",
        "# |--------------|----------|----------|----------|\n",
        "# | Order        | Ordered  | Ordered  | Unordered|\n",
        "# | Mutability   | Mutable  | Immutable| Mutable  |\n",
        "# | Duplicates   | Allowed  | Allowed  | Not Allowed|\n",
        "# | Use Cases    | Storing collections of items that might need to change | Storing collections of items that should not change| Removing duplicates, membership testing|\n"
      ],
      "metadata": {
        "id": "PWIdxP9IUIit"
      },
      "execution_count": null,
      "outputs": []
    },
    {
      "cell_type": "markdown",
      "source": [],
      "metadata": {
        "id": "bMl9c_eKUIQy"
      }
    },
    {
      "cell_type": "markdown",
      "source": [
        "#Sets\n",
        "\n",
        "- unordered\n",
        "- Unindexed\n",
        "- Mutable\n",
        "- Unique elements\n",
        "\n",
        "Representation : curly braces{} or the set()\n"
      ],
      "metadata": {
        "id": "99QCYJwnDrpS"
      }
    },
    {
      "cell_type": "code",
      "source": [
        "# now this is empty set\n",
        "num = set()\n",
        "empty={}\n",
        "\n",
        "print(type(num))\n",
        "print(type(empty))\n"
      ],
      "metadata": {
        "colab": {
          "base_uri": "https://localhost:8080/"
        },
        "id": "l6INgPptFnYA",
        "outputId": "8c77a52f-a6e9-4a30-9d76-109a9801fb49"
      },
      "execution_count": null,
      "outputs": [
        {
          "output_type": "stream",
          "name": "stdout",
          "text": [
            "<class 'set'>\n",
            "<class 'dict'>\n",
            "{'mango', 'banana', 'apple', 'pear', 'cherry'}\n",
            "<class 'set'>\n",
            "{'apple': '1', 'banana': '2', 'cherry': '3', 'mango': '4', 'pear': '5'}\n",
            "<class 'dict'>\n"
          ]
        }
      ]
    },
    {
      "cell_type": "code",
      "source": [],
      "metadata": {
        "id": "mCC092sKU8h5"
      },
      "execution_count": null,
      "outputs": []
    },
    {
      "cell_type": "code",
      "source": [
        "#accessing elemets in set. (not like list or tuple)\n",
        "#sets do not have indexing or slicing so only way is to loop through set\n",
        "for fruit in fruits:\n",
        "    print(fruit, end=\"********\")\n"
      ],
      "metadata": {
        "colab": {
          "base_uri": "https://localhost:8080/"
        },
        "id": "wGI0W-YeH-qa",
        "outputId": "695bfca9-6a60-4b9c-8ac7-89eb0b25b10b"
      },
      "execution_count": null,
      "outputs": [
        {
          "output_type": "stream",
          "name": "stdout",
          "text": [
            "mango********banana********apple********pear********cherry********"
          ]
        }
      ]
    },
    {
      "cell_type": "code",
      "source": [
        "#modfying a set\n",
        "#ADDING AN ELEMENT\n",
        "fruits={\"apple\",\"mango\",\"banana\"}\n",
        "print(fruits)\n",
        "fruits.add(\"CARROt\")\n",
        "print(fruits)\n",
        "\n",
        "\n",
        "\n",
        "#uodatubg an element\n",
        "fruits.update([\"mango\", \"grape\"])\n",
        "print(fruits)\n",
        "\n",
        "#removing an element\n",
        "# fruits.remove(\"banana\")  # Removes 'banana', raises an error if not found\n",
        "# fruits.discard(\"grape\")  # Removes 'grape', does NOT raise an error if not found\n",
        "# print(fruits)\n",
        "\n",
        "#clearing the set\n",
        "fruits.clear()  # Removes all elements\n",
        "print(fruits)   # Output: set()"
      ],
      "metadata": {
        "id": "LOr_xhHLIebp",
        "colab": {
          "base_uri": "https://localhost:8080/"
        },
        "outputId": "8f25818d-131b-4ca2-d8b4-406c586fbd5c"
      },
      "execution_count": null,
      "outputs": [
        {
          "output_type": "stream",
          "name": "stdout",
          "text": [
            "{'mango', 'apple', 'banana'}\n",
            "{'CARROt', 'mango', 'apple', 'banana'}\n",
            "{'grape', 'mango', 'banana', 'CARROt', 'apple'}\n",
            "set()\n"
          ]
        }
      ]
    },
    {
      "cell_type": "code",
      "source": [
        "f={\"apple\",\"mango\",\"banana\"}\n",
        "\n",
        "f.update([\"mango\", \"grape\"])\n",
        "print(f)\n",
        "\n",
        "f.remove(\"mango\")\n",
        "print(f)\n",
        "\n",
        "f.discard(\"banana\")\n",
        "print(f)\n",
        "\n",
        "f.clear()\n",
        "print(f)"
      ],
      "metadata": {
        "colab": {
          "base_uri": "https://localhost:8080/"
        },
        "id": "GNBMYOArVwiZ",
        "outputId": "f615f2a6-a59c-43e3-8c6f-1ca59ec9c8f1"
      },
      "execution_count": null,
      "outputs": [
        {
          "output_type": "stream",
          "name": "stdout",
          "text": [
            "{'grape', 'mango', 'apple', 'banana'}\n",
            "{'grape', 'apple', 'banana'}\n",
            "{'grape', 'apple'}\n",
            "set()\n"
          ]
        }
      ]
    },
    {
      "cell_type": "code",
      "source": [
        "#union\n",
        "set1 = {1, 2, 3}\n",
        "set2 = {3, 4, 5}\n",
        "union_set = set1.union(set2)\n",
        "print(union_set)\n",
        "\n",
        "#intersection\n",
        "set1 = {1, 2, 3}\n",
        "set2 = {3, 4, 5}\n",
        "intersection_set = set1.intersection(set2)\n",
        "print(intersection_set)\n",
        "\n",
        "#difference\n",
        "set1 = {1, 2, 3}\n",
        "set2 = {3, 4, 5}\n",
        "difference_set = set1.difference(set2)\n",
        "print(difference_set)\n",
        "\n",
        "#symmetric difference\n",
        "set1 = {1, 2, 3}\n",
        "set2 = {3, 4, 5}\n",
        "symmetric_difference_set = set1.symmetric_difference(set2)\n",
        "print(symmetric_difference_set)"
      ],
      "metadata": {
        "id": "qOXMP2zMJkfd",
        "colab": {
          "base_uri": "https://localhost:8080/"
        },
        "outputId": "07ecca44-8a27-4603-cf2a-8db06b632658"
      },
      "execution_count": null,
      "outputs": [
        {
          "output_type": "stream",
          "name": "stdout",
          "text": [
            "{1, 2, 3, 4, 5}\n",
            "{3}\n",
            "{1, 2}\n",
            "{1, 2, 4, 5}\n"
          ]
        }
      ]
    },
    {
      "cell_type": "markdown",
      "source": [],
      "metadata": {
        "id": "M35yZHgzH-Y5"
      }
    }
  ]
}