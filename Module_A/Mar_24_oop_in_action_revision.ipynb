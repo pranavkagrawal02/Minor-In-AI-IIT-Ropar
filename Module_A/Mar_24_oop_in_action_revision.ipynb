{
  "nbformat": 4,
  "nbformat_minor": 0,
  "metadata": {
    "colab": {
      "provenance": [],
      "include_colab_link": true
    },
    "kernelspec": {
      "name": "python3",
      "display_name": "Python 3"
    },
    "language_info": {
      "name": "python"
    }
  },
  "cells": [
    {
      "cell_type": "markdown",
      "metadata": {
        "id": "view-in-github",
        "colab_type": "text"
      },
      "source": [
        "<a href=\"https://colab.research.google.com/github/pranavkagrawal02/Minor-In-AI-IIT-Ropar/blob/main/Mar_24_oop_in_action_revision.ipynb\" target=\"_parent\"><img src=\"https://colab.research.google.com/assets/colab-badge.svg\" alt=\"Open In Colab\"/></a>"
      ]
    },
    {
      "cell_type": "code",
      "execution_count": null,
      "metadata": {
        "id": "fT8uj936lPnt",
        "colab": {
          "base_uri": "https://localhost:8080/"
        },
        "outputId": "3c2ad9dd-206d-4f66-f46e-4801065c59bc"
      },
      "outputs": [
        {
          "output_type": "stream",
          "name": "stdout",
          "text": [
            "Playing: not like us-Kendrick lamar\n",
            "Playing: KODAK-Seedhe Maut\n",
            "Playing: Wavy-Karan aujila\n"
          ]
        }
      ],
      "source": [
        "# The Case Study of Music App\n",
        "\n",
        "songs = [\"not like us-Kendrick lamar\", \"KODAK-Seedhe Maut\",\"Wavy-Karan aujila\"]\n",
        "for s in songs:\n",
        "  print(\"Playing:\", s)\n"
      ]
    },
    {
      "cell_type": "code",
      "source": [
        "class Song:\n",
        "  def __init__(self, title, artist):\n",
        "    self.title = title\n",
        "    self.artist = artist\n",
        "\n",
        "  def play(self):\n",
        "    print(\"Playing\", self.title, \"by\", self.artist)\n",
        "\n",
        "Playlist = [Song(\"not like us\",\"Kendrick lamar\"), Song(\"KODAK\",\"Seedhe Maut\"),\n",
        "            Song(\"Wavy\",\"Karan aujila\")]\n",
        "for song in Playlist:\n",
        "  song.play()"
      ],
      "metadata": {
        "colab": {
          "base_uri": "https://localhost:8080/"
        },
        "id": "g3bsgt1So5yQ",
        "outputId": "d58090cf-b10b-482b-c351-a9340f813b6f"
      },
      "execution_count": null,
      "outputs": [
        {
          "output_type": "stream",
          "name": "stdout",
          "text": [
            "Playing not like us by Kendrick lamar\n",
            "Playing KODAK by Seedhe Maut\n",
            "Playing Wavy by Karan aujila\n"
          ]
        }
      ]
    },
    {
      "cell_type": "code",
      "source": [
        "class Song:\n",
        "  def __init__(self, title, artist, duration):\n",
        "    self.title = title\n",
        "    self.artist = artist\n",
        "    self.__duration = duration  #private\n",
        "\n",
        "  def get_duration(self):\n",
        "    return self.__duration\n",
        "\n",
        "  def set_durtion(self, value):\n",
        "    if value > 0:\n",
        "      self.__duration = value\n",
        "    else:\n",
        "      print(\"Invalid value for duration\")\n",
        "\n",
        "\n",
        "song = Song(\"Wavy\",\"Karan Aujila\", 100)\n",
        "print(song.set_durtion(150))\n",
        "print(song.title)\n",
        "print(song.get_duration())"
      ],
      "metadata": {
        "colab": {
          "base_uri": "https://localhost:8080/",
          "height": 234
        },
        "id": "-RcqhYzXvprn",
        "outputId": "496355a0-0264-4944-9be3-1ed20acf187d"
      },
      "execution_count": null,
      "outputs": [
        {
          "output_type": "stream",
          "name": "stdout",
          "text": [
            "None\n",
            "Wavy\n"
          ]
        },
        {
          "output_type": "error",
          "ename": "AttributeError",
          "evalue": "'Song' object has no attribute '__duration'",
          "traceback": [
            "\u001b[0;31m---------------------------------------------------------------------------\u001b[0m",
            "\u001b[0;31mAttributeError\u001b[0m                            Traceback (most recent call last)",
            "\u001b[0;32m<ipython-input-29-98d176626796>\u001b[0m in \u001b[0;36m<cell line: 0>\u001b[0;34m()\u001b[0m\n\u001b[1;32m     18\u001b[0m \u001b[0mprint\u001b[0m\u001b[0;34m(\u001b[0m\u001b[0msong\u001b[0m\u001b[0;34m.\u001b[0m\u001b[0mset_durtion\u001b[0m\u001b[0;34m(\u001b[0m\u001b[0;36m150\u001b[0m\u001b[0;34m)\u001b[0m\u001b[0;34m)\u001b[0m\u001b[0;34m\u001b[0m\u001b[0;34m\u001b[0m\u001b[0m\n\u001b[1;32m     19\u001b[0m \u001b[0mprint\u001b[0m\u001b[0;34m(\u001b[0m\u001b[0msong\u001b[0m\u001b[0;34m.\u001b[0m\u001b[0mtitle\u001b[0m\u001b[0;34m)\u001b[0m\u001b[0;34m\u001b[0m\u001b[0;34m\u001b[0m\u001b[0m\n\u001b[0;32m---> 20\u001b[0;31m \u001b[0mprint\u001b[0m\u001b[0;34m(\u001b[0m\u001b[0msong\u001b[0m\u001b[0;34m.\u001b[0m\u001b[0m__duration\u001b[0m\u001b[0;34m)\u001b[0m\u001b[0;34m\u001b[0m\u001b[0;34m\u001b[0m\u001b[0m\n\u001b[0m\u001b[1;32m     21\u001b[0m \u001b[0mprint\u001b[0m\u001b[0;34m(\u001b[0m\u001b[0msong\u001b[0m\u001b[0;34m.\u001b[0m\u001b[0mget_duration\u001b[0m\u001b[0;34m(\u001b[0m\u001b[0;34m)\u001b[0m\u001b[0;34m)\u001b[0m\u001b[0;34m\u001b[0m\u001b[0;34m\u001b[0m\u001b[0m\n",
            "\u001b[0;31mAttributeError\u001b[0m: 'Song' object has no attribute '__duration'"
          ]
        }
      ]
    },
    {
      "cell_type": "markdown",
      "source": [],
      "metadata": {
        "id": "vL6433gfoNzV"
      }
    }
  ]
}