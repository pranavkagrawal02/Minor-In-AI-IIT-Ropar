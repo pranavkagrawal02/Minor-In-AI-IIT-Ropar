{
  "nbformat": 4,
  "nbformat_minor": 0,
  "metadata": {
    "colab": {
      "provenance": [],
      "include_colab_link": true
    },
    "kernelspec": {
      "name": "python3",
      "display_name": "Python 3"
    },
    "language_info": {
      "name": "python"
    }
  },
  "cells": [
    {
      "cell_type": "markdown",
      "metadata": {
        "id": "view-in-github",
        "colab_type": "text"
      },
      "source": [
        "<a href=\"https://colab.research.google.com/github/pranavkagrawal02/Minor-In-AI-IIT-Ropar/blob/main/Feb_25_pandas_demo.ipynb\" target=\"_parent\"><img src=\"https://colab.research.google.com/assets/colab-badge.svg\" alt=\"Open In Colab\"/></a>"
      ]
    },
    {
      "cell_type": "code",
      "execution_count": null,
      "metadata": {
        "colab": {
          "base_uri": "https://localhost:8080/"
        },
        "id": "LdnrOKKdduZ4",
        "outputId": "9682a1d7-d999-4e1d-8d2e-cdbade5a0ec2"
      },
      "outputs": [
        {
          "output_type": "stream",
          "name": "stdout",
          "text": [
            "Original DataFrame:\n",
            "    Product Domain               Model   Color    Price  Rating\n",
            "0     Electronics        Smartphone X   Black   899.99     4.5\n",
            "1        Clothing             T-Shirt    Blue    19.99     4.0\n",
            "2     Electronics          Laptop Pro  Silver  1299.99     4.8\n",
            "3  Home & Kitchen        Coffee Maker     Red    49.99     3.5\n",
            "4           Books  Python Programming     N/A    29.99     5.0\n",
            "\n",
            "Product Models:\n",
            " 0          Smartphone X\n",
            "1               T-Shirt\n",
            "2            Laptop Pro\n",
            "3          Coffee Maker\n",
            "4    Python Programming\n",
            "Name: Model, dtype: object\n",
            "\n",
            "Second product:\n",
            " Product Domain    Clothing\n",
            "Model              T-Shirt\n",
            "Color                 Blue\n",
            "Price                19.99\n",
            "Rating                 4.0\n",
            "Name: 1, dtype: object\n",
            "\n",
            "Products with rating >= 4.5:\n",
            "   Product Domain               Model   Color    Price  Rating\n",
            "0    Electronics        Smartphone X   Black   899.99     4.5\n",
            "2    Electronics          Laptop Pro  Silver  1299.99     4.8\n",
            "4          Books  Python Programming     N/A    29.99     5.0\n",
            "\n",
            "Products sorted by price:\n",
            "    Product Domain               Model   Color    Price  Rating\n",
            "1        Clothing             T-Shirt    Blue    19.99     4.0\n",
            "4           Books  Python Programming     N/A    29.99     5.0\n",
            "3  Home & Kitchen        Coffee Maker     Red    49.99     3.5\n",
            "0     Electronics        Smartphone X   Black   899.99     4.5\n",
            "2     Electronics          Laptop Pro  Silver  1299.99     4.8\n"
          ]
        }
      ],
      "source": [
        "import pandas as pd\n",
        "\n",
        "# Sample data for 5 e-commerce products\n",
        "data = {\n",
        "    'Product Domain': ['Electronics', 'Clothing', 'Electronics', 'Home & Kitchen', 'Books'],\n",
        "    'Model': ['Smartphone X', 'T-Shirt', 'Laptop Pro', 'Coffee Maker', 'Python Programming'],\n",
        "    'Color': ['Black', 'Blue', 'Silver', 'Red', 'N/A'],\n",
        "    'Price': [899.99, 19.99, 1299.99, 49.99, 29.99],\n",
        "    'Rating': [4.5, 4.0, 4.8, 3.5, 5.0]\n",
        "}\n",
        "\n",
        "# Create the DataFrame\n",
        "df = pd.DataFrame(data)\n",
        "\n",
        "# Display the entire DataFrame\n",
        "print(\"Original DataFrame:\\n\", df)\n",
        "\n",
        "# Accessing columns\n",
        "print(\"\\nProduct Models:\\n\", df['Model'])\n",
        "\n",
        "# Accessing rows using index\n",
        "print(\"\\nSecond product:\\n\", df.iloc[1])\n",
        "\n",
        "# Filtering data\n",
        "print(\"\\nProducts with rating >= 4.5:\\n\", df[df['Rating'] >= 4.5])\n",
        "\n",
        "# Sorting data\n",
        "print(\"\\nProducts sorted by price:\\n\", df.sort_values(by='Price'))"
      ]
    },
    {
      "cell_type": "code",
      "source": [
        "import pandas as pd\n",
        "\n",
        "df = pd.read_csv(\"sales_data-1.csv\")\n",
        "print(df)\n",
        "\n",
        "df.fillna({'Price': df['Price'].mean()}, inplace = True)\n",
        "print(df)\n",
        "df['Product'] = df['Product'].str.replace('-', ' ')\n",
        "print(df)\n"
      ],
      "metadata": {
        "colab": {
          "base_uri": "https://localhost:8080/"
        },
        "id": "MpCLh9mOHBK-",
        "outputId": "d0d211bc-56de-45df-9424-07e76d2ae9c0"
      },
      "execution_count": null,
      "outputs": [
        {
          "output_type": "stream",
          "name": "stdout",
          "text": [
            "    TransactionID       City         Product    Price  Quantity     Sales\n",
            "0            1000     Mumbai    Mobile-Apple  70000.0         3  210000.0\n",
            "1            1001  Bangalore   Tablet-Lenovo      NaN         3       NaN\n",
            "2            1002     Mumbai    Mobile Apple  70000.0         2  140000.0\n",
            "3            1003     Mumbai  Mobile-Samsung  20000.0         3   60000.0\n",
            "4            1004      Delhi       Laptop HP  55000.0         1   55000.0\n",
            "5            1005     Mumbai   Tablet-Lenovo  18000.0         2   36000.0\n",
            "6            1006     Mumbai     Laptop-Dell  62000.0         2  124000.0\n",
            "7            1007  Bangalore     Laptop-Dell  62000.0         3  186000.0\n",
            "8            1008  Bangalore     Laptop-Dell  62000.0         1   62000.0\n",
            "9            1009  Bangalore   Tablet-Lenovo      NaN         1   18000.0\n",
            "10           1010      Delhi   Tablet Lenovo  18000.0         1   18000.0\n",
            "    TransactionID       City         Product         Price  Quantity     Sales\n",
            "0            1000     Mumbai    Mobile-Apple  70000.000000         3  210000.0\n",
            "1            1001  Bangalore   Tablet-Lenovo  48555.555556         3       NaN\n",
            "2            1002     Mumbai    Mobile Apple  70000.000000         2  140000.0\n",
            "3            1003     Mumbai  Mobile-Samsung  20000.000000         3   60000.0\n",
            "4            1004      Delhi       Laptop HP  55000.000000         1   55000.0\n",
            "5            1005     Mumbai   Tablet-Lenovo  18000.000000         2   36000.0\n",
            "6            1006     Mumbai     Laptop-Dell  62000.000000         2  124000.0\n",
            "7            1007  Bangalore     Laptop-Dell  62000.000000         3  186000.0\n",
            "8            1008  Bangalore     Laptop-Dell  62000.000000         1   62000.0\n",
            "9            1009  Bangalore   Tablet-Lenovo  48555.555556         1   18000.0\n",
            "10           1010      Delhi   Tablet Lenovo  18000.000000         1   18000.0\n",
            "    TransactionID       City         Product         Price  Quantity     Sales\n",
            "0            1000     Mumbai    Mobile Apple  70000.000000         3  210000.0\n",
            "1            1001  Bangalore   Tablet Lenovo  48555.555556         3       NaN\n",
            "2            1002     Mumbai    Mobile Apple  70000.000000         2  140000.0\n",
            "3            1003     Mumbai  Mobile Samsung  20000.000000         3   60000.0\n",
            "4            1004      Delhi       Laptop HP  55000.000000         1   55000.0\n",
            "5            1005     Mumbai   Tablet Lenovo  18000.000000         2   36000.0\n",
            "6            1006     Mumbai     Laptop Dell  62000.000000         2  124000.0\n",
            "7            1007  Bangalore     Laptop Dell  62000.000000         3  186000.0\n",
            "8            1008  Bangalore     Laptop Dell  62000.000000         1   62000.0\n",
            "9            1009  Bangalore   Tablet Lenovo  48555.555556         1   18000.0\n",
            "10           1010      Delhi   Tablet Lenovo  18000.000000         1   18000.0\n"
          ]
        }
      ]
    }
  ]
}