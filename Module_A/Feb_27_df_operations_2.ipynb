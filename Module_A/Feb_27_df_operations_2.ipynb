{
  "nbformat": 4,
  "nbformat_minor": 0,
  "metadata": {
    "colab": {
      "provenance": [],
      "include_colab_link": true
    },
    "kernelspec": {
      "name": "python3",
      "display_name": "Python 3"
    },
    "language_info": {
      "name": "python"
    }
  },
  "cells": [
    {
      "cell_type": "markdown",
      "metadata": {
        "id": "view-in-github",
        "colab_type": "text"
      },
      "source": [
        "<a href=\"https://colab.research.google.com/github/pranavkagrawal02/Minor-In-AI-IIT-Ropar/blob/main/Feb_27_df_operations_2.ipynb\" target=\"_parent\"><img src=\"https://colab.research.google.com/assets/colab-badge.svg\" alt=\"Open In Colab\"/></a>"
      ]
    },
    {
      "cell_type": "code",
      "execution_count": null,
      "metadata": {
        "colab": {
          "base_uri": "https://localhost:8080/"
        },
        "id": "PEnpv3Inqf1X",
        "outputId": "a5bcdccd-ebf9-46b3-ba41-66a05eba8735"
      },
      "outputs": [
        {
          "output_type": "stream",
          "name": "stdout",
          "text": [
            "Inner Merge:\n",
            "   item_id   item_name    brand  price  sales_date  quantity_sold\n",
            "0        1      Laptop     Dell   1200  2024-01-15              5\n",
            "1        2      Tablet  Samsung    300  2024-01-20             10\n",
            "2        3  Smartphone    Apple    800  2024-01-25              8\n",
            "3        4  Headphones     Sony    100  2024-01-30             12\n",
            "\n",
            "Left Merge:\n",
            "   item_id   item_name     brand  price  sales_date  quantity_sold\n",
            "0        1      Laptop      Dell   1200  2024-01-15            5.0\n",
            "1        2      Tablet   Samsung    300  2024-01-20           10.0\n",
            "2        3  Smartphone     Apple    800  2024-01-25            8.0\n",
            "3        4  Headphones      Sony    100  2024-01-30           12.0\n",
            "4        5    Keyboard  Logitech     75         NaN            NaN\n",
            "\n",
            "Right Merge:\n",
            "   item_id   item_name    brand   price  sales_date  quantity_sold\n",
            "0        1      Laptop     Dell  1200.0  2024-01-15              5\n",
            "1        2      Tablet  Samsung   300.0  2024-01-20             10\n",
            "2        3  Smartphone    Apple   800.0  2024-01-25              8\n",
            "3        4  Headphones     Sony   100.0  2024-01-30             12\n",
            "4        6         NaN      NaN     NaN  2024-02-05              3\n",
            "\n",
            "Outer Merge:\n",
            "   item_id   item_name     brand   price  sales_date  quantity_sold\n",
            "0        1      Laptop      Dell  1200.0  2024-01-15            5.0\n",
            "1        2      Tablet   Samsung   300.0  2024-01-20           10.0\n",
            "2        3  Smartphone     Apple   800.0  2024-01-25            8.0\n",
            "3        4  Headphones      Sony   100.0  2024-01-30           12.0\n",
            "4        5    Keyboard  Logitech    75.0         NaN            NaN\n",
            "5        6         NaN       NaN     NaN  2024-02-05            3.0\n"
          ]
        }
      ],
      "source": [
        "# prompt: generate two data frames. one with e-commerce items with their specifications and another with their sales data. then merge them. demo how the merge of two data frames happens.\n",
        "\n",
        "import pandas as pd\n",
        "\n",
        "# Create the first DataFrame with item specifications\n",
        "data1 = {'item_id': [1, 2, 3, 4, 5],\n",
        "        'item_name': ['Laptop', 'Tablet', 'Smartphone', 'Headphones', 'Keyboard'],\n",
        "        'brand': ['Dell', 'Samsung', 'Apple', 'Sony', 'Logitech'],\n",
        "        'price': [1200, 300, 800, 100, 75]}\n",
        "df1 = pd.DataFrame(data1)\n",
        "\n",
        "# Create the second DataFrame with sales data\n",
        "data2 = {'item_id': [1, 2, 3, 4, 6],  # Note: item_id 6 is in sales but not in specifications\n",
        "        'sales_date': ['2024-01-15', '2024-01-20', '2024-01-25', '2024-01-30', '2024-02-05'],\n",
        "        'quantity_sold': [5, 10, 8, 12, 3]}\n",
        "df2 = pd.DataFrame(data2)\n",
        "\n",
        "# Merge the two dataframes based on the 'item_id' column\n",
        "# Inner merge: only items present in both dataframes will be included\n",
        "merged_df_inner = pd.merge(df1, df2, on='item_id', how='inner')\n",
        "print(\"Inner Merge:\")\n",
        "print(merged_df_inner)\n",
        "\n",
        "# Left merge: all items from the left (df1) will be included,\n",
        "# and matching items from the right (df2) will be added.\n",
        "# Non-matching items in df2 will have NaN values.\n",
        "merged_df_left = pd.merge(df1, df2, on='item_id', how='left')\n",
        "print(\"\\nLeft Merge:\")\n",
        "print(merged_df_left)\n",
        "\n",
        "\n",
        "# Right merge: all items from the right (df2) will be included,\n",
        "# and matching items from the left (df1) will be added.\n",
        "# Non-matching items in df1 will have NaN values.\n",
        "merged_df_right = pd.merge(df1, df2, on='item_id', how='right')\n",
        "print(\"\\nRight Merge:\")\n",
        "print(merged_df_right)\n",
        "\n",
        "\n",
        "# Outer merge: all items from both dataframes will be included\n",
        "# Non-matching items will have NaN values for the columns of the other dataframe.\n",
        "merged_df_outer = pd.merge(df1, df2, on='item_id', how='outer')\n",
        "print(\"\\nOuter Merge:\")\n",
        "print(merged_df_outer)\n"
      ]
    },
    {
      "cell_type": "code",
      "source": [
        "# Get the Decriptive Statistics and Graphs\n",
        "print(df1.describe())\n",
        "\n",
        "df1.plot()"
      ],
      "metadata": {
        "colab": {
          "base_uri": "https://localhost:8080/",
          "height": 608
        },
        "id": "B_HarIS-WmWD",
        "outputId": "5e1c225e-3031-4ffb-d6e1-45df6e1d4903"
      },
      "execution_count": null,
      "outputs": [
        {
          "output_type": "stream",
          "name": "stdout",
          "text": [
            "        item_id       price\n",
            "count  5.000000     5.00000\n",
            "mean   3.000000   495.00000\n",
            "std    1.581139   490.02551\n",
            "min    1.000000    75.00000\n",
            "25%    2.000000   100.00000\n",
            "50%    3.000000   300.00000\n",
            "75%    4.000000   800.00000\n",
            "max    5.000000  1200.00000\n"
          ]
        },
        {
          "output_type": "execute_result",
          "data": {
            "text/plain": [
              "<Axes: >"
            ]
          },
          "metadata": {},
          "execution_count": 27
        },
        {
          "output_type": "display_data",
          "data": {
            "text/plain": [
              "<Figure size 640x480 with 1 Axes>"
            ],
            "image/png": "[encoded data removed]"
          },
          "metadata": {}
        }
      ]
    },
    {
      "cell_type": "code",
      "source": [
        "import pandas as pd\n",
        "import numpy as np\n",
        "\n",
        "data = {\n",
        "    'Student': ['A', 'B', 'C'],\n",
        "    'Test 1': [8, np.nan, 7],\n",
        "    'Test 2': [8, 9, 7],\n",
        "    'Test 3': [8, 8, np.nan],\n",
        "    'Test 4': [np.nan, 6, 7],\n",
        "    'Test 5': [10, 7, 9]\n",
        "}\n",
        "\n",
        "df = pd.DataFrame(data)\n",
        "print(df)\n",
        "\n",
        "df_fill_8 = df.fillna(8)\n",
        "print(df_fill_8)\n"
      ],
      "metadata": {
        "colab": {
          "base_uri": "https://localhost:8080/"
        },
        "id": "JogHIWyLEV09",
        "outputId": "905a8502-70ac-4a1e-ccdc-c2eb0d758717"
      },
      "execution_count": null,
      "outputs": [
        {
          "output_type": "stream",
          "name": "stdout",
          "text": [
            "  Student  Test 1  Test 2  Test 3  Test 4  Test 5\n",
            "0       A     8.0       8     8.0     NaN      10\n",
            "1       B     NaN       9     8.0     6.0       7\n",
            "2       C     7.0       7     NaN     7.0       9\n",
            "  Student  Test 1  Test 2  Test 3  Test 4  Test 5\n",
            "0       A     8.0       8     8.0     8.0      10\n",
            "1       B     8.0       9     8.0     6.0       7\n",
            "2       C     7.0       7     8.0     7.0       9\n"
          ]
        }
      ]
    },
    {
      "cell_type": "code",
      "source": [
        "import pandas as pd\n",
        "import numpy as np\n",
        "\n",
        "# Sample DataFrame with NaN values\n",
        "data = {\n",
        "    'item_id': [101, 102, 103, 104, 105],\n",
        "    'item': ['Apple', 'Banana', 'Orange', np.nan, 'Grapes'],\n",
        "    'price': [50, np.nan, 30, 40, np.nan],\n",
        "    'sales': [200, 150, np.nan, 180, 220]\n",
        "}\n",
        "\n",
        "df = pd.DataFrame(data)\n",
        "\n",
        "print(\"Original DataFrame with NaN values:\")\n",
        "print(df)\n",
        "\n",
        "# 1. Fill NaN with a specific value\n",
        "df1 = df.fillna(0)\n",
        "\n",
        "# 2. Fill NaN in a specific column with a fixed value\n",
        "df2 = df.copy()\n",
        "df2['price'] = df2['price'].fillna(df2['price'].mean())  # Filling NaN with mean value\n",
        "\n",
        "# 3. Fill NaN using forward fill (propagate last valid value forward)\n",
        "df3 = df.ffill()\n",
        "\n",
        "# 4. Fill NaN using backward fill (propagate next valid value backward)\n",
        "df4 = df.bfill()\n",
        "\n",
        "# 5. Fill NaN with the median value of the column\n",
        "df5 = df.copy()\n",
        "df5['price'] = df5['price'].fillna(df5['price'].median())\n",
        "\n",
        "# 6. Fill NaN with the mode (most frequent value) of a column\n",
        "df6 = df.copy()\n",
        "df6['item'] = df6['item'].fillna(df6['item'].mode()[0])\n",
        "\n",
        "# 7. Fill NaN using interpolation\n",
        "df7 = df.copy()\n",
        "df7['sales'] = df7['sales'].interpolate()\n",
        "\n",
        "# 8. Fill NaN using a dictionary of values for each column\n",
        "df8 = df.fillna({'item': 'Unknown', 'price': 45, 'sales': 95 })\n",
        "\n",
        "# 9. Drop rows containing NaN values\n",
        "df9 = df.dropna()\n",
        "\n",
        "# Displaying results\n",
        "print(\"\\nFill NaN with 0:\\n\", df1)\n",
        "print(\"\\nFill NaN in 'price' with mean:\\n\", df2)\n",
        "print(\"\\nForward Fill (ffill):\\n\", df3)\n",
        "print(\"\\nBackward Fill (bfill):\\n\", df4)\n",
        "print(\"\\nFill NaN in 'price' with median:\\n\", df5)\n",
        "print(\"\\nFill NaN in 'item' with mode:\\n\", df6)\n",
        "print(\"\\nInterpolate missing values in 'sales':\\n\", df7)\n",
        "print(\"\\nFill NaN with a dictionary:\\n\", df8)\n",
        "print(\"\\nDrop rows with NaN:\\n\", df9)\n"
      ],
      "metadata": {
        "colab": {
          "base_uri": "https://localhost:8080/"
        },
        "id": "HkrBD13mAM_K",
        "outputId": "569e58f3-bf24-4929-f075-bd80871632a6"
      },
      "execution_count": null,
      "outputs": [
        {
          "output_type": "stream",
          "name": "stdout",
          "text": [
            "Original DataFrame with NaN values:\n",
            "   item_id    item  price  sales\n",
            "0      101   Apple   50.0  200.0\n",
            "1      102  Banana    NaN  150.0\n",
            "2      103  Orange   30.0    NaN\n",
            "3      104     NaN   40.0  180.0\n",
            "4      105  Grapes    NaN  220.0\n",
            "\n",
            "Fill NaN with 0:\n",
            "    item_id    item  price  sales\n",
            "0      101   Apple   50.0  200.0\n",
            "1      102  Banana    0.0  150.0\n",
            "2      103  Orange   30.0    0.0\n",
            "3      104       0   40.0  180.0\n",
            "4      105  Grapes    0.0  220.0\n",
            "\n",
            "Fill NaN in 'price' with mean:\n",
            "    item_id    item  price  sales\n",
            "0      101   Apple   50.0  200.0\n",
            "1      102  Banana   40.0  150.0\n",
            "2      103  Orange   30.0    NaN\n",
            "3      104     NaN   40.0  180.0\n",
            "4      105  Grapes   40.0  220.0\n",
            "\n",
            "Forward Fill (ffill):\n",
            "    item_id    item  price  sales\n",
            "0      101   Apple   50.0  200.0\n",
            "1      102  Banana   50.0  150.0\n",
            "2      103  Orange   30.0  150.0\n",
            "3      104  Orange   40.0  180.0\n",
            "4      105  Grapes   40.0  220.0\n",
            "\n",
            "Backward Fill (bfill):\n",
            "    item_id    item  price  sales\n",
            "0      101   Apple   50.0  200.0\n",
            "1      102  Banana   30.0  150.0\n",
            "2      103  Orange   30.0  180.0\n",
            "3      104  Grapes   40.0  180.0\n",
            "4      105  Grapes    NaN  220.0\n",
            "\n",
            "Fill NaN in 'price' with median:\n",
            "    item_id    item  price  sales\n",
            "0      101   Apple   50.0  200.0\n",
            "1      102  Banana   40.0  150.0\n",
            "2      103  Orange   30.0    NaN\n",
            "3      104     NaN   40.0  180.0\n",
            "4      105  Grapes   40.0  220.0\n",
            "\n",
            "Fill NaN in 'item' with mode:\n",
            "    item_id    item  price  sales\n",
            "0      101   Apple   50.0  200.0\n",
            "1      102  Banana    NaN  150.0\n",
            "2      103  Orange   30.0    NaN\n",
            "3      104   Apple   40.0  180.0\n",
            "4      105  Grapes    NaN  220.0\n",
            "\n",
            "Interpolate missing values in 'sales':\n",
            "    item_id    item  price  sales\n",
            "0      101   Apple   50.0  200.0\n",
            "1      102  Banana    NaN  150.0\n",
            "2      103  Orange   30.0  165.0\n",
            "3      104     NaN   40.0  180.0\n",
            "4      105  Grapes    NaN  220.0\n",
            "\n",
            "Fill NaN with a dictionary:\n",
            "    item_id     item  price  sales\n",
            "0      101    Apple   50.0  200.0\n",
            "1      102   Banana   45.0  150.0\n",
            "2      103   Orange   30.0   95.0\n",
            "3      104  Unknown   40.0  180.0\n",
            "4      105   Grapes   45.0  220.0\n",
            "\n",
            "Drop rows with NaN:\n",
            "    item_id   item  price  sales\n",
            "0      101  Apple   50.0  200.0\n"
          ]
        }
      ]
    }
  ]
}