{
  "nbformat": 4,
  "nbformat_minor": 0,
  "metadata": {
    "colab": {
      "provenance": [],
      "include_colab_link": true
    },
    "kernelspec": {
      "name": "python3",
      "display_name": "Python 3"
    },
    "language_info": {
      "name": "python"
    }
  },
  "cells": [
    {
      "cell_type": "markdown",
      "metadata": {
        "id": "view-in-github",
        "colab_type": "text"
      },
      "source": [
        "<a href=\"https://colab.research.google.com/github/pranavkagrawal02/Minor-In-AI-IIT-Ropar/blob/main/Mar_17_sorting.ipynb\" target=\"_parent\"><img src=\"https://colab.research.google.com/assets/colab-badge.svg\" alt=\"Open In Colab\"/></a>"
      ]
    },
    {
      "cell_type": "code",
      "execution_count": 1,
      "metadata": {
        "id": "ft2UGYqLzsus",
        "colab": {
          "base_uri": "https://localhost:8080/"
        },
        "outputId": "190b7a57-053a-4c11-f725-54e9fc3ebdca"
      },
      "outputs": [
        {
          "output_type": "stream",
          "name": "stdout",
          "text": [
            "Number of comparisons: 4\n",
            "[1, 2, 3, 4, 5]\n"
          ]
        }
      ],
      "source": [
        "# Code for Bubble Sort\n",
        "\n",
        "def bubble_sort(num):\n",
        "  n = len(num)\n",
        "  bo_comp = 0\n",
        "  for i in range(n-1):\n",
        "    swap = False\n",
        "    for j in range(n-1-i):\n",
        "      bo_comp += 1\n",
        "      if num[j] > num[j+1]:\n",
        "        num[j], num[j+1] = num[j+1], num[j]\n",
        "        swap = True\n",
        "    if not swap:\n",
        "      break\n",
        "  print(\"Number of comparisons:\", bo_comp)\n",
        "  return num\n",
        "\n",
        "num = [1, 2, 3, 4, 5]\n",
        "sorted_list = bubble_sort(num)\n",
        "print(sorted_list)"
      ]
    }
  ]
}