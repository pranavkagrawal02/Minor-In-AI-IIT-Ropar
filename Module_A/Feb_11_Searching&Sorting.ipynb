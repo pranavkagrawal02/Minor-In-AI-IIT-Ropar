{
  "nbformat": 4,
  "nbformat_minor": 0,
  "metadata": {
    "colab": {
      "provenance": [],
      "include_colab_link": true
    },
    "kernelspec": {
      "name": "python3",
      "display_name": "Python 3"
    },
    "language_info": {
      "name": "python"
    }
  },
  "cells": [
    {
      "cell_type": "markdown",
      "metadata": {
        "id": "view-in-github",
        "colab_type": "text"
      },
      "source": [
        "<a href=\"https://colab.research.google.com/github/pranavkagrawal02/Minor-In-AI-IIT-Ropar/blob/main/Feb_11_Searching%26Sorting.ipynb\" target=\"_parent\"><img src=\"https://colab.research.google.com/assets/colab-badge.svg\" alt=\"Open In Colab\"/></a>"
      ]
    },
    {
      "cell_type": "code",
      "source": [
        "print(\"Hello\")"
      ],
      "metadata": {
        "colab": {
          "base_uri": "https://localhost:8080/"
        },
        "id": "sDocRk_6YqT7",
        "outputId": "bbc6a3fc-2453-4fb1-a684-b325bcd3fc63"
      },
      "execution_count": null,
      "outputs": [
        {
          "output_type": "stream",
          "name": "stdout",
          "text": [
            "Hello\n"
          ]
        }
      ]
    },
    {
      "cell_type": "code",
      "source": [
        "print(\"Hello\")\n",
        "print(\"World\")"
      ],
      "metadata": {
        "colab": {
          "base_uri": "https://localhost:8080/"
        },
        "id": "zB8eLek2c0w5",
        "outputId": "cad9ed5b-5f65-457e-a581-e75dd2959520"
      },
      "execution_count": null,
      "outputs": [
        {
          "output_type": "stream",
          "name": "stdout",
          "text": [
            "Hello\n",
            "World\n"
          ]
        }
      ]
    },
    {
      "cell_type": "code",
      "source": [
        "Hello\n",
        "Hello\n",
        "Hello\n",
        "Hello\n",
        "Hello"
      ],
      "metadata": {
        "id": "QM58dgKDc_H0"
      },
      "execution_count": null,
      "outputs": []
    },
    {
      "cell_type": "code",
      "source": [
        "print(\"Hello\")\n",
        "print(\"Hello\")\n",
        "print(\"Hello\")\n",
        "print(\"Hello\")\n",
        "print(\"Hello\")"
      ],
      "metadata": {
        "colab": {
          "base_uri": "https://localhost:8080/"
        },
        "id": "215Y1fQhdFT6",
        "outputId": "a050b822-2280-46c2-8ee5-24cb2797dca7"
      },
      "execution_count": null,
      "outputs": [
        {
          "output_type": "stream",
          "name": "stdout",
          "text": [
            "Hello\n",
            "Hello\n",
            "Hello\n",
            "Hello\n",
            "Hello\n"
          ]
        }
      ]
    },
    {
      "cell_type": "code",
      "source": [
        "#loop we can do this repeatitive task\n",
        "How many times\n",
        "What to do -- cleared"
      ],
      "metadata": {
        "id": "80J8ooYLdUGe"
      },
      "execution_count": null,
      "outputs": []
    },
    {
      "cell_type": "code",
      "source": [
        "for i in range(0,5):\n",
        "    print(\"Hello\")\n",
        "\n",
        "#range(0,5) function can give numbers 0, 1, 2, 3, 4"
      ],
      "metadata": {
        "colab": {
          "base_uri": "https://localhost:8080/"
        },
        "id": "GrX176PDdr2f",
        "outputId": "c690d8ca-6437-487c-8f99-35050ed05426"
      },
      "execution_count": null,
      "outputs": [
        {
          "output_type": "stream",
          "name": "stdout",
          "text": [
            "Hello\n",
            "Hello\n",
            "Hello\n",
            "Hello\n",
            "Hello\n"
          ]
        }
      ]
    },
    {
      "cell_type": "code",
      "source": [
        "#Print the numbers from 1 to 10\n",
        "1\n",
        "2\n",
        "3\n",
        "4\n",
        "5\n",
        "6\n",
        "7\n",
        "8\n",
        "9\n",
        "10"
      ],
      "metadata": {
        "id": "MzpX7XaeeuM2"
      },
      "execution_count": null,
      "outputs": []
    },
    {
      "cell_type": "code",
      "source": [
        "for i in range(1,11):\n",
        "    print(i)"
      ],
      "metadata": {
        "colab": {
          "base_uri": "https://localhost:8080/"
        },
        "id": "85F6TT1Fe5dj",
        "outputId": "4170514f-601b-420a-8430-07cf789bf837"
      },
      "execution_count": null,
      "outputs": [
        {
          "output_type": "stream",
          "name": "stdout",
          "text": [
            "1\n",
            "2\n",
            "3\n",
            "4\n",
            "5\n",
            "6\n",
            "7\n",
            "8\n",
            "9\n",
            "10\n"
          ]
        }
      ]
    },
    {
      "cell_type": "code",
      "source": [
        "# list --> Collection of elements/ Collection of numbers\n",
        "my_list = [10,20,30,40,50,60,70]\n",
        "n = len(my_list)"
      ],
      "metadata": {
        "id": "0GPW92YlfYTn"
      },
      "execution_count": null,
      "outputs": []
    },
    {
      "cell_type": "code",
      "source": [
        "print(n)"
      ],
      "metadata": {
        "colab": {
          "base_uri": "https://localhost:8080/"
        },
        "id": "vYvhvELUf_rW",
        "outputId": "afe12952-c39d-4164-9f9d-5d35c5e27b1a"
      },
      "execution_count": null,
      "outputs": [
        {
          "output_type": "stream",
          "name": "stdout",
          "text": [
            "7\n"
          ]
        }
      ]
    },
    {
      "cell_type": "code",
      "source": [
        "print(my_list)"
      ],
      "metadata": {
        "colab": {
          "base_uri": "https://localhost:8080/"
        },
        "id": "d6SStgzFgKtm",
        "outputId": "2b669aac-d161-4782-e0e9-f438af80b22c"
      },
      "execution_count": null,
      "outputs": [
        {
          "output_type": "stream",
          "name": "stdout",
          "text": [
            "[10, 20, 30, 40, 50, 60, 70]\n"
          ]
        }
      ]
    },
    {
      "cell_type": "code",
      "source": [
        "[10, 20, 30, 40, 50, 60, 70]\n"
      ],
      "metadata": {
        "id": "h3fBQkCDgNlO"
      },
      "execution_count": null,
      "outputs": []
    },
    {
      "cell_type": "code",
      "source": [
        "print(my_list)"
      ],
      "metadata": {
        "colab": {
          "base_uri": "https://localhost:8080/"
        },
        "id": "VUVqH96mgdg1",
        "outputId": "65ff0693-e46f-4575-9b03-2319bbb16148"
      },
      "execution_count": null,
      "outputs": [
        {
          "output_type": "stream",
          "name": "stdout",
          "text": [
            "[10, 20, 30, 40, 50, 60, 70]\n"
          ]
        }
      ]
    },
    {
      "cell_type": "code",
      "source": [
        "10\n",
        "20\n",
        "30\n",
        "40\n",
        "50\n",
        ".."
      ],
      "metadata": {
        "id": "fYmk7x02gix2"
      },
      "execution_count": null,
      "outputs": []
    },
    {
      "cell_type": "code",
      "source": [
        "print(my_list[0])\n",
        "print(my_list[1])\n",
        "print(my_list[2])"
      ],
      "metadata": {
        "colab": {
          "base_uri": "https://localhost:8080/"
        },
        "id": "sSJaNR-cgpd2",
        "outputId": "d1d87bea-a763-4b26-860b-a1151fa59cc1"
      },
      "execution_count": null,
      "outputs": [
        {
          "output_type": "stream",
          "name": "stdout",
          "text": [
            "10\n",
            "20\n",
            "30\n"
          ]
        }
      ]
    },
    {
      "cell_type": "code",
      "source": [
        "n = len(my_list)\n",
        "for i in range(0,n):\n",
        "    #i = 0,1,2,3,4,...\n",
        "    print(my_list[i])"
      ],
      "metadata": {
        "colab": {
          "base_uri": "https://localhost:8080/"
        },
        "id": "aNtSW570gxvj",
        "outputId": "79c979aa-b8ea-476f-8067-193a39208a68"
      },
      "execution_count": null,
      "outputs": [
        {
          "output_type": "stream",
          "name": "stdout",
          "text": [
            "10\n",
            "20\n",
            "30\n",
            "40\n",
            "50\n",
            "60\n",
            "70\n"
          ]
        }
      ]
    },
    {
      "cell_type": "code",
      "source": [
        "#Linear Search\n",
        "my_list = [1,5,6,2,8]\n",
        "\n",
        "n = len(my_list)\n",
        "found = False\n",
        "key = 4\n",
        "\n",
        "for i in range(0,n):\n",
        "    if my_list[i]==key:\n",
        "        found = True\n",
        "\n",
        "if found==True:\n",
        "    print(\"Found\")\n",
        "else:\n",
        "    print(\"Not Found\")"
      ],
      "metadata": {
        "colab": {
          "base_uri": "https://localhost:8080/"
        },
        "id": "dCU5Nbaxhh-l",
        "outputId": "6135aa7e-1a89-49f4-c89f-85dd88987fbd"
      },
      "execution_count": null,
      "outputs": [
        {
          "output_type": "stream",
          "name": "stdout",
          "text": [
            "Not Found\n"
          ]
        }
      ]
    },
    {
      "cell_type": "code",
      "source": [
        "#Find the minimum element index inside the list\n",
        "my_list = [12, 87, 65, 87, 76, 7, 84, 47, 86, 88, 100, 80, 15, 70, 59, 77, 55, 47, 77, 18, 23, 17, 46, 2, 80, 22, 64, 44, 41, 41, 38, 21, 1, 62, 60, 60, 48, 16, 72, 98, 26, 6, 5, 78, 28, 58, 33, 88, 72, 28]\n",
        "n = len(my_list)\n",
        "max_idx = 0\n",
        "for i in range(1,n):\n",
        "    if my_list[i]> my_list[max_idx]:\n",
        "        max_idx = i\n",
        "\n",
        "print(max_idx)"
      ],
      "metadata": {
        "colab": {
          "base_uri": "https://localhost:8080/"
        },
        "id": "sQImlM4gkRtZ",
        "outputId": "ef96a8c8-d7d9-4379-c9ca-27a247fe6883"
      },
      "execution_count": null,
      "outputs": [
        {
          "output_type": "stream",
          "name": "stdout",
          "text": [
            "10\n"
          ]
        }
      ]
    },
    {
      "cell_type": "code",
      "source": [
        "Find the index of the maximum eleme"
      ],
      "metadata": {
        "id": "-GQ9yrQGm1sp"
      },
      "execution_count": null,
      "outputs": []
    },
    {
      "cell_type": "code",
      "source": [
        "import random\n",
        "random_list = []\n",
        "for i in range(0,50):\n",
        "    num = random.randint(1,100)\n",
        "    random_list.append(num)\n",
        "\n",
        "print(random_list)\n"
      ],
      "metadata": {
        "colab": {
          "base_uri": "https://localhost:8080/"
        },
        "id": "LC373njnm8T6",
        "outputId": "529fcf48-4467-4df3-8527-b52cf7518bbb"
      },
      "execution_count": null,
      "outputs": [
        {
          "output_type": "stream",
          "name": "stdout",
          "text": [
            "[12, 87, 65, 87, 76, 7, 84, 47, 86, 88, 100, 80, 15, 70, 59, 77, 55, 47, 77, 18, 23, 17, 46, 2, 80, 22, 64, 44, 41, 41, 38, 21, 1, 62, 60, 60, 48, 16, 72, 98, 26, 6, 5, 78, 28, 58, 33, 88, 72, 28]\n"
          ]
        }
      ]
    },
    {
      "cell_type": "code",
      "source": [
        "#Selection Sort\n",
        "my_list = [5,1,4,2,8]\n",
        "n = len(my_list)\n",
        "\n",
        "for i in range(0,n):\n",
        "   min_idx = i\n",
        "   for j in range(i+1,n):\n",
        "        if my_list[j]< my_list[min_idx]:\n",
        "            min_idx = j\n",
        "       #Place the element at 0th index\n",
        "   my_list[i], my_list[min_idx] = my_list[min_idx], my_list[i]\n",
        "\n",
        "print(my_list)\n"
      ],
      "metadata": {
        "colab": {
          "base_uri": "https://localhost:8080/"
        },
        "id": "30BLhXrzomUL",
        "outputId": "949b69a0-e068-46e3-ad82-8ef99eb69f06"
      },
      "execution_count": null,
      "outputs": [
        {
          "output_type": "stream",
          "name": "stdout",
          "text": [
            "[1, 2, 4, 5, 8]\n"
          ]
        }
      ]
    },
    {
      "cell_type": "code",
      "source": [
        "my_list = [52,13,46,24,20,9]\n",
        "n = len(my_list)\n",
        "for i in range(0,n):\n",
        "    for j in range(0,n-1-i):\n",
        "        if my_list[j] > my_list[j+1]:\n",
        "             my_list[j], my_list[j+1] =  my_list[j+1], my_list[j]\n",
        "\n",
        "print(my_list)"
      ],
      "metadata": {
        "colab": {
          "base_uri": "https://localhost:8080/"
        },
        "id": "8BxCYBRZr_Sj",
        "outputId": "60ce7fae-2d0d-4445-bf55-014ceeaab27d"
      },
      "execution_count": null,
      "outputs": [
        {
          "output_type": "stream",
          "name": "stdout",
          "text": [
            "[9, 13, 20, 24, 46, 52]\n"
          ]
        }
      ]
    },
    {
      "cell_type": "code",
      "source": [
        "#Binary Search\n",
        "my_list = [3,4,6,7,9,12,16,17]\n",
        "target = 13\n",
        "ans = -1\n",
        "start = 0\n",
        "end = len(my_list)-1\n",
        "\n",
        "while(start<=end):\n",
        "    mid = (start+end)//2\n",
        "\n",
        "    if(my_list[mid]==target):\n",
        "        ans = mid\n",
        "        break\n",
        "    elif(my_list[mid]>target):\n",
        "        end = mid-1\n",
        "    elif (my_list[mid]<target):\n",
        "        start = mid+1\n",
        "\n",
        "print(ans)\n"
      ],
      "metadata": {
        "colab": {
          "base_uri": "https://localhost:8080/"
        },
        "id": "IjV3yPEe4ADU",
        "outputId": "8b678952-694d-44e3-dd0f-d77cfbd42263"
      },
      "execution_count": null,
      "outputs": [
        {
          "output_type": "stream",
          "name": "stdout",
          "text": [
            "-1\n"
          ]
        }
      ]
    },
    {
      "cell_type": "code",
      "source": [
        "def partition(my_list, start, end):\n",
        "    t1 = start\n",
        "    t2 = end\n",
        "    pivot = my_list[(start+end)//2]\n",
        "\n",
        "    while True:\n",
        "        while my_list[t1]<pivot:\n",
        "            t1 += 1\n",
        "        while my_list[t2]>pivot:\n",
        "            t2 -= 1\n",
        "        if t1>=t2:\n",
        "            return t2\n",
        "\n",
        "        #swap\n",
        "        my_list[t1], my_list[t2] = my_list[t2], my_list[t1]\n",
        "        t1 += 1\n",
        "        t2 -= 1"
      ],
      "metadata": {
        "id": "akANKFk52reY"
      },
      "execution_count": null,
      "outputs": []
    },
    {
      "cell_type": "code",
      "source": [
        "def quicksort(my_list, start, end):\n",
        "    if start<end:\n",
        "        t2 = partition(my_list, start, end)\n",
        "        quicksort(my_list,start,t2)\n",
        "        quicksort(my_list,t2+1,end)"
      ],
      "metadata": {
        "id": "LNmHRKJP9PSt"
      },
      "execution_count": null,
      "outputs": []
    },
    {
      "cell_type": "code",
      "source": [
        "my_list = [7,6,1,5,4,9,2,3]\n",
        "quicksort(my_list,0, len(my_list)-1)\n",
        "print(my_list)"
      ],
      "metadata": {
        "colab": {
          "base_uri": "https://localhost:8080/"
        },
        "id": "qxFL7OvX92Xj",
        "outputId": "341877c2-f17a-402b-e3a5-1bf896fcca0a"
      },
      "execution_count": null,
      "outputs": [
        {
          "output_type": "stream",
          "name": "stdout",
          "text": [
            "[1, 2, 3, 4, 5, 6, 7, 9]\n"
          ]
        }
      ]
    },
    {
      "cell_type": "code",
      "source": [
        "print(\"Hello\") #1 instructions"
      ],
      "metadata": {
        "colab": {
          "base_uri": "https://localhost:8080/"
        },
        "id": "bar9lM7FBF4b",
        "outputId": "6fe91b08-f8df-4e21-850e-5cd6d8879b6a"
      },
      "execution_count": null,
      "outputs": [
        {
          "output_type": "stream",
          "name": "stdout",
          "text": [
            "Hello\n"
          ]
        }
      ]
    },
    {
      "cell_type": "code",
      "source": [
        "print(\"Hello\") #2 instructions\n",
        "print(\"Hello\")"
      ],
      "metadata": {
        "colab": {
          "base_uri": "https://localhost:8080/"
        },
        "id": "BQAbM2XyBJTu",
        "outputId": "66d93270-99c1-4164-98b2-53cba10db8d8"
      },
      "execution_count": null,
      "outputs": [
        {
          "output_type": "stream",
          "name": "stdout",
          "text": [
            "Hello\n",
            "Hello\n"
          ]
        }
      ]
    },
    {
      "cell_type": "code",
      "source": [
        "for i in range(0,10):\n",
        "    print(\"Hello\")"
      ],
      "metadata": {
        "id": "PsuRciwWBRrJ"
      },
      "execution_count": null,
      "outputs": []
    },
    {
      "cell_type": "code",
      "source": [
        "for i in range(0,10):\n",
        "    print(\"Hello\")\n",
        "    print(\"Hello\")\n"
      ],
      "metadata": {
        "id": "THei6TU_BctK"
      },
      "execution_count": null,
      "outputs": []
    },
    {
      "cell_type": "code",
      "source": [
        "for i in range(0,n):\n",
        "    for j in range(0,n):\n",
        "        print(my_list[i])\n",
        "\n",
        "    print(my_list[i])\n",
        "n = 1000000\n",
        "# n*n + n = 1000000+1000 = 100000001000  ~ O(n*n)"
      ],
      "metadata": {
        "id": "QgM4vVNGBm7Q"
      },
      "execution_count": null,
      "outputs": []
    },
    {
      "cell_type": "code",
      "source": [
        "key = 5\n",
        "n = len(my_list) #number of instructions is n\n",
        "for i in range(0,len(my_list)):\n",
        "    if(my_list[i]==key):\n",
        "        print(\"Found\")"
      ],
      "metadata": {
        "id": "ZXd4cAtBB6vW"
      },
      "execution_count": null,
      "outputs": []
    },
    {
      "cell_type": "code",
      "source": [
        "Time complexity of linear search is O(n)"
      ],
      "metadata": {
        "id": "Np6zddqoCXdC"
      },
      "execution_count": null,
      "outputs": []
    },
    {
      "cell_type": "code",
      "source": [
        "for i in ran"
      ],
      "metadata": {
        "id": "lNzxdc7LCgQU"
      },
      "execution_count": null,
      "outputs": []
    }
  ]
}