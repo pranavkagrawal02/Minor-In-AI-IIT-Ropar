{
  "nbformat": 4,
  "nbformat_minor": 0,
  "metadata": {
    "colab": {
      "provenance": [],
      "collapsed_sections": [
        "ViFm7sISEJ5_"
      ],
      "include_colab_link": true
    },
    "kernelspec": {
      "name": "python3",
      "display_name": "Python 3"
    },
    "language_info": {
      "name": "python"
    }
  },
  "cells": [
    {
      "cell_type": "markdown",
      "metadata": {
        "id": "view-in-github",
        "colab_type": "text"
      },
      "source": [
        "<a href=\"https://colab.research.google.com/github/pranavkagrawal02/Minor-In-AI-IIT-Ropar/blob/main/Feb_6__Tutorial_Session_Laxman_newBatch_ModuleA.ipynb\" target=\"_parent\"><img src=\"https://colab.research.google.com/assets/colab-badge.svg\" alt=\"Open In Colab\"/></a>"
      ]
    },
    {
      "cell_type": "markdown",
      "source": [
        "# Prompting"
      ],
      "metadata": {
        "id": "ViFm7sISEJ5_"
      }
    },
    {
      "cell_type": "code",
      "execution_count": null,
      "metadata": {
        "colab": {
          "base_uri": "https://localhost:8080/"
        },
        "id": "mbl1rcisPP3x",
        "outputId": "70e5c70b-0127-430b-b163-daedc3d6552d"
      },
      "outputs": [
        {
          "output_type": "stream",
          "name": "stdout",
          "text": [
            "[245, 99, 125, 17, 117, 145, 172, 53, 50, 105, 145]\n",
            "Number of elements in the room before repetition: 11\n"
          ]
        }
      ],
      "source": [
        "import random\n",
        "\n",
        "# Create a list with 365 numbers (representing days in a year)\n",
        "days = list(range(1, 366))\n",
        "\n",
        "# Initialize an empty list to represent the room\n",
        "room = []\n",
        "\n",
        "while True:\n",
        "    # Pick a random number from the list of days\n",
        "    chosen_day = random.choice(days)\n",
        "\n",
        "    # Check if the chosen number is already in the room\n",
        "    if chosen_day in room:\n",
        "        room.append(chosen_day)\n",
        "        break  # Stop when a repetition is found\n",
        "\n",
        "    # Add the chosen number to the room\n",
        "    room.append(chosen_day)\n",
        "print(room)\n",
        "# Display the number of elements in the room\n",
        "print(f\"Number of elements in the room before repetition: {len(room)}\")"
      ]
    },
    {
      "cell_type": "markdown",
      "source": [],
      "metadata": {
        "id": "oro-mSYjCzxI"
      }
    },
    {
      "cell_type": "markdown",
      "source": [
        "# OOPS"
      ],
      "metadata": {
        "id": "1xqLySxLCM9y"
      }
    },
    {
      "cell_type": "code",
      "source": [
        "# Student name: Bhooimka, Id : \"00\" , gender : \"F\"\n",
        "# Student name: Suman, Id : \"01\" , gender : \"F\"\n",
        "# Student name: Avinash, Id : \"02\" , gender : \"M\"\n",
        "class Student:\n",
        "  def __init__(self, n, anyId):\n",
        "    self.name = n\n",
        "    self.id = anyId\n",
        "\n",
        "  def changeName(self, newName):\n",
        "    self.name= newName\n",
        "    # print(f\"Hey, I am {self.name} and my id is {self.id}.\")\n",
        "\n",
        "    # self.gender = gender\n",
        "S1= Student(\"Bhoomika\", \"00\")\n",
        "S2= Student(\"Yash\", \"01\")\n",
        "S3= Student(\"Nanditha\", \"02\")\n",
        "S1.chabeName(\"Yash\")\n",
        "l= [12,13,14,1,9]\n",
        "l.sort()\n",
        "# defintion, calling,\n",
        "# print(f\"Hey, I am Bhoomika and my id is 00.\")\n",
        "# print(f\" Hey, I am Yash and \")\n",
        "# print()\n",
        "# S1.intro()\n",
        "# S2.intro()\n",
        "# S3.intro()\n",
        "S3.changeName(\"Nandita\")\n",
        "\n",
        "print(S3.name)"
      ],
      "metadata": {
        "colab": {
          "base_uri": "https://localhost:8080/"
        },
        "id": "8SfBiedmCYhy",
        "outputId": "fa47dbb2-7f4a-4e54-8625-eacb2a197a49"
      },
      "execution_count": null,
      "outputs": [
        {
          "output_type": "stream",
          "name": "stdout",
          "text": [
            "Nandita\n"
          ]
        }
      ]
    },
    {
      "cell_type": "code",
      "source": [
        "def square(m, n):\n",
        "  return m*n\n",
        "\n",
        "print(square(4,3))"
      ],
      "metadata": {
        "colab": {
          "base_uri": "https://localhost:8080/"
        },
        "id": "-CvMnXDTDvO8",
        "outputId": "96fb52d3-10f0-442d-8d2b-3109e8fd178e"
      },
      "execution_count": null,
      "outputs": [
        {
          "output_type": "stream",
          "name": "stdout",
          "text": [
            "12\n"
          ]
        }
      ]
    },
    {
      "cell_type": "code",
      "source": [
        "class BankAccount:\n",
        "  def __init__(self, name, balance):\n",
        "    self.name = name\n",
        "    self.__balance = balance\n",
        "\n",
        "  def deposit(self, amount):\n",
        "    self.__balance += amount\n",
        "  def withdraw(self, amount):\n",
        "    if amount <= self.__balance:\n",
        "        self.__balance -= amount\n",
        "    else:\n",
        "        print(\"Insufficient funds\")\n",
        "  def get_balance(self):\n",
        "    return self.__balance\n",
        "Sarthak_account= BankAccount(\"Sarthak\", 100000)"
      ],
      "metadata": {
        "id": "tZNH44lkLeda"
      },
      "execution_count": null,
      "outputs": []
    },
    {
      "cell_type": "code",
      "source": [
        "\n",
        "Sarthak_account.withdraw(10000)\n",
        "Sarthak_account.get_balance()\n",
        "# print(Sarthak_account.balance)"
      ],
      "metadata": {
        "colab": {
          "base_uri": "https://localhost:8080/"
        },
        "id": "ulXQWAlIMQLr",
        "outputId": "a0a8468e-73ae-48fe-cb1d-65e2042f4be3"
      },
      "execution_count": null,
      "outputs": [
        {
          "output_type": "execute_result",
          "data": {
            "text/plain": [
              "90000"
            ]
          },
          "metadata": {},
          "execution_count": 38
        }
      ]
    },
    {
      "cell_type": "code",
      "source": [
        "class College_Person:\n",
        "    def __init__(self, name, id):\n",
        "        self.__name = name\n",
        "        self.__id = id\n",
        "        self.roll_no = None\n",
        "        self.standard= None\n",
        "Varun.name = Varn VArn.id = 004, varun.standard= 15\n",
        "Yash.name = Yash, Yash.id = 005, Yash.standard= 15\n",
        "    def get_name(self):\n",
        "        return self.__name\n",
        "    def get_id(self):\n",
        "        return self.__id\n",
        "    def set_name(self, name):\n",
        "        self.__name = name\n",
        "    def set_id(self, id):\n",
        "        self.__id = id\n",
        "\n",
        "class Student(College_Person):\n",
        "    def __init__(self, name, id, fees):\n",
        "        super().__init__(name, id)\n",
        "        self.fees = fees\n",
        "Bhoomika= Student(\"Bhoomika\", \"01\", 40000)\n",
        "class Teacher(College_Person):\n",
        "    def __init__(self, name, id, salary):\n",
        "        super().__init__(name, id)\n",
        "        self.salary = salary\n",
        "\n",
        "# Create an instance of the Student class\n",
        "VArun = Student(\"Bhoomika\", \"01\", 40000)\n",
        "Yash = Student(\"Yash\", \"01\", 40000)\n",
        "Laxman = Teacher(\"Laxman\", \"13\", 50000)\n",
        "\n",
        "# # Access the attributes\n",
        "# print(student1.name)  # Output: Alice\n",
        "# print(student1.id)    # Output: 12345\n",
        "# print(student1.fees)  # Output: 10000"
      ],
      "metadata": {
        "id": "VcfRX_UrP1Sb"
      },
      "execution_count": null,
      "outputs": []
    },
    {
      "cell_type": "markdown",
      "source": [],
      "metadata": {
        "id": "iRgdISSjQOox"
      }
    },
    {
      "cell_type": "code",
      "source": [
        "class Teacher:\n",
        "    def __init__(self, name, id, salary):\n",
        "        self.name = name\n",
        "        self.id = id\n",
        "        self.salary = salary\n",
        "\n",
        "# Create an instance of the Teacher class\n",
        "teacher1 = Teacher(\"Bob\", \"67890\", 50000)\n",
        "\n",
        "# Access the attributes\n",
        "print(teacher1.name)   # Output: Bob\n",
        "print(teacher1.id)     # Output: 67890\n",
        "print(teacher1.salary) # Output: 50000"
      ],
      "metadata": {
        "id": "b-R9QvZfQPsZ"
      },
      "execution_count": null,
      "outputs": []
    },
    {
      "cell_type": "markdown",
      "source": [],
      "metadata": {
        "id": "NnSTwG6zEbq_"
      }
    },
    {
      "cell_type": "markdown",
      "source": [
        "# Probability"
      ],
      "metadata": {
        "id": "43hR0CPwC1gy"
      }
    },
    {
      "cell_type": "code",
      "source": [
        "# Basic Statistics and Probability Visualizations in Python\n",
        "# Includes print statements for better learning experience\n",
        "\n",
        "# Import necessary libraries\n",
        "import numpy as np\n",
        "import pandas as pd\n",
        "import matplotlib.pyplot as plt\n",
        "import seaborn as sns\n",
        "from scipy.stats import norm, poisson, binom\n",
        "\n",
        "# Set style for plots\n",
        "sns.set(style=\"whitegrid\")\n",
        "\n",
        "# -----------------------------------------------\n",
        "# 1️⃣ Probability Basics: Coin Toss, Dice Roll\n",
        "# -----------------------------------------------\n",
        "print(\"\\n📌 Step 1: Simulating Probability Basics (Coin Toss, Dice Roll)\")\n",
        "\n",
        "# Simulate a fair coin toss (Heads = 1, Tails = 0)\n",
        "np.random.seed(42)\n",
        "coin_tosses = np.random.choice([0, 1], size=10000, p=[0.1, 0.9])\n",
        "\n",
        "print(\"✅ Simulated 1000 fair coin tosses. Now visualizing the distribution.\")\n",
        "\n",
        "# Visualize Coin Toss Distribution\n",
        "plt.figure(figsize=(6,4))\n",
        "sns.histplot(coin_tosses, bins=2, kde=False)\n",
        "plt.xticks([0,1], [\"Tails\", \"Heads\"])\n",
        "plt.title(\"Fair Coin Toss Distribution\")\n",
        "plt.show()\n",
        "\n",
        "# Simulate rolling a fair 6-sided dice\n",
        "dice_rolls = np.random.choice([1, 2, 3, 4, 5, 6], size=10000)\n",
        "\n",
        "print(\"✅ Simulated 1000 fair dice rolls. Now visualizing the distribution.\")\n",
        "\n",
        "# Visualize Dice Roll Distribution\n",
        "plt.figure(figsize=(6,4))\n",
        "sns.histplot(dice_rolls, bins=6, kde=False, discrete=True)\n",
        "plt.title(\"Fair Dice Roll Probability Distribution\")\n",
        "plt.show()\n",
        "\n",
        "# -----------------------------------------------\n",
        "# 2️⃣ Conditional Probability (Bayes' Theorem Example)\n",
        "# -----------------------------------------------\n",
        "print(\"\\n📌 Step 2: Understanding Conditional Probability (Bayes' Theorem Example)\")\n",
        "\n",
        "# Example: Probability of having a disease given a positive test\n",
        "p_disease = 0.01    # Prior probability of having the disease\n",
        "p_positive_given_disease = 0.95  # Sensitivity (True Positive Rate)\n",
        "p_positive_given_no_disease = 0.05  # False Positive Rate\n",
        "\n",
        "# Bayes' Theorem Formula\n",
        "p_no_disease = 1 - p_disease\n",
        "p_positive = (p_positive_given_disease * p_disease) + (p_positive_given_no_disease * p_no_disease)\n",
        "p_disease_given_positive = (p_positive_given_disease * p_disease) / p_positive\n",
        "\n",
        "print(f\"✅ Probability of having the disease given a positive test: {p_disease_given_positive:.3f}\")\n",
        "\n",
        "# -----------------------------------------------\n",
        "# 3️⃣ Probability Distributions (Normal, Poisson, Binomial)\n",
        "# -----------------------------------------------\n",
        "print(\"\\n📌 Step 3: Understanding Probability Distributions (Normal, Poisson, Binomial)\")\n",
        "\n",
        "# Normal Distribution (Height of people)\n",
        "mu, sigma = 170, 1  # Mean and Standard Deviation\n",
        "x = np.linspace(140, 200, 1000)\n",
        "y = norm.pdf(x, mu, sigma)\n",
        "\n",
        "print(\"✅ Visualizing a Normal Distribution (Example: Heights of people)\")\n",
        "\n",
        "plt.figure(figsize=(6,4))\n",
        "plt.plot(x, y, label=\"Normal Distribution\")\n",
        "plt.fill_between(x, y, alpha=0.3)\n",
        "plt.title(\"Normal Distribution (Height of People)\")\n",
        "plt.xlabel(\"Height (cm)\")\n",
        "plt.ylabel(\"Probability Density\")\n",
        "plt.legend()\n",
        "plt.show()\n",
        "\n",
        "# Poisson Distribution (Number of calls received per hour)\n",
        "lam = 5  # Expected number of calls per hour\n",
        "poisson_vals = np.arange(0, 15)\n",
        "poisson_prob = poisson.pmf(poisson_vals, lam)\n",
        "\n",
        "print(\"✅ Visualizing a Poisson Distribution (Example: Calls received per hour)\")\n",
        "\n",
        "plt.figure(figsize=(6,4))\n",
        "sns.barplot(x=poisson_vals, y=poisson_prob)\n",
        "plt.title(\"Poisson Distribution (Calls per Hour)\")\n",
        "plt.xlabel(\"Number of Calls\")\n",
        "plt.ylabel(\"Probability\")\n",
        "plt.show()\n",
        "\n",
        "# Binomial Distribution (Coin Flips)\n",
        "n, p = 100, 0.5  # Number of trials, probability of success\n",
        "binom_vals = np.arange(0, n+1)\n",
        "binom_prob = binom.pmf(binom_vals, n, p)\n",
        "\n",
        "print(\"✅ Visualizing a Binomial Distribution (Example: Coin flips in 10 trials)\")\n",
        "\n",
        "plt.figure(figsize=(6,4))\n",
        "sns.barplot(x=binom_vals, y=binom_prob)\n",
        "plt.title(\"Binomial Distribution (Coin Flips)\")\n",
        "plt.xlabel(\"Number of Heads in 10 Flips\")\n",
        "plt.ylabel(\"Probability\")\n",
        "plt.show()\n",
        "\n",
        "# -----------------------------------------------\n",
        "# 4️⃣ Mean, Variance, Standard Deviation Example\n",
        "# -----------------------------------------------\n",
        "print(\"\\n📌 Step 4: Understanding Mean, Variance, and Standard Deviation\")\n",
        "\n",
        "data = np.random.normal(50, 15, size=1000)  # Simulate a dataset\n",
        "mean_value = np.mean(data)\n",
        "variance_value = np.var(data)\n",
        "std_dev_value = np.std(data)\n",
        "\n",
        "print(f\"✅ Mean: {mean_value:.2f}\")\n",
        "print(f\"✅ Variance: {variance_value:.2f}\")\n",
        "print(f\"✅ Standard Deviation: {std_dev_value:.2f}\")\n",
        "\n",
        "# Visualizing Mean & Std Dev\n",
        "print(\"✅ Visualizing the dataset with mean and standard deviation markers.\")\n",
        "\n",
        "plt.figure(figsize=(6,4))\n",
        "sns.histplot(data, kde=True, bins=30)\n",
        "plt.axvline(mean_value, color='r', linestyle='dashed', label=f\"Mean: {mean_value:.2f}\")\n",
        "plt.axvline(mean_value - std_dev_value, color='g', linestyle='dashed', label=f\"-1 Std Dev\")\n",
        "plt.axvline(mean_value + std_dev_value, color='g', linestyle='dashed', label=f\"+1 Std Dev\")\n",
        "plt.title(\"Data Distribution with Mean & Standard Deviation\")\n",
        "plt.legend()\n",
        "plt.show()\n",
        "\n",
        "print(\"\\n🎉 Statistics lesson complete! You've learned about probability, distributions, and statistical measures with Python.\")\n"
      ],
      "metadata": {
        "colab": {
          "base_uri": "https://localhost:8080/",
          "height": 1000
        },
        "id": "xMi9EEoPC6u6",
        "outputId": "744bb5f7-4d23-41f5-c0b1-76f55a93c5c8"
      },
      "execution_count": null,
      "outputs": [
        {
          "output_type": "stream",
          "name": "stdout",
          "text": [
            "\n",
            "📌 Step 1: Simulating Probability Basics (Coin Toss, Dice Roll)\n",
            "✅ Simulated 1000 fair coin tosses. Now visualizing the distribution.\n"
          ]
        },
        {
          "output_type": "display_data",
          "data": {
            "text/plain": [
              "<Figure size 600x400 with 1 Axes>"
            ],
            "image/png": "[encoded data removed]"
          },
          "metadata": {}
        },
        {
          "output_type": "stream",
          "name": "stdout",
          "text": [
            "✅ Simulated 1000 fair dice rolls. Now visualizing the distribution.\n"
          ]
        },
        {
          "output_type": "display_data",
          "data": {
            "text/plain": [
              "<Figure size 600x400 with 1 Axes>"
            ],
            "image/png": "[encoded data removed]"
          },
          "metadata": {}
        },
        {
          "output_type": "stream",
          "name": "stdout",
          "text": [
            "\n",
            "📌 Step 2: Understanding Conditional Probability (Bayes' Theorem Example)\n",
            "✅ Probability of having the disease given a positive test: 0.161\n",
            "\n",
            "📌 Step 3: Understanding Probability Distributions (Normal, Poisson, Binomial)\n",
            "✅ Visualizing a Normal Distribution (Example: Heights of people)\n"
          ]
        },
        {
          "output_type": "display_data",
          "data": {
            "text/plain": [
              "<Figure size 600x400 with 1 Axes>"
            ],
            "image/png": "[encoded data removed]"
          },
          "metadata": {}
        },
        {
          "output_type": "stream",
          "name": "stdout",
          "text": [
            "✅ Visualizing a Poisson Distribution (Example: Calls received per hour)\n"
          ]
        },
        {
          "output_type": "display_data",
          "data": {
            "text/plain": [
              "<Figure size 600x400 with 1 Axes>"
            ],
            "image/png": "[encoded data removed]"
          },
          "metadata": {}
        },
        {
          "output_type": "stream",
          "name": "stdout",
          "text": [
            "✅ Visualizing a Binomial Distribution (Example: Coin flips in 10 trials)\n"
          ]
        },
        {
          "output_type": "display_data",
          "data": {
            "text/plain": [
              "<Figure size 600x400 with 1 Axes>"
            ],
            "image/png": "[encoded data removed]"
          },
          "metadata": {}
        },
        {
          "output_type": "stream",
          "name": "stdout",
          "text": [
            "\n",
            "📌 Step 4: Understanding Mean, Variance, and Standard Deviation\n",
            "✅ Mean: 50.45\n",
            "✅ Variance: 228.69\n",
            "✅ Standard Deviation: 15.12\n",
            "✅ Visualizing the dataset with mean and standard deviation markers.\n"
          ]
        },
        {
          "output_type": "display_data",
          "data": {
            "text/plain": [
              "<Figure size 600x400 with 1 Axes>"
            ],
            "image/png": "[encoded data removed]"
          },
          "metadata": {}
        },
        {
          "output_type": "stream",
          "name": "stdout",
          "text": [
            "\n",
            "🎉 Statistics lesson complete! You've learned about probability, distributions, and statistical measures with Python.\n"
          ]
        }
      ]
    },
    {
      "cell_type": "markdown",
      "source": [],
      "metadata": {
        "id": "qZnbu1PeC4EI"
      }
    },
    {
      "cell_type": "markdown",
      "source": [
        "# Algorithms\n",
        "https://see-algorithms.com/sorting/"
      ],
      "metadata": {
        "id": "n0MPa0S1ETRx"
      }
    },
    {
      "cell_type": "code",
      "source": [
        "l =[40,45,36, 76, 100,85,99, 42,100, 100, 33]\n",
        "for el in l:\n",
        "  if el==100:\n",
        "\n",
        "    # result = True\n",
        "    print(\"There is a student with full score\")\n",
        "# if result ==True:\n",
        "#   print(\"There is a student with full score\")\n",
        "# else:\n",
        "#   print(\"There is no student with full score\")"
      ],
      "metadata": {
        "colab": {
          "base_uri": "https://localhost:8080/"
        },
        "id": "wAcJ9GR1HASJ",
        "outputId": "a71e2f90-ad3e-4b65-eb63-4b690d8e11b9"
      },
      "execution_count": null,
      "outputs": [
        {
          "output_type": "stream",
          "name": "stdout",
          "text": [
            "There is a student with full score\n"
          ]
        }
      ]
    },
    {
      "cell_type": "code",
      "source": [
        "# functions, return statement\n",
        "def linearSearch(l, target):\n",
        "  for el in l:\n",
        "    if el==target:\n",
        "      return True\n",
        "  return False"
      ],
      "metadata": {
        "id": "JhzSRbuDHa_a"
      },
      "execution_count": null,
      "outputs": []
    },
    {
      "cell_type": "code",
      "source": [
        "def binarySearch(list, target):\n",
        "  l =0\n",
        "  r= len(list)-1\n",
        "  mid = l + r//2\n",
        "  while l<=r:\n",
        "    if list[mid] == target:\n",
        "       return True\n",
        "    if list[mid] > target:\n",
        "      r = mid -1\n",
        "    elif list[mid] < target:\n",
        "       l = mid+1\n",
        "  return False\n",
        "\n",
        "\n",
        "\n",
        "  # while l<=r:\n",
        "  #   mid = (l+r)//2\n",
        "  #   if list[mid] == target:\n",
        "  #     return True\n",
        "  #   elif list[mid] < target:\n",
        "  #     l = mid+1\n",
        "  #   else:\n",
        "  #     r = mid-1\n",
        "  # return False\n"
      ],
      "metadata": {
        "id": "9AkoacWMJFjh"
      },
      "execution_count": null,
      "outputs": []
    },
    {
      "cell_type": "code",
      "source": [
        "list = [22, 24, 29, 35, 38, 41, 45, 46, 51, 55, 66, 76, 87, 88, 92, 94, 96, 100]"
      ],
      "metadata": {
        "id": "EWH4oZP5KxTK"
      },
      "execution_count": null,
      "outputs": []
    },
    {
      "cell_type": "code",
      "source": [
        "def bubble_sort(list_):\n",
        "  n = len(list_)\n",
        "  for i in range(n):\n",
        "    # Flag to optimize - if no swaps occur, the list is sorted\n",
        "    swapped = False\n",
        "    # Last i elements are already in place\n",
        "    for j in range(0, n - i - 1):\n",
        "      # Swap if the element found is greater than the next element\n",
        "      if list_[j] > list_[j + 1]:\n",
        "        list_[j], list_[j + 1] = list_[j + 1], list_[j]\n",
        "        swapped = True\n",
        "    # If no two elements were swapped in inner loop, the array is sorted\n",
        "    if not swapped:\n",
        "      break\n",
        "  return list_\n",
        "\n",
        "# Example usage:\n",
        "my_list = [64, 34, 25, 12, 22, 11, 90]\n"
      ],
      "metadata": {
        "id": "LDdIJ52aQmoT"
      },
      "execution_count": null,
      "outputs": []
    },
    {
      "cell_type": "markdown",
      "source": [
        "# Numpy"
      ],
      "metadata": {
        "id": "jF1PdsqPFPfx"
      }
    },
    {
      "cell_type": "markdown",
      "source": [
        "## Numpy methods\n"
      ],
      "metadata": {
        "id": "JsnM5WXbMm0a"
      }
    },
    {
      "cell_type": "code",
      "source": [
        "import numpy as np\n",
        "\n",
        "# Sample dataset: Student scores in Math, Science, and English\n",
        "scores = np.array([\n",
        "    [85, 78, 92],  # Student 1\n",
        "    [88, 90, 85],  # Student 2\n",
        "    [75, 80, 95],  # Student 3\n",
        "    [92, 85, 88],  # Student 4\n",
        "])\n",
        "\n",
        "# 1. Basic properties of the array\n",
        "print(\"Shape of the array:\", scores.shape)  # (4,3) -> 4 students, 3 subjects\n",
        "print(\"Data type:\", scores.dtype)\n",
        "\n",
        "# 2. Indexing and Slicing\n",
        "print(\"Scores of Student 2:\", scores[1])  # Second row (Student 2)\n",
        "print(\"Math scores of all students:\", scores[:, 0])  # First column (Math scores)\n",
        "\n",
        "# 3. Performing basic mathematical operations\n",
        "bonus_points = np.array([5, 5, 5])  # Adding 5 bonus points to each subject\n",
        "new_scores = scores + bonus_points  # Broadcasting\n",
        "print(\"New Scores after bonus:\\n\", new_scores)\n",
        "\n",
        "# 4. Aggregation functions\n",
        "print(\"Mean scores per subject:\", np.mean(scores, axis = 0))  # Mean of each column\n",
        "print(\"Total scores per student:\", np.sum(scores, axis=1))  # Sum of each row\n",
        "print(\"Standard deviation of scores:\", np.std(scores))\n",
        "\n",
        "# 5. Boolean Indexing: Find students who scored above 90 in Math\n",
        "math_scores = scores[:, 0]  # Extract Math scores\n",
        "high_math_scorers = scores[math_scores > 90]\n",
        "print(\"Students with Math > 90:\\n\", high_math_scorers)\n",
        "\n",
        "# 6. Matrix Operations: Weighted Scores\n",
        "weights = np.array([0.3, 0.3, 0.4])  # Weightage for subjects\n",
        "weighted_scores = np.dot(scores, weights)  # Weighted sum for each student\n",
        "print(\"Weighted scores per student:\", weighted_scores)\n"
      ],
      "metadata": {
        "colab": {
          "base_uri": "https://localhost:8080/"
        },
        "id": "bf3MaYzsFRSs",
        "outputId": "90fd510d-9f83-499c-c5d9-54bc911466d3"
      },
      "execution_count": null,
      "outputs": [
        {
          "output_type": "stream",
          "name": "stdout",
          "text": [
            "Shape of the array: (4, 3)\n",
            "Data type: int64\n",
            "Scores of Student 2: [88 90 85]\n",
            "Math scores of all students: [85 88 75 92]\n",
            "New Scores after bonus:\n",
            " [[ 90  83  97]\n",
            " [ 93  95  90]\n",
            " [ 80  85 100]\n",
            " [ 97  90  93]]\n",
            "Mean scores per subject: [85.   83.25 90.  ]\n",
            "Total scores per student: [255 263 250 265]\n",
            "Standard deviation of scores: 5.780114377953279\n",
            "Students with Math > 90:\n",
            " [[92 85 88]]\n",
            "Weighted scores per student: [85.7 87.4 84.5 88.3]\n"
          ]
        }
      ]
    },
    {
      "cell_type": "code",
      "source": [
        "import numpy as np\n",
        "\n",
        "# Creating arrays using np.zeros() and np.ones()\n",
        "zeros_array = np.zeros((3, 3))  # 3x3 array filled with zeros\n",
        "ones_array = np.ones((3, 3))  # 3x3 array filled with ones\n",
        "\n",
        "print(\"3x3 Array of Zeros:\\n\", zeros_array)\n",
        "print(\"3x3 Array of Ones:\\n\", ones_array)\n",
        "\n",
        "# Creating a sample 2D array\n",
        "arr = np.array([\n",
        "    [10, 20, 30],\n",
        "    [40, 50, 60],\n",
        "    [70, 80, 90]\n",
        "])\n",
        "\n",
        "print(\"\\nOriginal Array:\\n\", arr)\n",
        "\n",
        "# -----------------------------------\n",
        "# ** Access-Based Indexing Methods **\n",
        "# -----------------------------------\n",
        "\n",
        "# 1. Accessing a single element\n",
        "print(\"Element at row index 1, column index 2:\", arr[1, 2])  # Output: 60\n",
        "\n",
        "# 2. Accessing an entire row\n",
        "print(\"First row:\", arr[0])  # Output: [10, 20, 30]\n",
        "\n",
        "# 3. Accessing an entire column\n",
        "print(\"Second column:\", arr[:, 1])  # Output: [20, 50, 80]\n",
        "\n",
        "# 4. Slicing (Subarrays)\n",
        "print(\"Subarray (first two rows, first two columns):\\n\", arr[:2, :2])\n",
        "\n",
        "# 5. Using Negative Indexing\n",
        "print(\"Last row:\", arr[-1])  # Output: [70, 80, 90]\n",
        "print(\"Last element:\", arr[-1, -1])  # Output: 90\n",
        "\n",
        "# 6. Boolean Indexing (Filtering Elements)\n",
        "print(\"Elements greater than 30:\\n\", arr[arr > 30])  # Output: [40, 50, 60, 70, 80, 90]\n",
        "\n",
        "# -----------------------------------\n",
        "# ** Reshaping Arrays with np.reshape() **\n",
        "# -----------------------------------\n",
        "\n",
        "# Creating a 1D array with 9 elements\n",
        "arr_1d = np.array([1, 2, 3, 4, 5, 6, 7, 8, 9])\n",
        "\n",
        "# Reshaping it into a 3x3 array\n",
        "reshaped_arr = arr_1d.reshape((3, 3))\n",
        "\n",
        "print(\"\\nOriginal 1D Array:\\n\", arr_1d)\n",
        "print(\"Reshaped 3x3 Array:\\n\", reshaped_arr)\n",
        "\n",
        "# Reshaping a 3x3 array back into a 1D array\n",
        "flattened_arr = reshaped_arr.reshape(-1)\n",
        "print(\"Flattened 1D Array:\\n\", flattened_arr)\n"
      ],
      "metadata": {
        "id": "d8MrAzqvHd1O"
      },
      "execution_count": null,
      "outputs": []
    },
    {
      "cell_type": "code",
      "source": [
        "import numpy as np\n",
        "\n",
        "# Creating an original array\n",
        "original_array = np.array([10, 20, 30, 40, 50])\n",
        "\n",
        "# Assigning without copying (reference, not a new copy)\n",
        "referenced_array = original_array\n",
        "referenced_array[0] = 99  # Modifies original_array as well!\n",
        "\n",
        "print(\"Original Array after modification:\", original_array)  # [99, 20, 30, 40, 50]\n",
        "\n",
        "# Creating a true copy\n",
        "copied_array = original_array.copy()\n",
        "copied_array[0] = 100  # Does NOT affect original_array\n",
        "\n",
        "print(\"Copied Array:\", copied_array)  # [100, 20, 30, 40, 50]\n",
        "print(\"Original Array remains unchanged:\", original_array)  # [99, 20, 30, 40, 50]\n"
      ],
      "metadata": {
        "id": "dZz45xpQH0Dn"
      },
      "execution_count": null,
      "outputs": []
    },
    {
      "cell_type": "markdown",
      "source": [
        "### Case Study: Student Performance Analysis Using NumPy\n",
        "\n",
        "### **Problem Statement**\n",
        "A university wants to analyze student performance across three subjects: **Math, Science, and English**. The university has collected scores for **5 students** and wants to perform various operations to gain insights.\n",
        "\n",
        "Using **NumPy**, solve the following tasks:\n",
        "\n",
        "### **Tasks to Perform**\n",
        "\n",
        "### **1. Create the Dataset**\n",
        "- Store student scores in a **NumPy array** using `np.array()`.\n",
        "\n",
        "### **2. Analyze Properties of the Dataset**\n",
        "- Find the **shape** of the array using `.shape`.\n",
        "- Check the **data type** using `.dtype`.\n",
        "\n",
        "### **3. Access and Modify Specific Elements**\n",
        "- Retrieve **Math scores** for all students.\n",
        "- Retrieve the **third student’s scores**.\n",
        "- Update the **Science score of the first student**.\n",
        "\n",
        "### **4. Perform Mathematical Operations**\n",
        "- Add **bonus points (+5)** to all scores using **broadcasting**.\n",
        "- Compute the **average score per subject** using `np.mean()`.\n",
        "- Find the **highest score per subject** using `np.max()`.\n",
        "\n",
        "### **5. Boolean Indexing**\n",
        "- Identify students who scored **above 85 in Math**.\n",
        "\n",
        "### **6. Copying and Reshaping Data**\n",
        "- Create a **copy** of the dataset before modifying it.\n",
        "- Reshape the array into a **single row (flattened)** format.\n",
        "\n",
        "### **7. Extract Specific Subsets Using Slicing**\n",
        "- Extract scores of **first three students**.\n",
        "- Extract only the **Math and English scores** for all students.\n",
        "\n",
        "---\n",
        "## **Expected Learning Outcomes**\n",
        "By solving this case study, learners will understand:\n",
        "- **Array creation and manipulation** in NumPy.\n",
        "- **Indexing, slicing, and reshaping** arrays efficiently.\n",
        "- **Performing mathematical operations** on NumPy arrays.\n",
        "- **Boolean indexing for filtering** data based on conditions.\n",
        "- **Copying arrays safely** to avoid unintentional modifications.\n",
        "\n",
        "Would you like the **solution** in Markdown as well? 🚀\n"
      ],
      "metadata": {
        "id": "sdNOvaUwMJb_"
      }
    },
    {
      "cell_type": "markdown",
      "source": [
        "# Pandas"
      ],
      "metadata": {
        "id": "ZFwvybqv3ZoZ"
      }
    },
    {
      "cell_type": "code",
      "source": [
        "# Pandas Basics in Google Colab\n",
        "\n",
        "# Step 1: Install & Import Pandas\n",
        "import pandas as pd\n",
        "\n",
        "# Step 2: Load the Titanic Dataset from Seaborn\n",
        "import seaborn as sns\n",
        "df = sns.load_dataset('titanic')\n",
        "\n",
        "# Display first few rows\n",
        "print(\"First 5 rows of the dataset:\")\n",
        "print(df.head())\n",
        "\n",
        "# Step 3: Basic Information about DataFrame\n",
        "print(\"\\n🔹 Basic Info:\")\n",
        "df.info()\n",
        "\n",
        "print(\"\\n🔹 Summary Statistics:\")\n",
        "print(df.describe())\n",
        "\n",
        "# Step 4: Accessing Elements\n",
        "print(\"\\n🔹 Accessing Specific Column:\")\n",
        "print(df['age'])  # Access single column\n",
        "\n",
        "print(\"\\n🔹 Accessing Specific Row:\")\n",
        "print(df.loc[4])  # Access row using index\n",
        "\n",
        "print(\"\\n🔹 Accessing Specific Cell:\")\n",
        "print(df.loc[5, 'fare'])  # Row 5, Column 'fare'\n",
        "\n",
        "# Step 5: Filtering Data\n",
        "print(\"\\n🔹 Passengers older than 30:\")\n",
        "print(df[df['age'] > 30].head())\n",
        "\n",
        "print(\"\\n🔹 First-Class Passengers:\")\n",
        "print(df[df['class'] == 'First'].head())\n",
        "\n",
        "print(\"\\n🔹 Female Passengers who Survived:\")\n",
        "print(df[(df['sex'] == 'female') & (df['survived'] == 1)].head())\n",
        "\n",
        "# Step 6: Sorting Data\n",
        "print(\"\\n🔹 Sorting by Age (Ascending):\")\n",
        "print(df.sort_values(by='age').head())\n",
        "\n",
        "# Step 7: Aggregation\n",
        "print(\"\\n🔹 Average Fare Paid by Each Class:\")\n",
        "print(df.groupby('class')['fare'].mean())\n",
        "\n",
        "# Step 8: Merging DataFrames (Example)\n",
        "df1 = df[['survived', 'sex', 'class']]\n",
        "df2 = df[['age', 'fare']]\n",
        "\n",
        "# Merge using common index\n",
        "merged_df = pd.concat([df1, df2], axis=1)\n",
        "\n",
        "print(\"\\n🔹 Merged DataFrame Example:\")\n",
        "print(merged_df.head())\n",
        "\n",
        "# Step 9: Saving Processed Data\n",
        "df.to_csv(\"titanic_processed.csv\", index=False)\n",
        "print(\"\\n🔹 Data saved as CSV: titanic_processed.csv\")\n"
      ],
      "metadata": {
        "colab": {
          "base_uri": "https://localhost:8080/"
        },
        "collapsed": true,
        "id": "mfDPa7ke3eAc",
        "outputId": "b5d88a3d-7531-4b3d-fabd-69e41bbc59c3"
      },
      "execution_count": null,
      "outputs": [
        {
          "output_type": "stream",
          "name": "stdout",
          "text": [
            "First 5 rows of the dataset:\n",
            "   survived  pclass     sex   age  sibsp  parch     fare embarked  class  \\\n",
            "0         0       3    male  22.0      1      0   7.2500        S  Third   \n",
            "1         1       1  female  38.0      1      0  71.2833        C  First   \n",
            "2         1       3  female  26.0      0      0   7.9250        S  Third   \n",
            "3         1       1  female  35.0      1      0  53.1000        S  First   \n",
            "4         0       3    male  35.0      0      0   8.0500        S  Third   \n",
            "\n",
            "     who  adult_male deck  embark_town alive  alone  \n",
            "0    man        True  NaN  Southampton    no  False  \n",
            "1  woman       False    C    Cherbourg   yes  False  \n",
            "2  woman       False  NaN  Southampton   yes   True  \n",
            "3  woman       False    C  Southampton   yes  False  \n",
            "4    man        True  NaN  Southampton    no   True  \n",
            "\n",
            "🔹 Basic Info:\n",
            "<class 'pandas.core.frame.DataFrame'>\n",
            "RangeIndex: 891 entries, 0 to 890\n",
            "Data columns (total 15 columns):\n",
            " #   Column       Non-Null Count  Dtype   \n",
            "---  ------       --------------  -----   \n",
            " 0   survived     891 non-null    int64   \n",
            " 1   pclass       891 non-null    int64   \n",
            " 2   sex          891 non-null    object  \n",
            " 3   age          714 non-null    float64 \n",
            " 4   sibsp        891 non-null    int64   \n",
            " 5   parch        891 non-null    int64   \n",
            " 6   fare         891 non-null    float64 \n",
            " 7   embarked     889 non-null    object  \n",
            " 8   class        891 non-null    category\n",
            " 9   who          891 non-null    object  \n",
            " 10  adult_male   891 non-null    bool    \n",
            " 11  deck         203 non-null    category\n",
            " 12  embark_town  889 non-null    object  \n",
            " 13  alive        891 non-null    object  \n",
            " 14  alone        891 non-null    bool    \n",
            "dtypes: bool(2), category(2), float64(2), int64(4), object(5)\n",
            "memory usage: 80.7+ KB\n",
            "\n",
            "🔹 Summary Statistics:\n",
            "         survived      pclass         age       sibsp       parch        fare\n",
            "count  891.000000  891.000000  714.000000  891.000000  891.000000  891.000000\n",
            "mean     0.383838    2.308642   29.699118    0.523008    0.381594   32.204208\n",
            "std      0.486592    0.836071   14.526497    1.102743    0.806057   49.693429\n",
            "min      0.000000    1.000000    0.420000    0.000000    0.000000    0.000000\n",
            "25%      0.000000    2.000000   20.125000    0.000000    0.000000    7.910400\n",
            "50%      0.000000    3.000000   28.000000    0.000000    0.000000   14.454200\n",
            "75%      1.000000    3.000000   38.000000    1.000000    0.000000   31.000000\n",
            "max      1.000000    3.000000   80.000000    8.000000    6.000000  512.329200\n",
            "\n",
            "🔹 Accessing Specific Column:\n",
            "0      22.0\n",
            "1      38.0\n",
            "2      26.0\n",
            "3      35.0\n",
            "4      35.0\n",
            "       ... \n",
            "886    27.0\n",
            "887    19.0\n",
            "888     NaN\n",
            "889    26.0\n",
            "890    32.0\n",
            "Name: age, Length: 891, dtype: float64\n",
            "\n",
            "🔹 Accessing Specific Row:\n",
            "survived                 0\n",
            "pclass                   3\n",
            "sex                   male\n",
            "age                   35.0\n",
            "sibsp                    0\n",
            "parch                    0\n",
            "fare                  8.05\n",
            "embarked                 S\n",
            "class                Third\n",
            "who                    man\n",
            "adult_male            True\n",
            "deck                   NaN\n",
            "embark_town    Southampton\n",
            "alive                   no\n",
            "alone                 True\n",
            "Name: 4, dtype: object\n",
            "\n",
            "🔹 Accessing Specific Cell:\n",
            "8.4583\n",
            "\n",
            "🔹 Passengers older than 30:\n",
            "    survived  pclass     sex   age  sibsp  parch     fare embarked  class  \\\n",
            "1          1       1  female  38.0      1      0  71.2833        C  First   \n",
            "3          1       1  female  35.0      1      0  53.1000        S  First   \n",
            "4          0       3    male  35.0      0      0   8.0500        S  Third   \n",
            "6          0       1    male  54.0      0      0  51.8625        S  First   \n",
            "11         1       1  female  58.0      0      0  26.5500        S  First   \n",
            "\n",
            "      who  adult_male deck  embark_town alive  alone  \n",
            "1   woman       False    C    Cherbourg   yes  False  \n",
            "3   woman       False    C  Southampton   yes  False  \n",
            "4     man        True  NaN  Southampton    no   True  \n",
            "6     man        True    E  Southampton    no   True  \n",
            "11  woman       False    C  Southampton   yes   True  \n",
            "\n",
            "🔹 First-Class Passengers:\n",
            "    survived  pclass     sex   age  sibsp  parch     fare embarked  class  \\\n",
            "1          1       1  female  38.0      1      0  71.2833        C  First   \n",
            "3          1       1  female  35.0      1      0  53.1000        S  First   \n",
            "6          0       1    male  54.0      0      0  51.8625        S  First   \n",
            "11         1       1  female  58.0      0      0  26.5500        S  First   \n",
            "23         1       1    male  28.0      0      0  35.5000        S  First   \n",
            "\n",
            "      who  adult_male deck  embark_town alive  alone  \n",
            "1   woman       False    C    Cherbourg   yes  False  \n",
            "3   woman       False    C  Southampton   yes  False  \n",
            "6     man        True    E  Southampton    no   True  \n",
            "11  woman       False    C  Southampton   yes   True  \n",
            "23    man        True    A  Southampton   yes   True  \n",
            "\n",
            "🔹 Female Passengers who Survived:\n",
            "   survived  pclass     sex   age  sibsp  parch     fare embarked   class  \\\n",
            "1         1       1  female  38.0      1      0  71.2833        C   First   \n",
            "2         1       3  female  26.0      0      0   7.9250        S   Third   \n",
            "3         1       1  female  35.0      1      0  53.1000        S   First   \n",
            "8         1       3  female  27.0      0      2  11.1333        S   Third   \n",
            "9         1       2  female  14.0      1      0  30.0708        C  Second   \n",
            "\n",
            "     who  adult_male deck  embark_town alive  alone  \n",
            "1  woman       False    C    Cherbourg   yes  False  \n",
            "2  woman       False  NaN  Southampton   yes   True  \n",
            "3  woman       False    C  Southampton   yes  False  \n",
            "8  woman       False  NaN  Southampton   yes  False  \n",
            "9  child       False  NaN    Cherbourg   yes  False  \n",
            "\n",
            "🔹 Sorting by Age (Ascending):\n",
            "     survived  pclass     sex   age  sibsp  parch     fare embarked   class  \\\n",
            "803         1       3    male  0.42      0      1   8.5167        C   Third   \n",
            "755         1       2    male  0.67      1      1  14.5000        S  Second   \n",
            "644         1       3  female  0.75      2      1  19.2583        C   Third   \n",
            "469         1       3  female  0.75      2      1  19.2583        C   Third   \n",
            "78          1       2    male  0.83      0      2  29.0000        S  Second   \n",
            "\n",
            "       who  adult_male deck  embark_town alive  alone  \n",
            "803  child       False  NaN    Cherbourg   yes  False  \n",
            "755  child       False  NaN  Southampton   yes  False  \n",
            "644  child       False  NaN    Cherbourg   yes  False  \n",
            "469  child       False  NaN    Cherbourg   yes  False  \n",
            "78   child       False  NaN  Southampton   yes  False  \n",
            "\n",
            "🔹 Average Fare Paid by Each Class:\n",
            "class\n",
            "First     84.154687\n",
            "Second    20.662183\n",
            "Third     13.675550\n",
            "Name: fare, dtype: float64\n",
            "\n",
            "🔹 Merged DataFrame Example:\n",
            "   survived     sex  class   age     fare\n",
            "0         0    male  Third  22.0   7.2500\n",
            "1         1  female  First  38.0  71.2833\n",
            "2         1  female  Third  26.0   7.9250\n",
            "3         1  female  First  35.0  53.1000\n",
            "4         0    male  Third  35.0   8.0500\n",
            "\n",
            "🔹 Data saved as CSV: titanic_processed.csv\n"
          ]
        },
        {
          "output_type": "stream",
          "name": "stderr",
          "text": [
            "<ipython-input-11-afcdbe208356>:47: FutureWarning: The default of observed=False is deprecated and will be changed to True in a future version of pandas. Pass observed=False to retain current behavior or observed=True to adopt the future default and silence this warning.\n",
            "  print(df.groupby('class')['fare'].mean())\n"
          ]
        }
      ]
    },
    {
      "cell_type": "markdown",
      "source": [
        "## Joins in pandas\n",
        "| **Join Type**  | **Behavior** |\n",
        "|---------------|-------------|\n",
        "| **INNER JOIN**  | Returns only matching records in both tables |\n",
        "| **LEFT JOIN**   | Returns all records from the left table (`df1`), and matching records from the right table (`df2`); missing values are filled with `NaN` |\n",
        "| **RIGHT JOIN**  | Returns all records from the right table (`df2`), and matching records from the left table (`df1`) |\n",
        "| **OUTER JOIN**  | Returns all records from both tables; missing values are filled with `NaN` |\n"
      ],
      "metadata": {
        "id": "_ZuHpM-t4jNI"
      }
    },
    {
      "cell_type": "code",
      "source": [
        "# Pandas Basics + Joins in Google Colab\n",
        "\n",
        "import pandas as pd\n",
        "import seaborn as sns\n",
        "\n",
        "# Load Titanic Dataset\n",
        "df = sns.load_dataset('titanic')\n",
        "\n",
        "# Display First Few Rows\n",
        "print(\"First 5 rows of the dataset:\")\n",
        "print(df.head())\n",
        "\n",
        "# Basic Info\n",
        "print(\"\\n🔹 Basic Info:\")\n",
        "df.info()\n",
        "\n",
        "# Creating Two DataFrames for Joins\n",
        "df1 = df[['survived', 'sex', 'class']]\n",
        "df2 = df[['age', 'fare', 'class']]\n",
        "\n",
        "# Reset index to avoid issues while merging\n",
        "df1 = df1.reset_index()\n",
        "df2 = df2.reset_index()\n",
        "\n",
        "print(\"\\n🔹 DataFrame 1 (df1):\")\n",
        "print(df1.head())\n",
        "\n",
        "print(\"\\n🔹 DataFrame 2 (df2):\")\n",
        "print(df2.head())\n",
        "\n",
        "# ==============================\n",
        "# 1️⃣ INNER JOIN (Common Entries)\n",
        "# ==============================\n",
        "inner_join_df = pd.merge(df1, df2, on='class', how='inner')\n",
        "print(\"\\n🔹 INNER JOIN (Common 'class' values in both DataFrames):\")\n",
        "print(inner_join_df.head())\n",
        "\n",
        "# ==============================\n",
        "# 2️⃣ LEFT JOIN (All from Left, Matching from Right)\n",
        "# ==============================\n",
        "left_join_df = pd.merge(df1, df2, on='class', how='left')\n",
        "print(\"\\n🔹 LEFT JOIN (All rows from df1, matching from df2):\")\n",
        "print(left_join_df.head())\n",
        "\n",
        "# ==============================\n",
        "# 3️⃣ RIGHT JOIN (All from Right, Matching from Left)\n",
        "# ==============================\n",
        "right_join_df = pd.merge(df1, df2, on='class', how='right')\n",
        "print(\"\\n🔹 RIGHT JOIN (All rows from df2, matching from df1):\")\n",
        "print(right_join_df.head())\n",
        "\n",
        "# ==============================\n",
        "# 4️⃣ OUTER JOIN (All Unique Entries from Both)\n",
        "# ==============================\n",
        "outer_join_df = pd.merge(df1, df2, on='class', how='outer')\n",
        "print(\"\\n🔹 OUTER JOIN (All unique rows from both df1 and df2):\")\n",
        "print(outer_join_df.head())\n",
        "\n",
        "# ==============================\n",
        "# Saving Processed Data\n",
        "# ==============================\n",
        "inner_join_df.to_csv(\"titanic_inner_join.csv\", index=False)\n",
        "left_join_df.to_csv(\"titanic_left_join.csv\", index=False)\n",
        "right_join_df.to_csv(\"titanic_right_join.csv\", index=False)\n",
        "outer_join_df.to_csv(\"titanic_outer_join.csv\", index=False)\n",
        "\n",
        "print(\"\\n🔹 Data saved as CSV files: titanic_inner_join.csv, titanic_left_join.csv, titanic_right_join.csv, titanic_outer_join.csv\")\n"
      ],
      "metadata": {
        "colab": {
          "base_uri": "https://localhost:8080/"
        },
        "id": "O8KpCvdk4lzL",
        "outputId": "8a0d6c2b-1f25-4bd9-8c58-90fce83329d1"
      },
      "execution_count": null,
      "outputs": [
        {
          "output_type": "stream",
          "name": "stdout",
          "text": [
            "First 5 rows of the dataset:\n",
            "   survived  pclass     sex   age  sibsp  parch     fare embarked  class  \\\n",
            "0         0       3    male  22.0      1      0   7.2500        S  Third   \n",
            "1         1       1  female  38.0      1      0  71.2833        C  First   \n",
            "2         1       3  female  26.0      0      0   7.9250        S  Third   \n",
            "3         1       1  female  35.0      1      0  53.1000        S  First   \n",
            "4         0       3    male  35.0      0      0   8.0500        S  Third   \n",
            "\n",
            "     who  adult_male deck  embark_town alive  alone  \n",
            "0    man        True  NaN  Southampton    no  False  \n",
            "1  woman       False    C    Cherbourg   yes  False  \n",
            "2  woman       False  NaN  Southampton   yes   True  \n",
            "3  woman       False    C  Southampton   yes  False  \n",
            "4    man        True  NaN  Southampton    no   True  \n",
            "\n",
            "🔹 Basic Info:\n",
            "<class 'pandas.core.frame.DataFrame'>\n",
            "RangeIndex: 891 entries, 0 to 890\n",
            "Data columns (total 15 columns):\n",
            " #   Column       Non-Null Count  Dtype   \n",
            "---  ------       --------------  -----   \n",
            " 0   survived     891 non-null    int64   \n",
            " 1   pclass       891 non-null    int64   \n",
            " 2   sex          891 non-null    object  \n",
            " 3   age          714 non-null    float64 \n",
            " 4   sibsp        891 non-null    int64   \n",
            " 5   parch        891 non-null    int64   \n",
            " 6   fare         891 non-null    float64 \n",
            " 7   embarked     889 non-null    object  \n",
            " 8   class        891 non-null    category\n",
            " 9   who          891 non-null    object  \n",
            " 10  adult_male   891 non-null    bool    \n",
            " 11  deck         203 non-null    category\n",
            " 12  embark_town  889 non-null    object  \n",
            " 13  alive        891 non-null    object  \n",
            " 14  alone        891 non-null    bool    \n",
            "dtypes: bool(2), category(2), float64(2), int64(4), object(5)\n",
            "memory usage: 80.7+ KB\n",
            "\n",
            "🔹 DataFrame 1 (df1):\n",
            "   index  survived     sex  class\n",
            "0      0         0    male  Third\n",
            "1      1         1  female  First\n",
            "2      2         1  female  Third\n",
            "3      3         1  female  First\n",
            "4      4         0    male  Third\n",
            "\n",
            "🔹 DataFrame 2 (df2):\n",
            "   index   age     fare  class\n",
            "0      0  22.0   7.2500  Third\n",
            "1      1  38.0  71.2833  First\n",
            "2      2  26.0   7.9250  Third\n",
            "3      3  35.0  53.1000  First\n",
            "4      4  35.0   8.0500  Third\n",
            "\n",
            "🔹 INNER JOIN (Common 'class' values in both DataFrames):\n",
            "   index_x  survived   sex  class  index_y   age     fare\n",
            "0        0         0  male  Third        0  22.0   7.2500\n",
            "1        0         0  male  Third        2  26.0   7.9250\n",
            "2        0         0  male  Third        4  35.0   8.0500\n",
            "3        0         0  male  Third        5   NaN   8.4583\n",
            "4        0         0  male  Third        7   2.0  21.0750\n",
            "\n",
            "🔹 LEFT JOIN (All rows from df1, matching from df2):\n",
            "   index_x  survived   sex  class  index_y   age     fare\n",
            "0        0         0  male  Third        0  22.0   7.2500\n",
            "1        0         0  male  Third        2  26.0   7.9250\n",
            "2        0         0  male  Third        4  35.0   8.0500\n",
            "3        0         0  male  Third        5   NaN   8.4583\n",
            "4        0         0  male  Third        7   2.0  21.0750\n",
            "\n",
            "🔹 RIGHT JOIN (All rows from df2, matching from df1):\n",
            "   index_x  survived     sex  class  index_y   age  fare\n",
            "0        0         0    male  Third        0  22.0  7.25\n",
            "1        2         1  female  Third        0  22.0  7.25\n",
            "2        4         0    male  Third        0  22.0  7.25\n",
            "3        5         0    male  Third        0  22.0  7.25\n",
            "4        7         0    male  Third        0  22.0  7.25\n",
            "\n",
            "🔹 OUTER JOIN (All unique rows from both df1 and df2):\n",
            "   index_x  survived     sex  class  index_y   age     fare\n",
            "0        1         1  female  First        1  38.0  71.2833\n",
            "1        1         1  female  First        3  35.0  53.1000\n",
            "2        1         1  female  First        6  54.0  51.8625\n",
            "3        1         1  female  First       11  58.0  26.5500\n",
            "4        1         1  female  First       23  28.0  35.5000\n",
            "\n",
            "🔹 Data saved as CSV files: titanic_inner_join.csv, titanic_left_join.csv, titanic_right_join.csv, titanic_outer_join.csv\n"
          ]
        }
      ]
    },
    {
      "cell_type": "markdown",
      "source": [
        "# Data visualization\n",
        "🔹 Bar Chart → Compare categorical data.\n",
        "\n",
        "🔹 Histogram → Show continuous data distribution.\n",
        "\n",
        "🔹 Pie Chart → Represent proportions.\n",
        "\n",
        "🔹 Line Chart → Track trends over time.\n",
        "\n",
        "🔹 Scatter Plot → Show relationships between two variables.\n",
        "\n",
        "🔹 Box Plot → Compare distributions & detect outliers.\n",
        "\n",
        "🔹 Heatmap → Find correlations between multiple variables."
      ],
      "metadata": {
        "id": "qKfGsbC23pOF"
      }
    },
    {
      "cell_type": "code",
      "source": [
        "# Import required libraries\n",
        "import numpy as np\n",
        "import pandas as pd\n",
        "import matplotlib.pyplot as plt\n",
        "import seaborn as sns\n",
        "\n",
        "# Set Seaborn theme for better visuals\n",
        "sns.set_theme(style=\"darkgrid\")\n"
      ],
      "metadata": {
        "id": "vlOT8Opv3tYy"
      },
      "execution_count": null,
      "outputs": []
    },
    {
      "cell_type": "code",
      "source": [
        "# Create sample data\n",
        "data = pd.DataFrame({\n",
        "    'Category': ['Electronics', 'Clothing', 'Home & Kitchen', 'Books', 'Toys'],\n",
        "    'Sales': [5000, 7000, 4000, 3000, 4500]  # Sales figures\n",
        "})\n",
        "\n",
        "# Set figure size\n",
        "plt.figure(figsize=(8,5))\n",
        "\n",
        "# Create a bar chart\n",
        "sns.barplot(x='Category', y='Sales', data=data, palette='viridis')\n",
        "\n",
        "# Rotate x-axis labels for readability\n",
        "plt.xticks(rotation=30)\n",
        "\n",
        "# Set title\n",
        "plt.title(\"Sales by Category\")\n",
        "\n",
        "# Show the plot\n",
        "plt.show()\n"
      ],
      "metadata": {
        "id": "0dqWSHUf3wtD"
      },
      "execution_count": null,
      "outputs": []
    },
    {
      "cell_type": "code",
      "source": [
        "# Generate random sample data (Customer ages)\n",
        "np.random.seed(42)  # For reproducibility\n",
        "ages = np.random.normal(35, 10, 500)  # Mean=35, Std=10, 500 customers\n",
        "\n",
        "# Set figure size\n",
        "plt.figure(figsize=(7,5))\n",
        "\n",
        "# Create a histogram with KDE (Kernel Density Estimate)\n",
        "sns.histplot(ages, bins=20, kde=True, color='blue')\n",
        "\n",
        "# Set labels and title\n",
        "plt.xlabel(\"Age\")\n",
        "plt.ylabel(\"Frequency\")\n",
        "plt.title(\"Customer Age Distribution\")\n",
        "\n",
        "# Show the plot\n",
        "plt.show()\n"
      ],
      "metadata": {
        "id": "bYQjMNrc4DOx"
      },
      "execution_count": null,
      "outputs": []
    },
    {
      "cell_type": "code",
      "source": [
        "# Generate sample stock price data\n",
        "days = pd.date_range(start=\"2024-01-01\", periods=30, freq='D')  # 30 days\n",
        "prices = np.cumsum(np.random.randn(30) * 2 + 100)  # Random walk simulation\n",
        "\n",
        "# Create DataFrame\n",
        "df = pd.DataFrame({'Date': days, 'Stock Price': prices})\n",
        "\n",
        "# Set figure size\n",
        "plt.figure(figsize=(10,5))\n",
        "\n",
        "# Create a line chart\n",
        "sns.lineplot(x='Date', y='Stock Price', data=df, marker='o')\n",
        "\n",
        "# Rotate x-axis labels for readability\n",
        "plt.xticks(rotation=45)\n",
        "\n",
        "# Set title\n",
        "plt.title(\"Stock Price Over Time\")\n",
        "\n",
        "# Show the plot\n",
        "plt.show()\n"
      ],
      "metadata": {
        "id": "OqANKd_84EJi"
      },
      "execution_count": null,
      "outputs": []
    },
    {
      "cell_type": "code",
      "source": [
        "# Generate random sales data\n",
        "df = pd.DataFrame({\n",
        "    'Marketing Spend': np.random.randint(1000, 5000, 50),\n",
        "    'Sales Revenue': np.random.randint(2000, 10000, 50),\n",
        "    'Customer Visits': np.random.randint(100, 500, 50),\n",
        "    'Ad Clicks': np.random.randint(50, 400, 50)\n",
        "})\n",
        "\n",
        "# Compute correlation matrix\n",
        "corr_matrix = df.corr()\n",
        "\n",
        "# Set figure size\n",
        "plt.figure(figsize=(6,5))\n",
        "\n",
        "# Create heatmap\n",
        "sns.heatmap(corr_matrix, annot=True, cmap=\"coolwarm\", fmt=\".2f\")\n",
        "\n",
        "# Set title\n",
        "plt.title(\"Correlation Between Sales Metrics\")\n",
        "\n",
        "# Show the plot\n",
        "plt.show()\n"
      ],
      "metadata": {
        "id": "vRefgEet4Q4c"
      },
      "execution_count": null,
      "outputs": []
    },
    {
      "cell_type": "code",
      "source": [
        "import numpy as np\n",
        "\n",
        "# 1. Basic Vector Operations\n",
        "print(\"### VECTOR OPERATIONS ###\\n\")\n",
        "\n",
        "# Define two vectors\n",
        "v1 = np.array([1, 2, 3])\n",
        "v2 = np.array([4, 5, 6])\n",
        "\n",
        "print(f\"Vector v1: {v1}\")\n",
        "print(f\"Vector v2: {v2}\")\n",
        "\n",
        "# Vector Addition\n",
        "add_result = v1 + v2\n",
        "print(f\"\\nVector Addition: v1 + v2 = {add_result}\")\n",
        "\n",
        "# Vector Subtraction\n",
        "sub_result = v1 - v2\n",
        "print(f\"Vector Subtraction: v1 - v2 = {sub_result}\")\n",
        "\n",
        "# Scalar Multiplication\n",
        "scalar = 3\n",
        "scalar_mult_result = scalar * v1\n",
        "print(f\"Scalar Multiplication ({scalar} * v1): {scalar_mult_result}\")\n",
        "\n",
        "# Dot Product\n",
        "dot_product = np.dot(v1, v2)\n",
        "print(f\"Dot Product (v1 . v2): {dot_product}\")\n",
        "\n",
        "# 2. Basic Matrix Operations\n",
        "print(\"\\n### MATRIX OPERATIONS ###\\n\")\n",
        "\n",
        "# Define two matrices\n",
        "A = np.array([[1, 2], [3, 4]])\n",
        "B = np.array([[5, 6], [7, 8]])\n",
        "\n",
        "print(f\"Matrix A:\\n{A}\")\n",
        "print(f\"Matrix B:\\n{B}\")\n",
        "\n",
        "# Matrix Addition\n",
        "mat_add = A + B\n",
        "print(f\"\\nMatrix Addition (A + B):\\n{mat_add}\")\n",
        "\n",
        "# Matrix Subtraction\n",
        "mat_sub = A - B\n",
        "print(f\"\\nMatrix Subtraction (A - B):\\n{mat_sub}\")\n",
        "\n",
        "# Matrix Multiplication\n",
        "mat_mult = np.dot(A, B)\n",
        "print(f\"\\nMatrix Multiplication (A * B):\\n{mat_mult}\")\n",
        "\n",
        "# Transpose of a Matrix\n",
        "A_transpose = A.T\n",
        "print(f\"\\nTranspose of Matrix A:\\n{A_transpose}\")\n",
        "\n",
        "# Determinant of a Matrix\n",
        "det_A = np.linalg.det(A)\n",
        "print(f\"\\nDeterminant of Matrix A: {det_A:.2f}\")\n",
        "\n",
        "# Inverse of a Matrix\n",
        "if det_A != 0:  # Inverse exists only if determinant is non-zero\n",
        "    A_inv = np.linalg.inv(A)\n",
        "    print(f\"\\nInverse of Matrix A:\\n{A_inv}\")\n",
        "else:\n",
        "    print(\"\\nMatrix A is singular (non-invertible), so no inverse exists.\")\n",
        "\n"
      ],
      "metadata": {
        "id": "_4Y_E2OMSthK"
      },
      "execution_count": null,
      "outputs": []
    },
    {
      "cell_type": "markdown",
      "source": [
        "# Hypothesis Testing"
      ],
      "metadata": {
        "id": "6Dexb_AhOtEs"
      }
    },
    {
      "cell_type": "code",
      "source": [
        "# 📦 Import required libraries\n",
        "import numpy as np\n",
        "import pandas as pd\n",
        "from scipy.stats import ttest_ind, norm, chi2_contingency\n",
        "\n",
        "# ------------------------------\n",
        "# 🔬 Scenario 1: T-Test\n",
        "# Use case: Compare means of two small groups (< 30 samples), unknown population variance\n",
        "group1 = [85, 90, 88, 75, 95]\n",
        "group2 = [80, 70, 78, 72, 85]\n",
        "t_stat, p_val_t = ttest_ind(group1, group2)\n",
        "\n",
        "print(\"🔹 T-Test Results:\")\n",
        "print(f\"t-statistic: {t_stat:.2f}\")\n",
        "print(f\"p-value: {p_val_t:.4f}\")\n",
        "print(\"Conclusion:\", \"Reject H₀ (Significant)\" if p_val_t < 0.05 else \"Fail to reject H₀ (Not significant)\")\n",
        "print(\"-\" * 50)\n",
        "\n",
        "# ------------------------------\n",
        "# 📊 Scenario 2: Z-Test\n",
        "# Use case: Compare sample mean to population mean, large sample (n > 30), known population std\n",
        "population_mean = 100\n",
        "population_std = 10\n",
        "sample = [98, 102, 99, 101, 97, 100, 103, 98, 102, 101]\n",
        "sample_mean = np.mean(sample)\n",
        "n = len(sample)\n",
        "\n",
        "z_score = (sample_mean - population_mean) / (population_std / np.sqrt(n))\n",
        "p_val_z = 2 * (1 - norm.cdf(abs(z_score)))  # Two-tailed test\n",
        "\n",
        "print(\"🔹 Z-Test Results:\")\n",
        "print(f\"Sample Mean: {sample_mean:.2f}\")\n",
        "print(f\"Z-score: {z_score:.2f}\")\n",
        "print(f\"p-value: {p_val_z:.4f}\")\n",
        "print(\"Conclusion:\", \"Reject H₀ (Significant)\" if p_val_z < 0.05 else \"Fail to reject H₀ (Not significant)\")\n",
        "print(\"-\" * 50)\n",
        "\n",
        "# ------------------------------\n",
        "# 📈 Scenario 3: Chi-Square Test\n",
        "# Use case: Test association between two categorical variables\n",
        "# Example: Gender vs Brand Preference\n",
        "# Contingency Table: Rows = Gender (Male, Female), Columns = Brands (A, B)\n",
        "data = [[30, 10], [20, 40]]\n",
        "chi2, p_val_chi, dof, expected = chi2_contingency(data)\n",
        "\n",
        "print(\"🔹 Chi-Square Test Results:\")\n",
        "print(f\"Chi-Square Value: {chi2:.2f}\")\n",
        "print(f\"Degrees of Freedom: {dof}\")\n",
        "print(f\"p-value: {p_val_chi:.4f}\")\n",
        "print(\"Conclusion:\", \"Reject H₀ (Significant association)\" if p_val_chi < 0.05 else \"Fail to reject H₀ (No association)\")\n",
        "print(\"-\" * 50)\n",
        "\n",
        "# ------------------------------\n",
        "# 📘 Summary of Key Concepts\n",
        "print(\"\\n📌 Summary:\")\n",
        "print(\"✔️ T-Test → Compare means (small sample, unknown variance)\")\n",
        "print(\"✔️ Z-Test → Compare mean (large sample, known variance)\")\n",
        "print(\"✔️ Chi-Square → Association between categories\")\n",
        "print(\"✔️ p-value < 0.05 → Reject Null Hypothesis (H₀)\")\n",
        "print(\"✔️ Type I Error: Rejecting H₀ when it's true\")\n",
        "print(\"✔️ Type II Error: Not rejecting H₀ when it's false\")\n"
      ],
      "metadata": {
        "colab": {
          "base_uri": "https://localhost:8080/"
        },
        "id": "LwrYaZwYOyfF",
        "outputId": "dde6881a-c936-403e-8bc4-26eb7afdb44c"
      },
      "execution_count": null,
      "outputs": [
        {
          "output_type": "stream",
          "name": "stdout",
          "text": [
            "🔹 T-Test Results:\n",
            "t-statistic: 2.23\n",
            "p-value: 0.0559\n",
            "Conclusion: Fail to reject H₀ (Not significant)\n",
            "--------------------------------------------------\n",
            "🔹 Z-Test Results:\n",
            "Sample Mean: 100.10\n",
            "Z-score: 0.03\n",
            "p-value: 0.9748\n",
            "Conclusion: Fail to reject H₀ (Not significant)\n",
            "--------------------------------------------------\n",
            "🔹 Chi-Square Test Results:\n",
            "Chi-Square Value: 15.04\n",
            "Degrees of Freedom: 1\n",
            "p-value: 0.0001\n",
            "Conclusion: Reject H₀ (Significant association)\n",
            "--------------------------------------------------\n",
            "\n",
            "📌 Summary:\n",
            "✔️ T-Test → Compare means (small sample, unknown variance)\n",
            "✔️ Z-Test → Compare mean (large sample, known variance)\n",
            "✔️ Chi-Square → Association between categories\n",
            "✔️ p-value < 0.05 → Reject Null Hypothesis (H₀)\n",
            "✔️ Type I Error: Rejecting H₀ when it's true\n",
            "✔️ Type II Error: Not rejecting H₀ when it's false\n"
          ]
        }
      ]
    },
    {
      "cell_type": "code",
      "source": [
        "from sklearn.linear_model import SGDRegressor\n",
        "from sklearn.datasets import make_regression\n",
        "from sklearn.model_selection import train_test_split\n",
        "from sklearn.metrics import mean_squared_error, r2_score\n",
        "\n",
        "# Step 1: Generate synthetic linear regression data\n",
        "X, y = make_regression(n_samples=1000, n_features=1, noise=20, random_state=42)\n",
        "print(\"Sample input feature (X):\", X[:5])\n",
        "print(\"Sample target values (y):\", y[:5])\n",
        "\n",
        "# Step 2: Split into train and test sets (70% train, 30% test)\n",
        "X_train, X_test, y_train, y_test = train_test_split(X, y, test_size=0.3, random_state=42)\n",
        "print(\"\\nTraining data shape:\", X_train.shape)\n",
        "print(\"Testing data shape:\", X_test.shape)\n",
        "\n",
        "# Step 3: Initialize SGD Regressor\n",
        "# Using 'squared_error' loss (which is same as ordinary least squares)\n",
        "regressor = SGDRegressor(loss='squared_error', max_iter=1000, learning_rate='invscaling', eta0=0.01, random_state=42)\n",
        "print(\"\\nSGDRegressor initialized.\")\n",
        "\n",
        "# Step 4: Train the model using fit()\n",
        "regressor.fit(X_train, y_train)\n",
        "print(\"Model training complete.\")\n",
        "\n",
        "# Step 5: Print model parameters (slope and intercept)\n",
        "print(\"Learned weight (coefficient):\", regressor.coef_)\n",
        "print(\"Learned intercept (bias):\", regressor.intercept_)\n",
        "\n",
        "# Step 6: Predict on test data\n",
        "y_pred = regressor.predict(X_test)\n",
        "print(\"\\nSample predictions:\", y_pred[:5])\n",
        "print(\"Actual values:\", y_test[:5])\n",
        "\n",
        "# Step 7: Evaluate the model\n",
        "mse = mean_squared_error(y_test, y_pred)\n",
        "r2 = r2_score(y_test, y_pred)\n",
        "\n",
        "print(\"\\nMean Squared Error (MSE):\", mse)\n",
        "print(\"R² Score (explained variance):\", r2)\n"
      ],
      "metadata": {
        "id": "6CbpHblqeTzH",
        "outputId": "ec2ed7ad-70f7-4dd9-8229-f944837a4bb9",
        "colab": {
          "base_uri": "https://localhost:8080/"
        }
      },
      "execution_count": null,
      "outputs": [
        {
          "output_type": "stream",
          "name": "stdout",
          "text": [
            "Sample input feature (X): [[-1.75873949]\n",
            " [ 1.03184454]\n",
            " [-0.48760622]\n",
            " [ 0.18645431]\n",
            " [ 0.72576662]]\n",
            "Sample target values (y): [-36.08494903 -10.27241667 -27.69406038 -11.10318748  14.05520186]\n",
            "\n",
            "Training data shape: (700, 1)\n",
            "Testing data shape: (300, 1)\n",
            "\n",
            "SGDRegressor initialized.\n",
            "Model training complete.\n",
            "Learned weight (coefficient): [16.69483191]\n",
            "Learned intercept (bias): [0.34069101]\n",
            "\n",
            "Sample predictions: [ 25.76741845   6.21819667  31.76077362 -16.11583964 -10.45373461]\n",
            "Actual values: [ 32.66661189   0.50194406  30.29976375  -6.62032608 -44.80595362]\n",
            "\n",
            "Mean Squared Error (MSE): 417.4556123627611\n",
            "R² Score (explained variance): 0.3596710818388167\n"
          ]
        }
      ]
    }
  ]
}