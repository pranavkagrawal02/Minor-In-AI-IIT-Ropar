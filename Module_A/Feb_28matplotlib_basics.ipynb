{
  "nbformat": 4,
  "nbformat_minor": 0,
  "metadata": {
    "colab": {
      "private_outputs": true,
      "provenance": [],
      "authorship_tag": "ABX9TyP4Deu0v0+NuahU0So231iB",
      "include_colab_link": true
    },
    "kernelspec": {
      "name": "python3",
      "display_name": "Python 3"
    },
    "language_info": {
      "name": "python"
    }
  },
  "cells": [
    {
      "cell_type": "markdown",
      "metadata": {
        "id": "view-in-github",
        "colab_type": "text"
      },
      "source": [
        "<a href=\"https://colab.research.google.com/github/pranavkagrawal02/Minor-In-AI-IIT-Ropar/blob/main/Feb_28matplotlib_basics.ipynb\" target=\"_parent\"><img src=\"https://colab.research.google.com/assets/colab-badge.svg\" alt=\"Open In Colab\"/></a>"
      ]
    },
    {
      "cell_type": "code",
      "execution_count": null,
      "metadata": {
        "id": "86-1AkdWWQ3U"
      },
      "outputs": [],
      "source": [
        "import matplotlib.pyplot as plt\n",
        "\n",
        "hours = ['9pm', '10pm', '11pm', '12am', '1am', '2am', '3am']\n",
        "temp = [24, 28, 26, 25, 24, 24, 23]\n",
        "plt.plot(hours, temp)\n",
        "plt.xlabel(\"Time of the Day\")\n",
        "plt.ylabel(\"Temperature\")\n",
        "plt.title(\"Hourly Temperature Trend\")\n",
        "plt.show()"
      ]
    },
    {
      "cell_type": "code",
      "source": [
        "import matplotlib.pyplot as plt\n",
        "\n",
        "# Data: Days of the week\n",
        "days = [\"Mon\", \"Tue\", \"Wed\", \"Thu\", \"Fri\", \"Sat\", \"Sun\"]\n",
        "\n",
        "# Data: Code written (in lines) & Bugs found\n",
        "code_written = [50, 120, 200, 180, 300, 50, 20]  # Lines of Code\n",
        "bugs_found = [5, 10, 20, None,3, 5, 1]  # Number of bugs\n",
        "\n",
        "# Create the plot\n",
        "plt.figure(figsize=(8, 5))\n",
        "\n",
        "# Plot Code Written\n",
        "plt.plot(days, code_written, linestyle='-', color='b', label=\"Code Written (LOC)\")\n",
        "\n",
        "# Plot Bugs Found\n",
        "plt.plot(days, bugs_found, linestyle='--', color='r', label=\"Bugs Found\")\n",
        "\n",
        "# Add labels, title, and legend\n",
        "plt.xlabel(\"Days of the Week\")\n",
        "plt.ylabel(\"Lines of Code / Bugs Found\")\n",
        "plt.title(\"Code Written vs. Bugs Found Over a Week\")\n",
        "plt.legend()  # Show legend\n",
        "plt.grid(True, linestyle=\"--\", alpha=0.6)\n",
        "\n",
        "# Show the plot\n",
        "plt.show()\n"
      ],
      "metadata": {
        "id": "EJ_um3yaWUQV"
      },
      "execution_count": null,
      "outputs": []
    },
    {
      "cell_type": "code",
      "source": [
        "import numpy as np\n",
        "import matplotlib.pyplot as plt\n",
        "import ipywidgets as widgets\n",
        "from IPython.display import display\n",
        "\n",
        "# Generate x values (time)\n",
        "x = np.linspace(0, 2, 500)\n",
        "\n",
        "# Function to create a simulated ECG signal\n",
        "def ecg_signal(x, heart_rate, amplitude):\n",
        "    p_wave = np.sin(10 * np.pi * x) * np.exp(-3 * (x - 0.5)**2)  # P wave\n",
        "    qrs_complex = np.sin(30 * np.pi * x) * np.exp(-100 * (x - 1)**2)  # QRS\n",
        "    t_wave = np.sin(10 * np.pi * x) * np.exp(-10 * (x - 1.5)**2)  # T wave\n",
        "    return amplitude * (p_wave + qrs_complex + t_wave) * np.sin(heart_rate * np.pi * x)\n",
        "\n",
        "# Function to update plot\n",
        "def update_plot(heart_rate, amplitude):\n",
        "    y = ecg_signal(x, heart_rate, amplitude)\n",
        "    plt.figure(figsize=(10, 4))\n",
        "    plt.plot(x, y, color='red', linewidth=2)\n",
        "\n",
        "    # Labels and grid\n",
        "    plt.title(\"Interactive ECG Signal\")\n",
        "    plt.xlabel(\"Time (s)\")\n",
        "    plt.ylabel(\"Voltage (mV)\")\n",
        "    plt.axhline(0, color='black', linewidth=0.5, linestyle=\"--\")\n",
        "    plt.grid(True, linestyle='--', alpha=0.5)\n",
        "\n",
        "    plt.show()\n",
        "\n",
        "# Create interactive sliders\n",
        "heart_rate_slider = widgets.FloatSlider(min=5, max=20, step=0.5, value=10, description=\"Heart Rate\")\n",
        "amplitude_slider = widgets.FloatSlider(min=0.5, max=2.0, step=0.1, value=1.0, description=\"Amplitude\")\n",
        "\n",
        "# Display interactive plot\n",
        "display(widgets.interactive(update_plot, heart_rate=heart_rate_slider, amplitude=amplitude_slider))\n",
        "\n"
      ],
      "metadata": {
        "id": "YqeAnnE1WWID"
      },
      "execution_count": null,
      "outputs": []
    },
    {
      "cell_type": "code",
      "source": [
        "import numpy as np\n",
        "import matplotlib.pyplot as plt\n",
        "import ipywidgets as widgets\n",
        "from IPython.display import display\n",
        "\n",
        "# Function to plot a straight line\n",
        "def plot_line(slope, intercept):\n",
        "    x = np.linspace(-10, 10, 100)\n",
        "    y = slope * x + intercept\n",
        "\n",
        "    plt.figure(figsize=(6, 4))\n",
        "    plt.plot(x, y, color='blue', linewidth=2, label=f\"y = {slope}x + {intercept}\")\n",
        "\n",
        "    # Labels and grid\n",
        "    plt.title(\"Simple Linear Function\")\n",
        "    plt.xlabel(\"x\")\n",
        "    plt.ylabel(\"y\")\n",
        "    plt.axhline(0, color='black', linewidth=0.5, linestyle=\"--\")\n",
        "    plt.axvline(0, color='black', linewidth=0.5, linestyle=\"--\")\n",
        "    plt.legend()\n",
        "    plt.grid(True, linestyle='--', alpha=0.5)\n",
        "\n",
        "    plt.show()\n",
        "\n",
        "# Sliders for slope and intercept\n",
        "slope_slider = widgets.FloatSlider(min=-5, max=5, step=0.5, value=1, description=\"Slope\")\n",
        "intercept_slider = widgets.FloatSlider(min=-10, max=10, step=1, value=0, description=\"Intercept\")\n",
        "\n",
        "# Display interactive plot\n",
        "display(widgets.interactive(plot_line, slope=slope_slider, intercept=intercept_slider))\n"
      ],
      "metadata": {
        "id": "CXUnl-L3WbKc"
      },
      "execution_count": null,
      "outputs": []
    },
    {
      "cell_type": "code",
      "source": [
        "import numpy as np\n",
        "import matplotlib.pyplot as plt\n",
        "import ipywidgets as widgets\n",
        "from IPython.display import display\n",
        "\n",
        "# Generate random data points\n",
        "np.random.seed(0)\n",
        "X = np.random.randn(100, 2)  # 100 points in 2D\n",
        "y = (X[:, 0] + X[:, 1] > 0).astype(int)  # Simple linear boundary: x + y > 0\n",
        "\n",
        "# Function to plot decision boundary\n",
        "def plot_classifier(slope, intercept):\n",
        "    plt.figure(figsize=(6, 5))\n",
        "\n",
        "    # Plot data points\n",
        "    plt.scatter(X[y == 0][:, 0], X[y == 0][:, 1], color='red', label=\"Class 0\")\n",
        "    plt.scatter(X[y == 1][:, 0], X[y == 1][:, 1], color='blue', label=\"Class 1\")\n",
        "\n",
        "    # Plot decision boundary\n",
        "    x_vals = np.linspace(-3, 3, 100)\n",
        "    y_vals = -slope * x_vals - intercept  # Line equation: y = -mx - b\n",
        "    plt.plot(x_vals, y_vals, 'green', linewidth=2, label=\"Decision Boundary\")\n",
        "\n",
        "    # Labels and grid\n",
        "    plt.title(\"Simple Linear Classifier\")\n",
        "    plt.xlabel(\"Feature 1\")\n",
        "    plt.ylabel(\"Feature 2\")\n",
        "    plt.axhline(0, color='black', linewidth=0.5, linestyle=\"--\")\n",
        "    plt.axvline(0, color='black', linewidth=0.5, linestyle=\"--\")\n",
        "    plt.legend()\n",
        "    plt.grid(True, linestyle='--', alpha=0.5)\n",
        "\n",
        "    plt.show()\n",
        "\n",
        "# Sliders for slope and intercept of the decision boundary\n",
        "slope_slider = widgets.FloatSlider(min=-3, max=3, step=0.1, value=1, description=\"Slope\")\n",
        "intercept_slider = widgets.FloatSlider(min=-3, max=3, step=0.1, value=0, description=\"Intercept\")\n",
        "\n",
        "# Display interactive plot\n",
        "display(widgets.interactive(plot_classifier, slope=slope_slider, intercept=intercept_slider))\n"
      ],
      "metadata": {
        "id": "I5kQ-7I3Wbpz"
      },
      "execution_count": null,
      "outputs": []
    },
    {
      "cell_type": "code",
      "source": [],
      "metadata": {
        "id": "klqk6fUoWdjT"
      },
      "execution_count": null,
      "outputs": []
    }
  ]
}