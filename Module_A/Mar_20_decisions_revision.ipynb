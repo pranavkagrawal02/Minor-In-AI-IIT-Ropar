{
  "nbformat": 4,
  "nbformat_minor": 0,
  "metadata": {
    "colab": {
      "provenance": [],
      "include_colab_link": true
    },
    "kernelspec": {
      "name": "python3",
      "display_name": "Python 3"
    },
    "language_info": {
      "name": "python"
    }
  },
  "cells": [
    {
      "cell_type": "markdown",
      "metadata": {
        "id": "view-in-github",
        "colab_type": "text"
      },
      "source": [
        "<a href=\"https://colab.research.google.com/github/pranavkagrawal02/Minor-In-AI-IIT-Ropar/blob/main/Mar_20_decisions_revision.ipynb\" target=\"_parent\"><img src=\"https://colab.research.google.com/assets/colab-badge.svg\" alt=\"Open In Colab\"/></a>"
      ]
    },
    {
      "cell_type": "code",
      "execution_count": null,
      "metadata": {
        "id": "KrfXbOLRefLg",
        "colab": {
          "base_uri": "https://localhost:8080/"
        },
        "outputId": "e5e497ab-5b0e-4783-8b1d-0693a168f22e"
      },
      "outputs": [
        {
          "output_type": "stream",
          "name": "stdout",
          "text": [
            "Sorry, Not allowed\n"
          ]
        }
      ],
      "source": [
        "# Amusement Park Rules\n",
        "#=======================\n",
        "# Age must be at least 12 years old.\n",
        "# Height must be at least 140 cm.\n",
        "# People aged 12–15 must be accompanied by an adult.\n",
        "# VIP members can enter regardless of age or height, but must not be banned.\n",
        "# People with a heart condition cannot enter, even if VIP.\n",
        "\n",
        "\n",
        "def can_enter_ride():\n",
        "  if has_heart_condition:\n",
        "    print(\"Sorry, Not allowed\")\n",
        "  elif is_banned:\n",
        "    print(\"Sorry, Not allowed\")\n",
        "  elif is_vip and not is_banned:\n",
        "    print(\"Welcome with VIP Access\")\n",
        "  elif is_vip and is_banned:\n",
        "    print(\"Sorry, Not allowed\")\n",
        "  elif age >= 12 and height >= 140:\n",
        "    if 12 <= age <= 15 and not is_accompanied:\n",
        "      print(\"Sorry, Minor needs company\")\n",
        "    else:\n",
        "      print(\"Welcome to the Park\")\n",
        "  else:\n",
        "    print(\"Denied\")\n",
        "\n",
        "\n",
        "age = 18\n",
        "height = 156\n",
        "is_accompanied = False\n",
        "is_vip = False\n",
        "has_heart_condition = False\n",
        "is_banned = True\n",
        "can_enter_ride()\n",
        "\n",
        "\n",
        "\n"
      ]
    },
    {
      "cell_type": "code",
      "source": [
        "import random\n",
        "import matplotlib.pyplot as plt\n",
        "\n",
        "low_count = 0\n",
        "high_count = 0\n",
        "scores = []\n",
        "\n",
        "for _ in range(100):\n",
        "  num = random.randint(1,100)\n",
        "  score = num // 10\n",
        "  scores.append(score)\n",
        "\n",
        "  if score < 5:\n",
        "    low_count = low_count + 1\n",
        "  else:\n",
        "    high_count = high_count + 1\n",
        "\n",
        "print(low_count)\n",
        "print(high_count)\n",
        "plt.scatter(range(100), scores, color = 'red')\n",
        "plt.title(\"Scatter Plot of Scores\")\n",
        "plt.show()\n",
        "\n",
        "\n",
        "\n"
      ],
      "metadata": {
        "colab": {
          "base_uri": "https://localhost:8080/",
          "height": 488
        },
        "id": "9i5gTxblHG2O",
        "outputId": "3e402e60-7e03-47f1-d1d2-fca829c8890c"
      },
      "execution_count": null,
      "outputs": [
        {
          "output_type": "stream",
          "name": "stdout",
          "text": [
            "48\n",
            "52\n"
          ]
        },
        {
          "output_type": "display_data",
          "data": {
            "text/plain": [
              "<Figure size 640x480 with 1 Axes>"
            ],
            "image/png": "[encoded data removed]"
          },
          "metadata": {}
        }
      ]
    }
  ]
}