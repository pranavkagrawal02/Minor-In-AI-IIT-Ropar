{
  "nbformat": 4,
  "nbformat_minor": 0,
  "metadata": {
    "colab": {
      "provenance": [],
      "include_colab_link": true
    },
    "kernelspec": {
      "name": "python3",
      "display_name": "Python 3"
    },
    "language_info": {
      "name": "python"
    }
  },
  "cells": [
    {
      "cell_type": "markdown",
      "metadata": {
        "id": "view-in-github",
        "colab_type": "text"
      },
      "source": [
        "<a href=\"https://colab.research.google.com/github/pranavkagrawal02/Minor-In-AI-IIT-Ropar/blob/main/Mar_19_building_blocks.ipynb\" target=\"_parent\"><img src=\"https://colab.research.google.com/assets/colab-badge.svg\" alt=\"Open In Colab\"/></a>"
      ]
    },
    {
      "cell_type": "code",
      "execution_count": null,
      "metadata": {
        "colab": {
          "base_uri": "https://localhost:8080/"
        },
        "id": "pBRoTyH6h0An",
        "outputId": "a552d03f-8ba3-49b3-81b0-086656712be5"
      },
      "outputs": [
        {
          "output_type": "stream",
          "name": "stdout",
          "text": [
            "IPL\n"
          ]
        }
      ],
      "source": [
        "# What is the alien trying to say????\n",
        "m1 = 73\n",
        "m2 = 80\n",
        "m3 = 76\n",
        "\n",
        "alien_message = chr(m1) + chr(m2) + chr(m3)\n",
        "print(alien_message)"
      ]
    },
    {
      "cell_type": "code",
      "source": [
        "num_str = \"100\"\n",
        "f_num = 3.142\n",
        "zero = 0\n",
        "sstr = \"Hello\"\n",
        "\n",
        "print(str(num_str))\n",
        "print(str(f_num))\n",
        "print(str(zero))\n",
        "print(str(sstr))\n"
      ],
      "metadata": {
        "colab": {
          "base_uri": "https://localhost:8080/"
        },
        "id": "xd7R5KSI58rZ",
        "outputId": "7da21e2a-3b2d-44cf-e678-4db6d8563017"
      },
      "execution_count": null,
      "outputs": [
        {
          "output_type": "stream",
          "name": "stdout",
          "text": [
            "100\n",
            "3.142\n",
            "0\n",
            "Hello\n"
          ]
        }
      ]
    },
    {
      "cell_type": "code",
      "source": [
        "num_str = \"100\"\n",
        "f_num = 3.142\n",
        "zero = 0\n",
        "sstr = \" \"\n",
        "\n",
        "print(bool(num_str))\n",
        "print(bool(f_num))\n",
        "print(bool(zero))\n",
        "print(bool(sstr))\n"
      ],
      "metadata": {
        "colab": {
          "base_uri": "https://localhost:8080/"
        },
        "id": "LeiKZlrn6qY9",
        "outputId": "05645b37-6f04-45bb-aa08-69cd104f6906"
      },
      "execution_count": null,
      "outputs": [
        {
          "output_type": "stream",
          "name": "stdout",
          "text": [
            "True\n",
            "True\n",
            "False\n",
            "False\n"
          ]
        }
      ]
    },
    {
      "cell_type": "code",
      "source": [
        "result = int(20.5) + 5.0\n",
        "print(result)"
      ],
      "metadata": {
        "colab": {
          "base_uri": "https://localhost:8080/"
        },
        "id": "1fP4snE37AgP",
        "outputId": "d6a711e5-01c8-4445-96eb-2d8ef2070493"
      },
      "execution_count": null,
      "outputs": [
        {
          "output_type": "stream",
          "name": "stdout",
          "text": [
            "25.0\n"
          ]
        }
      ]
    },
    {
      "cell_type": "code",
      "source": [
        "a = 10\n",
        "b = 3\n",
        "c = 10.5\n",
        "d = 3.5\n",
        "print(a+b)\n",
        "print(a-b)\n",
        "print(a*b)\n",
        "print(a/b)\n",
        "print(a ** d)\n",
        "print(a // d)\n"
      ],
      "metadata": {
        "colab": {
          "base_uri": "https://localhost:8080/"
        },
        "id": "-JvknGgt7eW2",
        "outputId": "5785b981-c0d8-48a1-c74b-9263a9903c98"
      },
      "execution_count": null,
      "outputs": [
        {
          "output_type": "stream",
          "name": "stdout",
          "text": [
            "13\n",
            "7\n",
            "30\n",
            "3.3333333333333335\n",
            "3162.2776601683795\n",
            "2.0\n"
          ]
        }
      ]
    },
    {
      "cell_type": "code",
      "source": [
        "str1 = \"Hello \"\n",
        "str2 = \"Alien \"\n",
        "\n",
        "r1 = str1 + str2\n",
        "print(r1)\n",
        "\n",
        "\n",
        "r2 = \" \".join([str1, str2, \"IPL\"])\n",
        "print(r2)\n",
        "\n",
        "repeat_r = str2 * 10\n",
        "print(repeat_r)"
      ],
      "metadata": {
        "colab": {
          "base_uri": "https://localhost:8080/"
        },
        "id": "iu-nByZ99lZa",
        "outputId": "adf1788c-2149-41a8-a67b-6a84c14848c8"
      },
      "execution_count": null,
      "outputs": [
        {
          "output_type": "stream",
          "name": "stdout",
          "text": [
            "Hello Alien \n",
            "Hello  Alien  IPL\n",
            "Alien Alien Alien Alien Alien Alien Alien Alien Alien Alien \n"
          ]
        }
      ]
    },
    {
      "cell_type": "code",
      "source": [
        "num = 2025\n",
        "result =  \"IPL\" + str(num)\n",
        "print(result)"
      ],
      "metadata": {
        "colab": {
          "base_uri": "https://localhost:8080/"
        },
        "id": "e3ayRBunAphL",
        "outputId": "b8267197-3ce4-48db-cba9-befdb4954e7e"
      },
      "execution_count": null,
      "outputs": [
        {
          "output_type": "stream",
          "name": "stdout",
          "text": [
            "IPL 2025\n"
          ]
        }
      ]
    }
  ]
}