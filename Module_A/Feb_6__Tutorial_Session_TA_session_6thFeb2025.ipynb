{
  "nbformat": 4,
  "nbformat_minor": 0,
  "metadata": {
    "colab": {
      "provenance": [],
      "include_colab_link": true
    },
    "kernelspec": {
      "name": "python3",
      "display_name": "Python 3"
    },
    "language_info": {
      "name": "python"
    }
  },
  "cells": [
    {
      "cell_type": "markdown",
      "metadata": {
        "id": "view-in-github",
        "colab_type": "text"
      },
      "source": [
        "<a href=\"https://colab.research.google.com/github/pranavkagrawal02/Minor-In-AI-IIT-Ropar/blob/main/Feb_6__Tutorial_Session_TA_session_6thFeb2025.ipynb\" target=\"_parent\"><img src=\"https://colab.research.google.com/assets/colab-badge.svg\" alt=\"Open In Colab\"/></a>"
      ]
    },
    {
      "cell_type": "code",
      "source": [
        "# prompt: basic example of a class\n",
        "\n",
        "class car: # (blueprint )\n",
        "  def __init__(self, name, cost):\n",
        "    self.name = name\n",
        "    self.cost = cost\n",
        "\n",
        "  def display_product(self):\n",
        "    print(f\"Product Name: {self.name}, Cost: {self.cost}\")\n",
        "\n",
        "  def __str__(self):\n",
        "    return f\"Product Name: {self.name}, Cost: {self.cost}\"\n",
        "\n",
        "# Example usage:\n",
        "my_product     =       car(\"Hyundai\", 1200)\n",
        "\n",
        "\n",
        "# my_product.display_product()\n",
        "\n",
        "# another_product = car(\"Porsche\", 25)\n",
        "# another_product.display_product()\n"
      ],
      "metadata": {
        "id": "rwoQztMND6JN"
      },
      "execution_count": null,
      "outputs": []
    },
    {
      "cell_type": "code",
      "source": [
        "print(my_product)"
      ],
      "metadata": {
        "colab": {
          "base_uri": "https://localhost:8080/"
        },
        "id": "Xv9mW0FiD_N1",
        "outputId": "a5a80427-779c-4a6a-bbca-04e402515461"
      },
      "execution_count": null,
      "outputs": [
        {
          "output_type": "stream",
          "name": "stdout",
          "text": [
            "Product Name: Hyundai, Cost: 1200\n"
          ]
        }
      ]
    },
    {
      "cell_type": "code",
      "source": [
        "print(\"hello\")"
      ],
      "metadata": {
        "colab": {
          "base_uri": "https://localhost:8080/"
        },
        "id": "EnfWfd8vNfKb",
        "outputId": "02ab2aa7-7329-4fca-82f2-9462d062a53a"
      },
      "execution_count": null,
      "outputs": [
        {
          "output_type": "stream",
          "name": "stdout",
          "text": [
            "hello\n"
          ]
        }
      ]
    },
    {
      "cell_type": "code",
      "source": [
        "add(1, 2)"
      ],
      "metadata": {
        "colab": {
          "base_uri": "https://localhost:8080/"
        },
        "id": "f73eI1R1Ntix",
        "outputId": "ccc5ce41-548e-43fd-909f-84fd498b348c"
      },
      "execution_count": null,
      "outputs": [
        {
          "output_type": "stream",
          "name": "stdout",
          "text": [
            "3\n"
          ]
        }
      ]
    },
    {
      "cell_type": "code",
      "source": [
        "add(\"1\", \"2\")"
      ],
      "metadata": {
        "colab": {
          "base_uri": "https://localhost:8080/"
        },
        "id": "BtP-47nBNtfK",
        "outputId": "331d166e-adc2-424c-fc3e-6a685af5ab5f"
      },
      "execution_count": null,
      "outputs": [
        {
          "output_type": "stream",
          "name": "stdout",
          "text": [
            "12\n"
          ]
        }
      ]
    },
    {
      "cell_type": "code",
      "source": [],
      "metadata": {
        "id": "FEl4gRUaNtb4"
      },
      "execution_count": null,
      "outputs": []
    },
    {
      "cell_type": "code",
      "source": [],
      "metadata": {
        "id": "gKnSluuXNtYG"
      },
      "execution_count": null,
      "outputs": []
    },
    {
      "cell_type": "code",
      "source": [],
      "metadata": {
        "id": "K-cNv644NtVD"
      },
      "execution_count": null,
      "outputs": []
    },
    {
      "cell_type": "code",
      "source": [
        "# prompt: overload print function so that it prints the objects attributes\n",
        "\n",
        "class Product:\n",
        "  def __init__(self, name, cost):\n",
        "    self.name = name\n",
        "    self.cost = cost\n",
        "\n",
        "class Car:  # (blueprint)\n",
        "  def __init__(self, name, cost):\n",
        "    self.name = name\n",
        "    self.cost = cost\n",
        "\n",
        "  def display_product(self):\n",
        "    print(f\"Product Name: {self.name}, Cost: {self.cost}\")\n",
        "\n",
        "  def __str__(self):\n",
        "    return f\"Product Name: {self.name}, Cost: {self.cost}\"\n",
        "\n",
        "# Example usage:\n",
        "my_product = Car(\"Hyundai\", 1200)\n",
        "\n",
        "my_product\n"
      ],
      "metadata": {
        "id": "u3ZhWb54NDnJ"
      },
      "execution_count": null,
      "outputs": []
    },
    {
      "cell_type": "code",
      "source": [
        "# def # define\n",
        "def add():\n",
        "  print('namaste')"
      ],
      "metadata": {
        "id": "GEtW2ZxtEBDO"
      },
      "execution_count": null,
      "outputs": []
    },
    {
      "cell_type": "code",
      "source": [
        "add()"
      ],
      "metadata": {
        "colab": {
          "base_uri": "https://localhost:8080/"
        },
        "id": "jeOW7v5hEWQO",
        "outputId": "b3aebe3c-bb02-463e-962c-95ac075f9644"
      },
      "execution_count": null,
      "outputs": [
        {
          "output_type": "stream",
          "name": "stdout",
          "text": [
            "namaste\n"
          ]
        }
      ]
    },
    {
      "cell_type": "code",
      "source": [
        "print('namaste')"
      ],
      "metadata": {
        "colab": {
          "base_uri": "https://localhost:8080/"
        },
        "id": "QLnuUyBnEjV2",
        "outputId": "71d3c13c-998a-4f62-9b73-9afb5f248847"
      },
      "execution_count": null,
      "outputs": [
        {
          "output_type": "stream",
          "name": "stdout",
          "text": [
            "namaste\n"
          ]
        }
      ]
    },
    {
      "cell_type": "code",
      "source": [
        "add()"
      ],
      "metadata": {
        "colab": {
          "base_uri": "https://localhost:8080/"
        },
        "id": "4rN01av2EnOM",
        "outputId": "9dd2278b-5a63-4354-a666-f6716eef6058"
      },
      "execution_count": null,
      "outputs": [
        {
          "output_type": "stream",
          "name": "stdout",
          "text": [
            "namaste\n"
          ]
        }
      ]
    },
    {
      "cell_type": "code",
      "source": [
        "add()"
      ],
      "metadata": {
        "colab": {
          "base_uri": "https://localhost:8080/"
        },
        "id": "dt1sFkP4Eoul",
        "outputId": "fd87f2de-f453-4f9d-c577-6a166c8b6d85"
      },
      "execution_count": null,
      "outputs": [
        {
          "output_type": "stream",
          "name": "stdout",
          "text": [
            "namaste\n"
          ]
        }
      ]
    },
    {
      "cell_type": "code",
      "source": [
        "add(1,2)"
      ],
      "metadata": {
        "colab": {
          "base_uri": "https://localhost:8080/",
          "height": 141
        },
        "id": "u1A9aEiWEvPc",
        "outputId": "13e34432-2e30-41cf-81e7-d27244350d62"
      },
      "execution_count": null,
      "outputs": [
        {
          "output_type": "error",
          "ename": "TypeError",
          "evalue": "add() takes 0 positional arguments but 2 were given",
          "traceback": [
            "\u001b[0;31m---------------------------------------------------------------------------\u001b[0m",
            "\u001b[0;31mTypeError\u001b[0m                                 Traceback (most recent call last)",
            "\u001b[0;32m<ipython-input-7-944f4051a32c>\u001b[0m in \u001b[0;36m<cell line: 0>\u001b[0;34m()\u001b[0m\n\u001b[0;32m----> 1\u001b[0;31m \u001b[0madd\u001b[0m\u001b[0;34m(\u001b[0m\u001b[0;36m1\u001b[0m\u001b[0;34m,\u001b[0m\u001b[0;36m2\u001b[0m\u001b[0;34m)\u001b[0m\u001b[0;34m\u001b[0m\u001b[0;34m\u001b[0m\u001b[0m\n\u001b[0m",
            "\u001b[0;31mTypeError\u001b[0m: add() takes 0 positional arguments but 2 were given"
          ]
        }
      ]
    },
    {
      "cell_type": "code",
      "source": [
        "def add(a, b):\n",
        "  print(a + b)"
      ],
      "metadata": {
        "id": "eFJnQNdIFJgd"
      },
      "execution_count": null,
      "outputs": []
    },
    {
      "cell_type": "code",
      "source": [
        "add(1,2)"
      ],
      "metadata": {
        "colab": {
          "base_uri": "https://localhost:8080/"
        },
        "id": "i5XE9ByPFSeW",
        "outputId": "fb2060fb-f70b-4c77-8b5f-1f399a095978"
      },
      "execution_count": null,
      "outputs": [
        {
          "output_type": "stream",
          "name": "stdout",
          "text": [
            "3\n"
          ]
        }
      ]
    },
    {
      "cell_type": "code",
      "source": [
        "add(\"1\",\"2\")"
      ],
      "metadata": {
        "colab": {
          "base_uri": "https://localhost:8080/"
        },
        "id": "6FhldJK6FVie",
        "outputId": "72b5e44b-83d4-410e-959b-eb6546eb1314"
      },
      "execution_count": null,
      "outputs": [
        {
          "output_type": "stream",
          "name": "stdout",
          "text": [
            "12\n"
          ]
        }
      ]
    },
    {
      "cell_type": "code",
      "source": [
        "\"hell\" \"high\""
      ],
      "metadata": {
        "id": "BRJBbA7XFeXG"
      },
      "execution_count": null,
      "outputs": []
    },
    {
      "cell_type": "code",
      "source": [
        "var1 = add(1,2)"
      ],
      "metadata": {
        "colab": {
          "base_uri": "https://localhost:8080/"
        },
        "id": "QAKXxdUIGDBe",
        "outputId": "0f7ff03d-a018-432d-ff07-a4b3ec246019"
      },
      "execution_count": null,
      "outputs": [
        {
          "output_type": "stream",
          "name": "stdout",
          "text": [
            "3\n"
          ]
        }
      ]
    },
    {
      "cell_type": "code",
      "source": [
        "print(var1)"
      ],
      "metadata": {
        "colab": {
          "base_uri": "https://localhost:8080/"
        },
        "id": "P8wxsQBNGRAe",
        "outputId": "a904d32b-51b7-46ef-c679-4d9f3191c679"
      },
      "execution_count": null,
      "outputs": [
        {
          "output_type": "stream",
          "name": "stdout",
          "text": [
            "None\n"
          ]
        }
      ]
    },
    {
      "cell_type": "code",
      "source": [],
      "metadata": {
        "id": "n9Tqqvd3MmBi"
      },
      "execution_count": null,
      "outputs": []
    },
    {
      "cell_type": "code",
      "source": [],
      "metadata": {
        "id": "Zm54tZDLMl_D"
      },
      "execution_count": null,
      "outputs": []
    }
  ]
}