{
  "nbformat": 4,
  "nbformat_minor": 0,
  "metadata": {
    "colab": {
      "provenance": [],
      "include_colab_link": true
    },
    "kernelspec": {
      "name": "python3",
      "display_name": "Python 3"
    },
    "language_info": {
      "name": "python"
    }
  },
  "cells": [
    {
      "cell_type": "markdown",
      "metadata": {
        "id": "view-in-github",
        "colab_type": "text"
      },
      "source": [
        "<a href=\"https://colab.research.google.com/github/pranavkagrawal02/Minor-In-AI-IIT-Ropar/blob/main/Feb_10_Batch_4_File_Handling.ipynb\" target=\"_parent\"><img src=\"https://colab.research.google.com/assets/colab-badge.svg\" alt=\"Open In Colab\"/></a>"
      ]
    },
    {
      "cell_type": "markdown",
      "source": [
        "### File Modes"
      ],
      "metadata": {
        "id": "t_lJAbbQnULT"
      }
    },
    {
      "cell_type": "code",
      "source": [
        "#File Modes\n",
        "\n",
        "#read - r\n",
        "#overwrite - w\n",
        "#append - a\n",
        "# r+\n",
        "# w+\n",
        "#a+\n",
        " #Python - Text, binary\n",
        "\n",
        " #rb\n",
        "\n",
        "\n"
      ],
      "metadata": {
        "id": "KJnCPwFnVF0U"
      },
      "execution_count": null,
      "outputs": []
    },
    {
      "cell_type": "markdown",
      "source": [
        "### Open, Read, *Write* and Close operation\n",
        "\n",
        "#### Digital Student Record system"
      ],
      "metadata": {
        "id": "moB3X0dTnZPt"
      }
    },
    {
      "cell_type": "code",
      "source": [
        "# Steps to write to a file\n",
        "\n",
        "# 1. Open the file\n",
        "f1=open('student.txt','w')\n",
        "\n",
        "# 2. Write to the file\n",
        "print(f1.write('Hello, I am learning Python. This is Meenakshi'))\n",
        "f1.tell()\n",
        "f1.write('Hello, I am learning Python. This is Meenakshi')\n",
        "\n",
        "# 3. Close the file\n",
        "f1.close()"
      ],
      "metadata": {
        "colab": {
          "base_uri": "https://localhost:8080/"
        },
        "id": "SgjbTJlVV3f4",
        "outputId": "e0146f18-cd2b-4c5e-8482-7926dd9f2d2a"
      },
      "execution_count": null,
      "outputs": [
        {
          "output_type": "stream",
          "name": "stdout",
          "text": [
            "46\n"
          ]
        }
      ]
    },
    {
      "cell_type": "code",
      "source": [
        "#Steps to read from a Text file\n",
        "\n",
        "# 1. Open the file\n",
        "f1=open('student.txt','r')\n",
        "f2=open(\"test.txt\",'w')\n",
        "# 2. Read from the file\n",
        "print(f1.read())\n",
        "f2.write(f1.read())\n",
        "\n",
        "# 3. Close the file\n",
        "f1.close()\n",
        "f2.close()"
      ],
      "metadata": {
        "colab": {
          "base_uri": "https://localhost:8080/"
        },
        "id": "ceQF9rHZXIy9",
        "outputId": "047a94d3-7bb9-42d3-b344-75b27ddf5ef8"
      },
      "execution_count": null,
      "outputs": [
        {
          "output_type": "stream",
          "name": "stdout",
          "text": [
            "Hello, I am learning Python. This is MeenakshiHello, I am learning Python. This is Meenakshi\n"
          ]
        }
      ]
    },
    {
      "cell_type": "code",
      "source": [
        "#Steps to append new content to a file\n",
        "\n",
        "#1. Open the file in append mode\n",
        "f1=open(\"student.txt\",'a')\n",
        "\n",
        "#2. Write content to the file\n",
        "f1.write(\"\\nThis is a new line\")\n",
        "\n",
        "#3. Close the file\n",
        "f1.close()"
      ],
      "metadata": {
        "id": "pATWRplZXvxf"
      },
      "execution_count": null,
      "outputs": []
    },
    {
      "cell_type": "code",
      "source": [
        "f1=open(\"student.txt\",'w')\n",
        "f1.write(\"This is a new line in write mode\")\n",
        "f1.close()"
      ],
      "metadata": {
        "id": "dADz2sluYPfN"
      },
      "execution_count": null,
      "outputs": []
    },
    {
      "cell_type": "code",
      "source": [
        "f1=open(\"student.txt\",'r')\n",
        "print(f1.read(10))\n",
        "print(f1.tell())\n",
        "f1.close()\n",
        "\n"
      ],
      "metadata": {
        "colab": {
          "base_uri": "https://localhost:8080/"
        },
        "id": "zCo3QyGAYq34",
        "outputId": "e7c34657-91c5-46b5-c65b-a19b2d240677"
      },
      "execution_count": null,
      "outputs": [
        {
          "output_type": "stream",
          "name": "stdout",
          "text": [
            "This is a \n",
            "10\n"
          ]
        }
      ]
    },
    {
      "cell_type": "code",
      "source": [
        "f1=open(\"student.txt\",'r+')\n",
        "f1.write(\"This is a new line in write mode\")\n",
        "f1.seek(0)\n",
        "print(f1.read())\n",
        "f1.close()"
      ],
      "metadata": {
        "colab": {
          "base_uri": "https://localhost:8080/"
        },
        "id": "IU4L3r2VY8sZ",
        "outputId": "3e52a795-e49e-4359-f8ac-bca4aa28a23d"
      },
      "execution_count": null,
      "outputs": [
        {
          "output_type": "stream",
          "name": "stdout",
          "text": [
            "This is a new line in write mode\n"
          ]
        }
      ]
    },
    {
      "cell_type": "markdown",
      "source": [
        "### Read line by line - readlines()"
      ],
      "metadata": {
        "id": "8rNd9Nf9njOA"
      }
    },
    {
      "cell_type": "code",
      "source": [
        "# Open a file to write details of 4 students' reg_no, name and mark\n",
        "\n",
        "f1=open(\"student.txt\",'w')\n",
        "f1.write(\"Reg_no\\tName\\tMark\\n\")\n",
        "for i in range(4):\n",
        "    reg_no=input(\"Enter reg_no: \")\n",
        "    name=input(\"Enter name: \")\n",
        "    mark=input(\"Enter mark: \")\n",
        "    f1.write(reg_no+\"\\t\"+name+\"\\t\"+mark+\"\\n\")\n",
        "f1.close()"
      ],
      "metadata": {
        "colab": {
          "base_uri": "https://localhost:8080/"
        },
        "id": "mFu2rTE4bwP_",
        "outputId": "a77776d6-9ecb-43b2-f6ed-f771aefcef81"
      },
      "execution_count": null,
      "outputs": [
        {
          "name": "stdout",
          "output_type": "stream",
          "text": [
            "Enter reg_no: 1\n",
            "Enter name: a\n",
            "Enter mark: 32\n",
            "Enter reg_no: 2\n",
            "Enter name: b\n",
            "Enter mark: 45\n",
            "Enter reg_no: 3\n",
            "Enter name: d\n",
            "Enter mark: 44\n",
            "Enter reg_no: 4\n",
            "Enter name: e\n",
            "Enter mark: 39\n"
          ]
        }
      ]
    },
    {
      "cell_type": "code",
      "source": [
        "with open(\"student.txt\",'r') as f1:\n",
        "    lines=f1.readlines()\n",
        "    print(lines)\n",
        "    for line in lines:\n",
        "        print(line)\n",
        "        # break"
      ],
      "metadata": {
        "colab": {
          "base_uri": "https://localhost:8080/"
        },
        "id": "nTbkWWANgC-Z",
        "outputId": "966137bf-bffe-4960-c70c-ec908f0b2f90"
      },
      "execution_count": null,
      "outputs": [
        {
          "output_type": "stream",
          "name": "stdout",
          "text": [
            "['Reg_no\\tName\\tMark\\n', '1\\ta\\t32\\n', '2\\tb\\t45\\n', '3\\td\\t44\\n', '4\\te\\t39\\n']\n",
            "Reg_no\tName\tMark\n",
            "\n",
            "1\ta\t32\n",
            "\n",
            "2\tb\t45\n",
            "\n",
            "3\td\t44\n",
            "\n",
            "4\te\t39\n",
            "\n"
          ]
        }
      ]
    },
    {
      "cell_type": "markdown",
      "source": [
        "### Use of Context Manager"
      ],
      "metadata": {
        "id": "XKgIiRziqAIJ"
      }
    },
    {
      "cell_type": "code",
      "source": [
        "#Demonstrate file handling exception for file operations\n",
        "\n",
        "try:\n",
        "  with open(\"student.txt\",'r') as f3:\n",
        "    print(f3.read())\n",
        "except Exception as e:\n",
        "  print(e)\n",
        "else:\n",
        "  print(\"File opened successfully\")\n",
        "finally:\n",
        "  print(\"File closed\")"
      ],
      "metadata": {
        "colab": {
          "base_uri": "https://localhost:8080/"
        },
        "id": "tRKPWCVBhIv9",
        "outputId": "036b39b5-7a5f-4a1f-b84d-7db193c1595e"
      },
      "execution_count": null,
      "outputs": [
        {
          "output_type": "stream",
          "name": "stdout",
          "text": [
            "Reg_no\tName\tMark\n",
            "1\ta\t32\n",
            "2\tb\t45\n",
            "3\td\t44\n",
            "4\te\t39\n",
            "\n",
            "File opened successfully\n",
            "File closed\n"
          ]
        }
      ]
    },
    {
      "cell_type": "code",
      "source": [
        "f1=open(\"student.txt\",'r')\n",
        "f2=open(\"nex.txt\",'w')\n",
        "f2.write(f1.read())\n",
        "f1.close()"
      ],
      "metadata": {
        "colab": {
          "base_uri": "https://localhost:8080/"
        },
        "id": "TC0K93qYichN",
        "outputId": "f4f1a0c1-0fb2-4ac9-b805-47b08b62fbe4"
      },
      "execution_count": null,
      "outputs": [
        {
          "output_type": "stream",
          "name": "stdout",
          "text": [
            "Reg_no\tName\tMark\n",
            "1\ta\t32\n",
            "2\tb\t45\n",
            "3\td\t44\n",
            "4\te\t39\n",
            "\n"
          ]
        }
      ]
    }
  ]
}