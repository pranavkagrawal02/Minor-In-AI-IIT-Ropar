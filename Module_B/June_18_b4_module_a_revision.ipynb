{
  "nbformat": 4,
  "nbformat_minor": 0,
  "metadata": {
    "colab": {
      "provenance": [],
      "include_colab_link": true
    },
    "kernelspec": {
      "name": "python3",
      "display_name": "Python 3"
    },
    "language_info": {
      "name": "python"
    }
  },
  "cells": [
    {
      "cell_type": "markdown",
      "metadata": {
        "id": "view-in-github",
        "colab_type": "text"
      },
      "source": [
        "<a href=\"https://colab.research.google.com/github/pranavkagrawal02/Minor-In-AI-IIT-Ropar/blob/main/June_18_b4_module_a_revision.ipynb\" target=\"_parent\"><img src=\"https://colab.research.google.com/assets/colab-badge.svg\" alt=\"Open In Colab\"/></a>"
      ]
    },
    {
      "cell_type": "markdown",
      "source": [
        "**Day 01 - 9 June 2025**\n",
        "\n",
        "1. Programming Basics\n",
        "2. User Input\n",
        "3. Conditions\n",
        "4. Type Conversion"
      ],
      "metadata": {
        "id": "Ylv9Kxa8bgoK"
      }
    },
    {
      "cell_type": "code",
      "execution_count": null,
      "metadata": {
        "colab": {
          "base_uri": "https://localhost:8080/"
        },
        "id": "UoodC5qy8MPA",
        "outputId": "8b0b29d1-456a-47e7-a9f4-6f53ad495f7e"
      },
      "outputs": [
        {
          "output_type": "stream",
          "name": "stdout",
          "text": [
            "Enter your name prakash\n",
            "Rate your experience on the scale of 1 to 10 8\n",
            "How many times did you visit our shop this month? 5\n",
            "Hello prakash\n",
            "You are our loyal customer\n",
            "\n"
          ]
        }
      ],
      "source": [
        "# Revising the Python Basics\n",
        "\n",
        "# Welcome the user and take basic inputs\n",
        "user_name = input(\"Enter your name \")\n",
        "\n",
        "# Take feedback score (as float) and number of visits (as int)\n",
        "score_input = input(\"Rate your experience on the scale of 1 to 10 \")\n",
        "visits_input = input(\"How many times did you visit our shop this month? \")\n",
        "\n",
        "# Type conversion\n",
        "score = float(score_input)\n",
        "visits = int(visits_input)\n",
        "\n",
        "# Clustering logic based on simple conditions\n",
        "if score >= 7 and visits >= 3:\n",
        "  cluster = \"loyal\"\n",
        "elif score >= 5 and visits >= 2:\n",
        "  cluster = \"regular\"\n",
        "else:\n",
        "  cluster = \"occasional\"\n",
        "\n",
        "# Final Output\n",
        "print(\"Hello\", user_name)\n",
        "print(\"You are our\", cluster, \"customer\\n\")\n"
      ]
    },
    {
      "cell_type": "code",
      "source": [
        "# Homework Problem - 09 June 2025\n",
        "# Complete the program\n",
        "#============================================================\n",
        "\n",
        "# Linear Regression Model: Rent = 15 * Area + 3000\n",
        "# Where:\n",
        "#   Area is in square feet\n",
        "#   15 is the cost per square foot\n",
        "#   3000 is the base rent for all apartments\n",
        "\n",
        "# Input from user\n",
        "user_name =\n",
        "area_input =\n",
        "\n",
        "# Type conversion\n",
        "area =\n",
        "\n",
        "#  Rent Prediction (using linear regression logic)\n",
        "rent =\n",
        "\n",
        "# Budget check condition\n",
        "\n",
        "\n",
        "# Final Output\n",
        "\n"
      ],
      "metadata": {
        "colab": {
          "base_uri": "https://localhost:8080/",
          "height": 109
        },
        "id": "uOHGO-9n89E1",
        "outputId": "d5492273-cc8b-4d8c-e1e1-25aac67ae249"
      },
      "execution_count": null,
      "outputs": [
        {
          "output_type": "error",
          "ename": "SyntaxError",
          "evalue": "invalid syntax (<ipython-input-2-a848b7a0af58>, line 8)",
          "traceback": [
            "\u001b[0;36m  File \u001b[0;32m\"<ipython-input-2-a848b7a0af58>\"\u001b[0;36m, line \u001b[0;32m8\u001b[0m\n\u001b[0;31m    user_name =\u001b[0m\n\u001b[0m                ^\u001b[0m\n\u001b[0;31mSyntaxError\u001b[0m\u001b[0;31m:\u001b[0m invalid syntax\n"
          ]
        }
      ]
    },
    {
      "cell_type": "code",
      "source": [
        "# Debug & Learn: Gradient Descent Code with Errors\n",
        "# Predicting House Price with Gradient Descent (Debug this!)\n",
        "\n",
        "# 1. Input from the user\n",
        "area_input = input(\"Enter area in sq ft:\")  # 🔧 Hint: Did you close the parentheses?\n",
        "\n",
        "price_input = input(\"Enter actual price in ₹:\")\n",
        "\n",
        "# 2. Type conversion\n",
        "area = float(area_input)   # 🔧 Hint: You started a function, did you close it?\n",
        "actual_price = float(price_input)\n",
        "\n",
        "# 3. Initialize parameters\n",
        "m = 0\n",
        "b = 0\n",
        "learning_rate = 0.01\n",
        "steps = 10  # 🔧 Hint: Is this the right type for a loop counter?\n",
        "\n",
        "print(\"Initial predicted price is ₹\", m * area + b)  # This one is fine. Is it? Do you see any errors?\n",
        "\n",
        "# 4. Gradient Descent Loop\n",
        "for step in range(steps):  # 🔧 Hint: Something missing at the end of a for loop\n",
        "    predicted_price = m * area + b\n",
        "    error = predicted_price - actual_price\n",
        "\n",
        "    # Gradients\n",
        "    grad_m = error * area\n",
        "    grad_b = error\n",
        "\n",
        "    # Update rule\n",
        "    m -= learning_rate * grad_m   # 🔧 Hint: Wrong operator, are you trying to subtract?\n",
        "    b = b - learning_rate * grad_b\n",
        "\n",
        "    print(\"Step\", step+1, \"m =\", m, \"b =\", b, \"error =\", error)  # 🔧 Hint: Are all the commas and operators correct?\n",
        "\n",
        "# 5. Final prediction\n",
        "final_prediction = m * area + b\n",
        "\n",
        "print(\"Predicted price is ₹\", final_prediction)  # 🔧 Hint: Look closely at comma usage\n",
        "\n",
        "if abs(final_prediction - actual_price) < 1000:  # 🔧 Hint: Are you closing abs() correctly?\n",
        "    print(\"Model is accurate!\")\n",
        "else:\n",
        "    print(\"Model needs improvement.\")  # 🔧 Hint: What usually follows else?\n"
      ],
      "metadata": {
        "id": "9P-ohYeD-LZO",
        "colab": {
          "base_uri": "https://localhost:8080/"
        },
        "outputId": "6f74da83-edf3-4a50-eb75-7b579433224e"
      },
      "execution_count": null,
      "outputs": [
        {
          "output_type": "stream",
          "name": "stdout",
          "text": [
            "Enter area in sq ft:200\n",
            "Enter actual price in ₹:1000000\n",
            "Initial predicted price is ₹ 0.0\n",
            "Step 1 m = 2000000.0 b = 10000.0 error = -1000000.0\n",
            "Step 2 m = -796020000.0 b = -3980100.0 error = 399010000.0\n",
            "Step 3 m = 317621940200.0 b = 1588109701.0 error = -159208980100.0\n",
            "Step 4 m = -126734328359202.0 b = -633671641796.01 error = 63525975149701.0\n",
            "Step 5 m = 5.056826436060519e+16 b = 252841321803025.97 error = -2.5347499344482196e+16\n",
            "Step 6 m = -2.0177243162523083e+19 b = -1.0088621581261541e+17 error = 1.0113905713441843e+19\n",
            "Step 7 m = 8.050921794278337e+21 b = 4.025460897139169e+19 error = -4.03554951872043e+21\n",
            "Step 8 m = -3.2123983051349997e+24 b = -1.6061991525675e+22 error = 1.610224613464639e+24\n",
            "Step 9 m = 1.2817790477319164e+27 b = 6.408895238659581e+24 error = -6.424957230185256e+26\n",
            "Step 10 m = -5.11442657835512e+29 b = -2.5572132891775596e+27 error = 2.5636221844162192e+29\n",
            "Predicted price is ₹ -1.0229108878039158e+32\n",
            "Model needs improvement.\n"
          ]
        }
      ]
    },
    {
      "cell_type": "code",
      "source": [
        "# Accuracy Calculation for Binary Classification (with bugs!)\n",
        "\n",
        "# 1. Define labels\n",
        "true_labels = [1, 0, 1, 1, 0]\n",
        "predicted_labels = [1, 0, 0, 1, 1, 0]  # 🔧 Hint: Is there anything wrong here?\n",
        "\n",
        "# 2. Initialize count\n",
        "correct_predictions =                   # Hint: Do a right initialization\n",
        "\n",
        "# 3. Loop to compare\n",
        "for i in range(len(true_labels))   # 🔧 Hint: Something missing after this line\n",
        "    if true_labels[i] == predicted_labels[i]  # 🔧 Hint: Is this condition closed?\n",
        "        correct_predictions = correct_predictions + 1\n",
        "\n",
        "# 4. Calculate accuracy\n",
        "accuracy = correct_predictions / len(true_label)  # 🔧 Hint: Check the variables\n",
        "\n",
        "# 5. Print result\n",
        "print(\"Number of correct predictions\" correct_predictions)  # 🔧 Hint: Check for the missing\n",
        "print(\"Accuracy is\", accuracy * 100, \"%\")\n"
      ],
      "metadata": {
        "id": "siw1AUMe3q8V"
      },
      "execution_count": null,
      "outputs": []
    },
    {
      "cell_type": "markdown",
      "source": [
        "**Day 02 - June 10**\n",
        "\n",
        "\n",
        "Loops and Functions with Machine Learning Concepts\n"
      ],
      "metadata": {
        "id": "qCHQMx4xQ1_8"
      }
    },
    {
      "cell_type": "code",
      "source": [
        "# 1. For Loop - Dataset Iteration\n",
        "'''\n",
        "This program simulates looping over features and targets in a dataset, similar to how machine learning models process training data.\n",
        "It prints each input-output pair, helping students understand how iteration works in practical scenarios like regression tasks.\n",
        "'''\n",
        "\n",
        "# Simulating simple dataset\n",
        "features = [1.2, 4.3, 2.5, 7.8, 2.3, 3.8, 5.6]  # e.g., input features\n",
        "targets = [2.3, 3.4, 4.5, 8.7, 3.2, 5.6, 6.7]  # e.g., true outputs\n",
        "\n",
        "# For loop to print each data pair\n",
        "print(\"Feature-Target pairs:\")\n",
        "\n",
        "for counter in range(len(targets)):\n",
        "  print(\"Input is\", features[counter], \"and output is\" , targets[counter])"
      ],
      "metadata": {
        "colab": {
          "base_uri": "https://localhost:8080/"
        },
        "id": "6lNAH_dxRCsU",
        "outputId": "3a0cb522-2cd7-47f4-d0c8-0596cb4b97e7"
      },
      "execution_count": null,
      "outputs": [
        {
          "output_type": "stream",
          "name": "stdout",
          "text": [
            "Feature-Target pairs:\n",
            "Input is 1.2 and output is 2.3\n",
            "Input is 4.3 and output is 3.4\n",
            "Input is 2.5 and output is 4.5\n",
            "Input is 7.8 and output is 8.7\n",
            "Input is 2.3 and output is 3.2\n",
            "Input is 3.8 and output is 5.6\n",
            "Input is 5.6 and output is 6.7\n"
          ]
        }
      ]
    },
    {
      "cell_type": "code",
      "source": [
        "# 2. While Loop - Simulated Gradient Descent\n",
        "'''\n",
        "Here, we mimic gradient descent by reducing a loss value step by step using a while loop.\n",
        "It continues until the loss falls below a threshold, offering a relatable way to\n",
        "explain convergence and stopping conditions in ML training.\n",
        "'''\n",
        "\n",
        "# Simulate gradient descent loop\n",
        "loss = 10.0\n",
        "iteration = 0\n",
        "\n",
        "print(\"\\nGradient Descent Steps:\")\n",
        "while loss >= 0.1:\n",
        "  loss = loss * 0.8\n",
        "  iteration += 1\n",
        "  print(\"Iteration\", iteration, \"Loss is\", round(loss, 2))"
      ],
      "metadata": {
        "colab": {
          "base_uri": "https://localhost:8080/"
        },
        "id": "PaIGTfCbRGO0",
        "outputId": "7c266cd8-52b5-4b28-8ab6-ea7c438bd314"
      },
      "execution_count": null,
      "outputs": [
        {
          "output_type": "stream",
          "name": "stdout",
          "text": [
            "\n",
            "Gradient Descent Steps:\n",
            "Iteration 21 Loss is 0.09\n"
          ]
        }
      ]
    },
    {
      "cell_type": "code",
      "source": [
        "# 3. Nested Loops – Confusion Matrix\n",
        "'''\n",
        "Using nested loops, this code generates a confusion matrix by comparing actual and predicted labels, as done in classification tasks like SVM.\n",
        "It demonstrates how combinations of categories are handled programmatically using structured iteration.\n",
        "'''\n",
        "\n",
        "# SVM-like classifier predictions\n",
        "actual = [\"cat\", \"dog\", \"cat\", \"dog\", \"dog\"]\n",
        "predicted = [\"cat\", \"cat\", \"cat\", \"dog\", \"dog\"]\n",
        "labels = [\"cat\", \"dog\"]\n",
        "\n",
        "# Confusion matrix calculation using nested loops\n",
        "print(\"\\nConfusion Matrix:\")\n",
        "for\n"
      ],
      "metadata": {
        "id": "cEAJ8r5qRJwH"
      },
      "execution_count": null,
      "outputs": []
    },
    {
      "cell_type": "code",
      "source": [
        "# 4. Function with Return – Mean Squared Error\n",
        "'''\n",
        "This function calculates mean squared error (MSE), a key evaluation metric in regression.\n",
        "Students see how to pass data, loop through it, compute errors, and return a final\n",
        "result—reinforcing both functional design and ML relevance.\n",
        "'''\n",
        "\n",
        "def mean_squared_error(y_true, y_pred):\n",
        "  error = 0\n",
        "  for i in range(len(y_true)):\n",
        "    error += (y_true[i] - y_pred[i]) ** 2\n",
        "  result = error / len(y_true)\n",
        "  return result\n",
        "\n",
        "# Test the function\n",
        "true_values = [2.4, 4.6, 6.2, 9.5, 11.1]\n",
        "pred_values = [2.5, 4.4, 6.0, 9.8, 10.9]\n",
        "\n",
        "mse = mean_squared_error(true_values, pred_values)\n",
        "print(\"\\nMean Squared Error:\", round(mse, 3))\n"
      ],
      "metadata": {
        "colab": {
          "base_uri": "https://localhost:8080/"
        },
        "id": "bZPkkQ6GRLbH",
        "outputId": "f709ab8c-63d5-45bc-ae4e-6ce089df1b1a"
      },
      "execution_count": null,
      "outputs": [
        {
          "output_type": "stream",
          "name": "stdout",
          "text": [
            "\n",
            "Mean Squared Error: 0.044\n"
          ]
        }
      ]
    },
    {
      "cell_type": "code",
      "source": [
        "# 5. Loops + Functions – Min-Max Normalization\n",
        "'''\n",
        "This code normalizes feature values between 0 and 1 using min-max scaling, a common preprocessing step.\n",
        "The example shows how loops and functions work together to transform data—a key concept in real-world machine learning pipelines.\n",
        "'''\n",
        "\n",
        "def normalize(features):\n",
        "\n",
        "\n",
        "raw_features = [100, 200, 400, 800, 1600]\n",
        "scaled_features = normalize(raw_features)\n",
        "print(\"\\nNormalized Features:\", scaled_features)\n"
      ],
      "metadata": {
        "colab": {
          "base_uri": "https://localhost:8080/",
          "height": 106
        },
        "id": "vOQ5EDieRO3H",
        "outputId": "81cd764f-d26a-4a08-bfc7-bed48a402112"
      },
      "execution_count": null,
      "outputs": [
        {
          "output_type": "error",
          "ename": "IndentationError",
          "evalue": "expected an indented block after function definition on line 7 (<ipython-input-3-9c2dea204afc>, line 10)",
          "traceback": [
            "\u001b[0;36m  File \u001b[0;32m\"<ipython-input-3-9c2dea204afc>\"\u001b[0;36m, line \u001b[0;32m10\u001b[0m\n\u001b[0;31m    raw_features = [100, 200, 400, 800, 1600]\u001b[0m\n\u001b[0m    ^\u001b[0m\n\u001b[0;31mIndentationError\u001b[0m\u001b[0;31m:\u001b[0m expected an indented block after function definition on line 7\n"
          ]
        }
      ]
    },
    {
      "cell_type": "markdown",
      "source": [
        "**Day 04  - 12 June**\n",
        "\n",
        "Understanding Data Structures\n",
        "- Lists\n",
        "- Tuples\n",
        "- Dictionary"
      ],
      "metadata": {
        "id": "NpAZNbdxH8ZC"
      }
    },
    {
      "cell_type": "code",
      "source": [
        "# Working with different data structures of python\n",
        "\n",
        "# Step 1: Dataset\n",
        "# Each item is a tuple: ((square_feet, number_of_rooms), price)\n",
        "# Let us fill up the data\n",
        "data = [\n",
        "    ((1000, 2), 1600000),\n",
        "    ((1200, 3), 1900000),\n",
        "    ((1500, 3), 2200000),\n",
        "    ((1800, 4), 2500000),\n",
        "    ((2000, 5), 3000000),\n",
        "]\n",
        "\n",
        "# Step 2: Separate features and normalize\n",
        "# Create three lists with names: square_feet_list, rooms_list  and price_list\n",
        "square_feet_list = []\n",
        "rooms_list = []\n",
        "price_list = []\n",
        "\n",
        "for item in data:\n",
        "    features = item[0]\n",
        "    price = item[1]\n",
        "    square_feet_list.append(features[0])\n",
        "    rooms_list.append(features[1])\n",
        "    price_list.append(price)\n",
        "\n",
        "max_sqft = max(square_feet_list)\n",
        "max_rooms = max(rooms_list)\n",
        "\n",
        "normalized_square_feet = []\n",
        "normalized_rooms = []\n",
        "\n",
        "for sf in square_feet_list:\n",
        "    normalized_square_feet.append(sf/max_sqft)\n",
        "\n",
        "for r in rooms_list:\n",
        "    normalized_rooms.append(r/max_rooms)\n",
        "\n",
        "#  create tuples in list with normalized values\n",
        "normalized_data = []\n",
        "for i in range(len(data)):\n",
        "    features = (normalized_square_feet[i], normalized_rooms[i])\n",
        "    price = price_list[i]\n",
        "    normalized_data.append((features, price))\n",
        "\n",
        "print(\"Normalized Data:\")\n",
        "for item in normalized_data:\n",
        "    print(item)\n",
        "\n",
        "# Step 3: Prediction with adjusted weights\n",
        "weight_sqft = 250000\n",
        "weight_room = 50000\n",
        "bias = 5000\n",
        "\n",
        "def predict(feature_tuple):\n",
        "    sqft = feature_tuple[0]\n",
        "    rooms = feature_tuple[1]\n",
        "    return sqft * weight_sqft + rooms * weight_room + bias\n",
        "\n",
        "# Step 4: Make predictions\n",
        "predictions = []\n",
        "actual_prices = []\n",
        "\n",
        "for item in normalized_data:\n",
        "    features = item[0]\n",
        "    actual_price = item[1]\n",
        "    predicted_price = predict(features)\n",
        "    predictions.append(predicted_price)\n",
        "    actual_prices.append(actual_price)\n",
        "\n",
        "# Step 5: Accuracy function\n",
        "def simple_accuracy(y_true, y_pred):\n",
        "    total_error = 0\n",
        "    for i in range(len(y_true)):\n",
        "        error = y_true[i] - y_pred[i]\n",
        "        total_error += error ** 2\n",
        "    mse = total_error / len(y_true)\n",
        "    accuracy = 1 / (1 + mse)\n",
        "    return accuracy\n",
        "\n",
        "# Step 6: Model scores - Lets use a dictionary\n",
        "model_scores = {}\n",
        "model_scores[\"Simple Linear Model\"] = simple_accuracy(actual_prices, predictions)\n",
        "\n",
        "constant_prediction = []\n",
        "for i in range(len(actual_prices)):\n",
        "    constant_prediction.append(2000000)\n",
        "\n",
        "model_scores[\"Constant Predictor\"] = simple_accuracy(actual_prices, constant_prediction)\n",
        "\n",
        "# Step 7: Print results\n",
        "print(\"\\nModel Scores:\")\n",
        "for model_name in model_scores:\n",
        "    print(model_name, \":\", model_scores[model_name])\n",
        "\n",
        "# Step 8: Identify the Best model\n",
        "best_model = None\n",
        "best_score = -1\n",
        "\n",
        "for model_name in model_scores:\n",
        "    score = model_scores[model_name]\n",
        "    if score > best_score:\n",
        "        best_score = score\n",
        "        best_model = model_name\n",
        "\n",
        "print(\"\\nBest Performing Model:\", best_model)\n"
      ],
      "metadata": {
        "colab": {
          "base_uri": "https://localhost:8080/"
        },
        "id": "xrX0Sos-jlK7",
        "outputId": "bccd9b92-029c-46c3-a405-a46c3a524749"
      },
      "execution_count": null,
      "outputs": [
        {
          "output_type": "stream",
          "name": "stdout",
          "text": [
            "Normalized Data:\n",
            "((0.5, 0.4), 1600000)\n",
            "((0.6, 0.6), 1900000)\n",
            "((0.75, 0.6), 2200000)\n",
            "((0.9, 0.8), 2500000)\n",
            "((1.0, 1.0), 3000000)\n",
            "\n",
            "Model Scores:\n",
            "Simple Linear Model : 2.3595861875717977e-13\n",
            "Constant Predictor : 3.424657534234847e-12\n",
            "\n",
            "Best Performing Model: Constant Predictor\n"
          ]
        }
      ]
    },
    {
      "cell_type": "markdown",
      "source": [
        "**List Comprehensions**\n",
        "\n",
        "\n",
        "List comprehension is a short and elegant way to create lists in Python. Instead of using multiple lines with a loop, you can write a single line that expresses the logic clearly.\n",
        "\n",
        "Basic Syntax:\n",
        "```\n",
        "new_list = [expression for item in iterable if condition]\n",
        "```\n",
        "\n",
        "Example: Using loop:\n",
        "\n",
        "```\n",
        "numbers = [1, 2, 3, 4]\n",
        "squares = []\n",
        "for n in numbers:\n",
        "    squares.append(n * n)\n",
        "print(squares)\n",
        "```\n",
        "\n",
        "\n",
        "Using List comprehension:\n",
        "```\n",
        "numbers = [1, 2, 3, 4]\n",
        "squares = [n * n for n in numbers]\n",
        "print(squares)\n",
        "```\n",
        "\n",
        "Example with condition:\n",
        "```\n",
        "numbers = [1, 2, 3, 4, 5, 6]\n",
        "even_squares =\n",
        "print(even_squares)\n",
        "\n",
        "# Expected Output: [4, 16, 36]\n",
        "```\n"
      ],
      "metadata": {
        "id": "rIcTxk3TJuM8"
      }
    },
    {
      "cell_type": "markdown",
      "source": [
        "**True or False?**\n",
        "\n",
        "\n",
        "1. Ravi made a grocery tuple because he didn’t want anyone (including himself) to modify the list and sneak chocolates in later.\n",
        "\n",
        "2. Sneha stored her enemies names in a dictionary with reasons as values. She updated reasons over time as she matured.\n",
        "\n",
        "3. Arjun tried to append a new song to his tuple playlist. It worked after he apologized to it.\n",
        "\n",
        "4. Meena keeps her shoe collection as a list so she can rearrange them based on mood, color, and astrology predictions.\n",
        "\n",
        "5. Jay stored his bank account PINs in a list, and then reversed the list hoping it becomes more secure.\n",
        "\n",
        "6. Nina’s dictionary had her pet dogs' names as keys and their favorite snacks as values. When she changed the snack, her dog protested the mutability.\n",
        "\n",
        "7. Babu created a tuple of his top 5 excuses for being late. He wanted to delete the one about “traffic” but forgot tuples don’t negotiate.\n",
        "\n",
        "8. Kriti keeps a list of failed cooking attempts. She uses .pop() to remove the memory of burnt pasta every time she cries.\n",
        "\n",
        "9. A dictionary in Python can have a list as a key if it’s on good behavior and promises to stay hashable.\n",
        "\n",
        "10. Vikram created a nested list of all his New Year’s resolutions from 2010 to 2025. He says he’ll complete them once he figures out indexing."
      ],
      "metadata": {
        "id": "OvX4bDHfO3za"
      }
    },
    {
      "cell_type": "markdown",
      "source": [
        "**Day 05 - 13 June**\n",
        "\n",
        "Sorting and Searching\n",
        "\n",
        "Sorting and searching are essential processes that simplify and speed up decision-making in everyday life. From organizing books alphabetically in a library to finding a contact in your phone, these operations help us access information quickly and efficiently. Sorting enables structured arrangement—making comparisons, analysis, and storage more effective. Searching, on the other hand, helps retrieve specific data from large sets, like locating a product in an online store or a file on a computer. Together, they form the backbone of countless real-world systems, including banking, logistics, healthcare, and education, where data handling and quick access are critical for smooth operations."
      ],
      "metadata": {
        "id": "EHIRgw-DKdqz"
      }
    },
    {
      "cell_type": "code",
      "source": [
        "def bubble_sort(arr):\n",
        "    n = len(arr)\n",
        "    for i in range(n):\n",
        "        # Last i elements are already sorted\n",
        "        for j in range(n - i - 1):\n",
        "            if arr[j] > arr[j + 1]:\n",
        "                # Swap if elements are in wrong order\n",
        "                arr[j], arr[j + 1] = arr[j + 1], arr[j]\n",
        "\n",
        "# Example usage\n",
        "data = [64, 34, 25, 12, 22, 11, 90]\n",
        "print(\"Original array:\", data)\n",
        "bubble_sort(data)\n",
        "print(\"Sorted array:\", data)\n"
      ],
      "metadata": {
        "colab": {
          "base_uri": "https://localhost:8080/"
        },
        "id": "AdU8jzfUL_YQ",
        "outputId": "360cf4fb-61d5-4bab-9661-ee1515678c99"
      },
      "execution_count": null,
      "outputs": [
        {
          "output_type": "stream",
          "name": "stdout",
          "text": [
            "Original array: [64, 34, 25, 12, 22, 11, 90]\n",
            "Sorted array: [11, 12, 22, 25, 34, 64, 90]\n"
          ]
        }
      ]
    },
    {
      "cell_type": "code",
      "source": [
        "def selection_sort(arr):\n",
        "    n = len(arr)\n",
        "    for i in range(n):\n",
        "        min_idx = i\n",
        "        # Find the minimum element in the remaining unsorted array\n",
        "        for j in range(i + 1, n):\n",
        "            if arr[j] < arr[min_idx]:\n",
        "                min_idx = j\n",
        "        # Swap the found minimum with the first unsorted element\n",
        "        arr[i], arr[min_idx] = arr[min_idx], arr[i]\n",
        "\n",
        "# Example usage\n",
        "data = [64, 25, 12, 22, 11]\n",
        "print(\"Original array:\", data)\n",
        "selection_sort(data)\n",
        "print(\"Sorted array:\", data)\n"
      ],
      "metadata": {
        "colab": {
          "base_uri": "https://localhost:8080/"
        },
        "id": "Fki-bhqnMgVb",
        "outputId": "04128f50-1586-4b9e-d60f-07dc54d501d1"
      },
      "execution_count": null,
      "outputs": [
        {
          "output_type": "stream",
          "name": "stdout",
          "text": [
            "Original array: [64, 25, 12, 22, 11]\n",
            "Sorted array: [11, 12, 22, 25, 64]\n"
          ]
        }
      ]
    },
    {
      "cell_type": "code",
      "source": [
        "def insertion_sort(arr):\n",
        "    for i in range(1, len(arr)):\n",
        "        key = arr[i]\n",
        "        j = i - 1\n",
        "        # Move elements that are greater than key one position ahead\n",
        "        while j >= 0 and arr[j] > key:\n",
        "            arr[j + 1] = arr[j]\n",
        "            j -= 1\n",
        "        arr[j + 1] = key\n",
        "\n",
        "# Example usage\n",
        "data = [12, 11, 13, 5, 6]\n",
        "print(\"Original array:\", data)\n",
        "insertion_sort(data)\n",
        "print(\"Sorted array:\", data)\n"
      ],
      "metadata": {
        "colab": {
          "base_uri": "https://localhost:8080/"
        },
        "id": "BLkKyfd_Nfqz",
        "outputId": "4c06dace-1e90-4cc2-b425-e900eac04720"
      },
      "execution_count": null,
      "outputs": [
        {
          "output_type": "stream",
          "name": "stdout",
          "text": [
            "Original array: [12, 11, 13, 5, 6]\n",
            "Sorted array: [5, 6, 11, 12, 13]\n"
          ]
        }
      ]
    },
    {
      "cell_type": "code",
      "source": [
        "import numpy as np\n",
        "\n",
        "arr = np.array([5, 3, 8, 4, 2])\n",
        "sorted_arr = np.sort(arr, kind='quick')\n",
        "print(sorted_arr)"
      ],
      "metadata": {
        "colab": {
          "base_uri": "https://localhost:8080/"
        },
        "id": "RgzXuamRQEch",
        "outputId": "fe5f2792-54c7-4a7b-fbff-22ada5cfd796"
      },
      "execution_count": null,
      "outputs": [
        {
          "output_type": "stream",
          "name": "stdout",
          "text": [
            "[2 3 4 5 8]\n"
          ]
        }
      ]
    },
    {
      "cell_type": "code",
      "source": [
        "def linear_search(arr, target):\n",
        "    for i in range(len(arr)):\n",
        "        if arr[i] == target:\n",
        "            return i  # Return the index if found\n",
        "    return -1  # Return -1 if not found\n",
        "\n",
        "# Example usage\n",
        "data = [10, 20, 30, 40, 50]\n",
        "target = 30\n",
        "\n",
        "result = linear_search(data, target)\n",
        "if result != -1:\n",
        "    print(f\"Element found at index {result}\")\n",
        "else:\n",
        "    print(\"Element not found\")\n"
      ],
      "metadata": {
        "colab": {
          "base_uri": "https://localhost:8080/"
        },
        "id": "nyKVXGs7N-Pf",
        "outputId": "14c94056-1210-465c-b8b8-8b32174d0baa"
      },
      "execution_count": null,
      "outputs": [
        {
          "output_type": "stream",
          "name": "stdout",
          "text": [
            "Element found at index 2\n"
          ]
        }
      ]
    },
    {
      "cell_type": "code",
      "source": [
        "# Binary Search\n",
        "def insertion_sort(arr):\n",
        "    for i in range(1, len(arr)):\n",
        "        key = arr[i]\n",
        "        j = i - 1\n",
        "        # Shift larger elements one position ahead\n",
        "        while j >= 0 and arr[j] > key:\n",
        "            arr[j + 1] = arr[j]\n",
        "            j -= 1\n",
        "        arr[j + 1] = key\n",
        "\n",
        "def binary_search(arr, target):\n",
        "    low = 0\n",
        "    high = len(arr) - 1\n",
        "\n",
        "    while low <= high:\n",
        "        mid = (low + high) // 2\n",
        "        if arr[mid] == target:\n",
        "            return mid  # Element found\n",
        "        elif arr[mid] < target:\n",
        "            low = mid + 1\n",
        "        else:\n",
        "            high = mid - 1\n",
        "\n",
        "    return -1  # Element not found\n",
        "\n",
        "# Example usage\n",
        "data = [40, 10, 30, 20, 50]\n",
        "target = 30\n",
        "\n",
        "print(\"Original array:\", data)\n",
        "insertion_sort(data)\n",
        "print(\"Sorted array:\", data)\n",
        "\n",
        "result = binary_search(data, target)\n",
        "if result != -1:\n",
        "    print(f\"Element {target} found at index {result}\")\n",
        "else:\n",
        "    print(f\"Element {target} not found\")\n"
      ],
      "metadata": {
        "colab": {
          "base_uri": "https://localhost:8080/"
        },
        "id": "DJJPM4kFOJw6",
        "outputId": "9b5faeea-224c-4a43-fd8a-bafc2344be4d"
      },
      "execution_count": null,
      "outputs": [
        {
          "output_type": "stream",
          "name": "stdout",
          "text": [
            "Original array: [40, 10, 30, 20, 50]\n",
            "Sorted array: [10, 20, 30, 40, 50]\n",
            "Element 30 found at index 2\n"
          ]
        }
      ]
    },
    {
      "cell_type": "markdown",
      "source": [
        "**Day 06 - 16 June **\n",
        "\n",
        "\n",
        "Vectors, Matrices and Markov Models\n"
      ],
      "metadata": {
        "id": "cyrEcN-Xxz62"
      }
    },
    {
      "cell_type": "code",
      "source": [
        "# Example 1: A data point in ML and its two ways\n",
        "# A flower’s features in Iris dataset\n",
        "import numpy as np\n",
        "\n",
        "x1 = [5.2, \"hello\", 1.4, 'a']\n",
        "print(x1)\n",
        "\n",
        "x2 = np.array([5.2, 3.5, \"hello\", 1.7])\n",
        "print(x2)\n",
        "\n",
        "x3 = np.array([5.2, 3.5, 4.5, 1.7])\n",
        "print(x3)\n"
      ],
      "metadata": {
        "colab": {
          "base_uri": "https://localhost:8080/"
        },
        "id": "CB1xKnMnx6U9",
        "outputId": "58a23015-52b6-4e60-95a8-0cccd95dee5e"
      },
      "execution_count": null,
      "outputs": [
        {
          "output_type": "stream",
          "name": "stdout",
          "text": [
            "[5.2, 'hello', 1.4, 'a']\n",
            "['5.2' '3.5' 'hello' '1.7']\n",
            "[5.2 3.5 4.5 1.7]\n"
          ]
        }
      ]
    },
    {
      "cell_type": "code",
      "source": [
        "# Example 2: Weight vector in Linear Regression\n",
        "import numpy as np\n",
        "\n",
        "# model weights\n",
        "w = [3, 4, 5, 2]\n",
        "\n",
        "# input features\n",
        "x = [1, 2, 5, 3]\n",
        "\n",
        "# prediction = dot product of w and x\n",
        "prediction = np.dot(w,x)\n",
        "print(prediction)\n",
        "\n",
        "w1 = np.array(w)\n",
        "x1 = np.array(x)\n",
        "\n",
        "pred = w1 @ x1\n",
        "print(pred)\n"
      ],
      "metadata": {
        "colab": {
          "base_uri": "https://localhost:8080/"
        },
        "id": "m3fnv5hN2TfK",
        "outputId": "9c8a35cf-c3bd-4d57-9f1d-d18b83a5368b"
      },
      "execution_count": null,
      "outputs": [
        {
          "output_type": "stream",
          "name": "stdout",
          "text": [
            "42\n",
            "42\n"
          ]
        }
      ]
    },
    {
      "cell_type": "code",
      "source": [
        "# Example 3 - Matrix Operations\n",
        "\n",
        "# Case 1\n",
        "X = np.array([\n",
        "  [2,3],\n",
        "  [5,6],\n",
        "  [4,5]\n",
        "])  # 3 data points, 2 features each\n",
        "\n",
        "# Case 2\n",
        "inputs = np.array([ [1,2] ])         # shape (1, 2)\n",
        "weights = np.array([[3], [7]])        # shape (2, 1)\n",
        "\n",
        "output = inputs @ weights           # matrix multiplication\n",
        "print(\"Output:\", output)\n",
        "\n"
      ],
      "metadata": {
        "colab": {
          "base_uri": "https://localhost:8080/"
        },
        "id": "dU0coMQn3rsG",
        "outputId": "8556a320-6257-48e7-cc99-2a727268a502"
      },
      "execution_count": null,
      "outputs": [
        {
          "output_type": "stream",
          "name": "stdout",
          "text": [
            "Output: [[17]]\n"
          ]
        }
      ]
    },
    {
      "cell_type": "code",
      "source": [
        "# Example 4\n",
        "\n",
        "import numpy as np\n",
        "\n",
        "# 1. Dot Product - used in linear regression or similarity\n",
        "x = np.array([2, 3, 5])\n",
        "w = np.array([0.4, 0.3, 0.2])\n",
        "dot_result = np.dot(x,w)\n",
        "print(\"1. Dot Product (prediction or similarity):\", dot_result)\n",
        "\n",
        "# 2. Matrix Multiplication - used in neural network forward pass\n",
        "inputs = np.array([[1, 2, 3]])           # shape (1, 3)\n",
        "weights = np.array([[0.1, 0.2],\n",
        "                    [0.3, 0.4],\n",
        "                    [0.5, 0.6]])         # shape (3, 2)\n",
        "output = np.dot(inputs, weights)\n",
        "print(\"2. Matrix Multiplication (NN layer output):\\n\", output)\n",
        "\n",
        "# 3. Transpose - to change orientation\n",
        "X = np.array([[1, 2, 3],\n",
        "              [4, 5, 6]])\n",
        "transpose_X = X.T\n",
        "print(\"3. Transpose of matrix:\\n\", transpose_X)\n",
        "\n",
        "# 4. Inverse - solving linear systems (only square matrices)\n",
        "A = np.array([[4, 7],\n",
        "              [2, 6]])\n",
        "inverse_A = np.linalg.inv(A)\n",
        "print(\"4. Inverse of matrix A:\\n\", inverse_A)\n",
        "\n",
        "\n"
      ],
      "metadata": {
        "colab": {
          "base_uri": "https://localhost:8080/"
        },
        "id": "tZvxSHUv4ikD",
        "outputId": "69c24a0b-f5e9-49d9-8af4-afdfef273046"
      },
      "execution_count": null,
      "outputs": [
        {
          "output_type": "stream",
          "name": "stdout",
          "text": [
            "1. Dot Product (prediction or similarity): 2.7\n",
            "2. Matrix Multiplication (NN layer output):\n",
            " [[2.2 2.8]]\n",
            "3. Transpose of matrix:\n",
            " [[1 4]\n",
            " [2 5]\n",
            " [3 6]]\n",
            "4. Inverse of matrix A:\n",
            " [[ 0.6 -0.7]\n",
            " [-0.2  0.4]]\n"
          ]
        }
      ]
    },
    {
      "cell_type": "code",
      "source": [
        "# Example 5 - CNN Filter as Matrix (Convolution Example)\n",
        "image = np.array([[1, 2, 3],\n",
        "                  [4, 5, 6],\n",
        "                  [7, 8, 9]])\n",
        "\n",
        "filter = np.array([[-1, 0],\n",
        "                   [0, 1]])\n",
        "\n",
        "from scipy.signal import convolve2d\n",
        "output = convolve2d(image, filter, mode = 'valid')\n",
        "print(output)\n"
      ],
      "metadata": {
        "colab": {
          "base_uri": "https://localhost:8080/"
        },
        "id": "mCihvpko5WAF",
        "outputId": "2a4f393e-9cb0-4474-a1c4-22477af1be6a"
      },
      "execution_count": null,
      "outputs": [
        {
          "output_type": "stream",
          "name": "stdout",
          "text": [
            "[[-4 -4]\n",
            " [-4 -4]]\n"
          ]
        }
      ]
    },
    {
      "cell_type": "code",
      "source": [
        "# Example 6 - Markov Models\n",
        "import numpy as np\n",
        "\n",
        "states = ['Focused', 'Distracted', 'break']\n",
        "\n",
        "tm = np.array([\n",
        "    [0.2, 0.6, 0.2],\n",
        "    [0.3, 0.1, 0.6],\n",
        "    [0.5, 0.2, 0.3]\n",
        "])\n",
        "\n",
        "current_state = 0\n",
        "for i in range(10):\n",
        "  next_state = np.random.choice([0, 1, 2], p = tm[current_state])\n",
        "  print(\"Step\", i, \"transits from\", states[current_state], \"to\", states[next_state])\n",
        "  current_state = next_state"
      ],
      "metadata": {
        "colab": {
          "base_uri": "https://localhost:8080/"
        },
        "id": "qtLIzqak6aj9",
        "outputId": "a9d9b71f-31aa-45c2-c10c-db11c08625d6"
      },
      "execution_count": null,
      "outputs": [
        {
          "output_type": "stream",
          "name": "stdout",
          "text": [
            "Step 0 transits from Focused to Distracted\n",
            "Step 1 transits from Distracted to Focused\n",
            "Step 2 transits from Focused to Distracted\n",
            "Step 3 transits from Distracted to break\n",
            "Step 4 transits from break to Focused\n",
            "Step 5 transits from Focused to break\n",
            "Step 6 transits from break to Focused\n",
            "Step 7 transits from Focused to Distracted\n",
            "Step 8 transits from Distracted to Distracted\n",
            "Step 9 transits from Distracted to Distracted\n"
          ]
        }
      ]
    },
    {
      "cell_type": "code",
      "source": [],
      "metadata": {
        "id": "H5n4wDiVrn-Q"
      },
      "execution_count": null,
      "outputs": []
    },
    {
      "cell_type": "markdown",
      "source": [
        "**True or False:**\n",
        "\n",
        "1. In a spam detection system, if the dot product between email features and spam weights is high, the email is probably a love letter from a Nigerian prince.\n",
        "\n",
        "2. In a dating app, the recommendation engine uses dot products to match users—if your profile vector matches someone else's, sparks (and matrix math) fly.\n",
        "\n",
        "3. In a robot vacuum cleaner, matrix multiplication helps decide if it should turn left, right, or heroically launch itself off the stairs.\n",
        "\n",
        "4. In a self-driving car, inverting the transformation matrix is how the car knows it parked sideways and not in another dimension.\n",
        "\n",
        "5. In a fitness tracking app, vectors represent your walking direction—so if your vector suddenly points backward, you either slipped or rage-quit your jog.\n",
        "\n",
        "6. In a Netflix recommendation system, transposing the ratings matrix helps it realize you secretly love romantic comedies, even though you claim to be a horror fan.\n",
        "\n",
        "7. In facial recognition, dot products match faces faster than your nosy neighbor at a neighborhood party.\n",
        "\n",
        "8. In a smart assistant, matrix operations help it understand that \"Play jazz\" means music, not summoning a saxophone-wielding genie.\n",
        "\n",
        "9. In a voice translation app, vector embeddings convert your angry rants into polite phrases in other languages.\n",
        "\n",
        "10. In a video game, vectors decide whether your character runs forward or falls off a cliff screaming—it’s all math behind the drama."
      ],
      "metadata": {
        "id": "NkwfG5lY-UqE"
      }
    },
    {
      "cell_type": "markdown",
      "source": [
        "**Day 07 - 17 June**\n",
        "\n",
        "Probability + Descriptive Statistics (mean, median, SD, variance)\n"
      ],
      "metadata": {
        "id": "WYrW0Gyproxe"
      }
    },
    {
      "cell_type": "code",
      "source": [
        "import numpy as np\n",
        "from scipy import stats\n",
        "\n",
        "data = [15, 18, 21, 18, 30, 21, 25]\n",
        "\n",
        "mean = np.mean(data)\n",
        "median = np.median(data)\n",
        "mode = stats.mode(data, keepdims = True)\n",
        "\n",
        "print(\"Mean:\", mean)\n",
        "print(\"Median:\", median)\n",
        "print(\"Mode:\", mode.mode[0])\n"
      ],
      "metadata": {
        "id": "Ik-PCSvmr1_X",
        "colab": {
          "base_uri": "https://localhost:8080/"
        },
        "outputId": "d5ffcdf6-3469-497a-9b88-96e208f9eaa5"
      },
      "execution_count": null,
      "outputs": [
        {
          "output_type": "stream",
          "name": "stdout",
          "text": [
            "Mean: 21.142857142857142\n",
            "Median: 21.0\n",
            "Mode: 18\n"
          ]
        }
      ]
    },
    {
      "cell_type": "code",
      "source": [
        "from scipy import stats\n",
        "import numpy as np\n",
        "\n",
        "data = np.array([[1, 2, 2],\n",
        "                 [1, 2, 3],\n",
        "                 [1, 1, 3]])\n",
        "\n",
        "mode = stats.mode(data, keepdims=True)\n",
        "print(mode)\n",
        "\n"
      ],
      "metadata": {
        "colab": {
          "base_uri": "https://localhost:8080/"
        },
        "id": "JNhn4NfNUvTe",
        "outputId": "c3f3007d-12d8-45b7-d065-6d0cfb780bcc"
      },
      "execution_count": null,
      "outputs": [
        {
          "output_type": "stream",
          "name": "stdout",
          "text": [
            "ModeResult(mode=array([[1, 2, 3]]), count=array([[3, 2, 2]]))\n"
          ]
        }
      ]
    },
    {
      "cell_type": "code",
      "source": [
        "from scipy import stats\n",
        "import numpy as np\n",
        "\n",
        "data = np.array([[1, 2, 2, 4],\n",
        "                 [3, 2, 3, 4]])\n",
        "\n",
        "# With keepdims=True\n",
        "result1 = stats.mode(data, keepdims=True)\n",
        "print(result1.mode.shape)\n",
        "\n",
        "# With keepdims=False\n",
        "result2 = stats.mode(data, keepdims=False)\n",
        "print(result2.mode.shape)\n",
        "\n",
        "print(result1)\n",
        "print(result2)"
      ],
      "metadata": {
        "colab": {
          "base_uri": "https://localhost:8080/"
        },
        "id": "V17Gtc4kViEE",
        "outputId": "3b680b97-3af9-4ec8-c8b7-895689596919"
      },
      "execution_count": null,
      "outputs": [
        {
          "output_type": "stream",
          "name": "stdout",
          "text": [
            "(1, 4)\n",
            "(4,)\n",
            "ModeResult(mode=array([[1, 2, 2, 4]]), count=array([[1, 2, 1, 2]]))\n",
            "ModeResult(mode=array([1, 2, 2, 4]), count=array([1, 2, 1, 2]))\n"
          ]
        }
      ]
    },
    {
      "cell_type": "code",
      "source": [
        "data = [10, 12, 23, 23, 16, 23, 21, 16]\n",
        "\n",
        "variance = np.var(data)\n",
        "std_dev = np.std(data)\n",
        "\n",
        "print(\"Variance:\", variance)\n",
        "print(\"Standard Deviation:\", std_dev)\n"
      ],
      "metadata": {
        "colab": {
          "base_uri": "https://localhost:8080/"
        },
        "id": "KpPYbglnV_fA",
        "outputId": "9a0646ac-89fe-462a-e9d1-20b546965fed"
      },
      "execution_count": null,
      "outputs": [
        {
          "output_type": "stream",
          "name": "stdout",
          "text": [
            "Variance: 24.0\n",
            "Standard Deviation: 4.898979485566356\n"
          ]
        }
      ]
    },
    {
      "cell_type": "code",
      "source": [
        "# Probability of heads in 10 coin tosses\n",
        "import random\n",
        "\n",
        "tosses = [random.choice(['H', 'T']) for _ in range(10)]\n",
        "prob_tails = tosses.count('T') / len(tosses)\n",
        "\n",
        "print(\"Tosses:\", tosses)\n",
        "print(\"P(Tails):\", prob_tails)"
      ],
      "metadata": {
        "colab": {
          "base_uri": "https://localhost:8080/"
        },
        "id": "rlyw8sNlWNGA",
        "outputId": "1d804b8a-727a-4630-fd17-1fbcd6218b1b"
      },
      "execution_count": null,
      "outputs": [
        {
          "output_type": "stream",
          "name": "stdout",
          "text": [
            "Tosses: ['T', 'T', 'T', 'T', 'T', 'H', 'H', 'H', 'H', 'T']\n",
            "P(Tails): 0.6\n"
          ]
        }
      ]
    },
    {
      "cell_type": "code",
      "source": [
        "# Simple classifier logic using probability\n",
        "spam_probability = 0.8  # P(Spam | \"Buy now\" in email)\n",
        "if spam_probability > 0.65:\n",
        "    print(\"Email classified as SPAM\")\n",
        "else:\n",
        "    print(\"Email classified as NOT SPAM\")\n"
      ],
      "metadata": {
        "colab": {
          "base_uri": "https://localhost:8080/"
        },
        "id": "BGeXUlDLWb_b",
        "outputId": "85912188-2fa7-4a7b-8268-e3e940a294b8"
      },
      "execution_count": null,
      "outputs": [
        {
          "output_type": "stream",
          "name": "stdout",
          "text": [
            "Email classified as SPAM\n"
          ]
        }
      ]
    },
    {
      "cell_type": "code",
      "source": [
        "import random\n",
        "\n",
        "# ----- INDEPENDENT EVENTS -----\n",
        "# Tossing a coin and rolling a die are independent: one does not affect the other\n",
        "\n",
        "def independent_events():\n",
        "    coin = random.choice(['Heads', 'Tails'])\n",
        "    die = random.randint(1, 6)\n",
        "\n",
        "    print(\"Coin Toss:\", coin)\n",
        "    print(\"Die Roll:\", die)\n",
        "\n",
        "    # Probability of getting 'Heads' = 1/2\n",
        "    # Probability of getting a 6 on die = 1/6\n",
        "    prob_heads = 1/2\n",
        "    prob_six = 1/6\n",
        "    prob_both = prob_heads * prob_six\n",
        "\n",
        "    print(\"P(Heads AND 6) =\", prob_both)\n",
        "\n",
        "# ----- DEPENDENT EVENTS -----\n",
        "# Drawing two cards from a deck without replacement is dependent:\n",
        "# the outcome of the first draw affects the second\n",
        "\n",
        "def dependent_events():\n",
        "    deck = ['Red'] * 26 + ['Black'] * 26  # Simple deck with 52 cards\n",
        "\n",
        "    first_draw = random.choice(deck)\n",
        "    deck.remove(first_draw)  # No replacement\n",
        "\n",
        "    second_draw = random.choice(deck)\n",
        "\n",
        "    print(\"\\nFirst Draw:\", first_draw)\n",
        "    print(\"Second Draw:\", second_draw)\n",
        "\n",
        "    # P(First Red) = 26 /52\n",
        "    # P(Second Red | First was Red) = 25/51\n",
        "    prob_first_red = 26/52\n",
        "    prob_second_red_given_first_red = 26/51\n",
        "    prob_both_red =  prob_first_red *  prob_second_red_given_first_red\n",
        "\n",
        "    print(\"P(Both Red without replacement) =\", prob_both_red)\n",
        "\n",
        "# Run both\n",
        "independent_events()\n",
        "dependent_events()\n"
      ],
      "metadata": {
        "colab": {
          "base_uri": "https://localhost:8080/"
        },
        "id": "doMthLNaXGiQ",
        "outputId": "2d816f7b-6ba7-438a-b3f4-546e15067613"
      },
      "execution_count": null,
      "outputs": [
        {
          "output_type": "stream",
          "name": "stdout",
          "text": [
            "Coin Toss: Heads\n",
            "Die Roll: 4\n",
            "P(Heads AND 6) = 0.08333333333333333\n",
            "\n",
            "First Draw: Red\n",
            "Second Draw: Black\n",
            "P(Both Red without replacement) = 0.2549019607843137\n"
          ]
        }
      ]
    },
    {
      "cell_type": "code",
      "source": [
        "# Mean – Feature Scaling (Normalization)\n",
        "# ML Connect: Helps gradient descent converge faster in algorithms like linear regression.\n",
        "\n",
        "import numpy as np\n",
        "\n",
        "X = [12, 20, 31, 43, 57]\n",
        "mean = np.mean(X)\n",
        "\n",
        "# Normalize by subtracting the mean\n",
        "normalized =  [round(float(x - mean), 2)  for x in X ]\n",
        "\n",
        "print(\"Mean:\", mean)\n",
        "print(\"Normalized Data:\", normalized)\n"
      ],
      "metadata": {
        "colab": {
          "base_uri": "https://localhost:8080/"
        },
        "id": "cTuk78NrYAzQ",
        "outputId": "148021d7-770c-4b23-ed5e-28c974ef41d4"
      },
      "execution_count": null,
      "outputs": [
        {
          "output_type": "stream",
          "name": "stdout",
          "text": [
            "Mean: 32.6\n",
            "Normalized Data: [-20.6, -12.6, -1.6, 10.4, 24.4]\n"
          ]
        }
      ]
    },
    {
      "cell_type": "code",
      "source": [
        "# Median – Handling Outliers\n",
        "# Used in preprocessing to impute missing or noisy values.\n",
        "# ML Connect: Robust imputation method in pipelines (e.g., SimpleImputer(strategy='median') in scikit-learn).\n",
        "\n",
        "import numpy as np\n",
        "\n",
        "data = [50, 52, 54, 1000]  # Outlier present\n",
        "median = np.median(data)\n",
        "\n",
        "print(\"Median (used to replace outliers):\", median)\n"
      ],
      "metadata": {
        "colab": {
          "base_uri": "https://localhost:8080/"
        },
        "id": "1hv2QTolZYKk",
        "outputId": "e21d09c4-def3-4b23-904d-8103632bd217"
      },
      "execution_count": null,
      "outputs": [
        {
          "output_type": "stream",
          "name": "stdout",
          "text": [
            "Median (used to replace outliers): 53.0\n"
          ]
        }
      ]
    },
    {
      "cell_type": "code",
      "source": [
        "import numpy as np\n",
        "\n",
        "data = [50, 52, 54, 1000]  # Outlier present\n",
        "median = np.median(data)\n",
        "\n",
        "# Define a simple rule: values far from the median (e.g., > 3× standard deviation) are outliers\n",
        "std = np.std(data)\n",
        "\n",
        "# Replace outlier(s) with the median\n",
        "cleaned_data = [ x if x <= (2 * std) else float(median) for x in data]\n",
        "\n",
        "print(\"Median (used to replace outliers):\", median)\n",
        "print(\"Original Data:\", data)\n",
        "print(\"Cleaned Data:\", cleaned_data)\n"
      ],
      "metadata": {
        "colab": {
          "base_uri": "https://localhost:8080/"
        },
        "id": "d0a09hRVZw84",
        "outputId": "5ed950e9-3216-463d-828c-52eed6d656c7"
      },
      "execution_count": null,
      "outputs": [
        {
          "output_type": "stream",
          "name": "stdout",
          "text": [
            "Median (used to replace outliers): 53.0\n",
            "Original Data: [50, 52, 54, 1000]\n",
            "Cleaned Data: [50, 52, 54, 53.0]\n"
          ]
        }
      ]
    },
    {
      "cell_type": "code",
      "source": [
        "# Mode – Categorical Feature Imputation\n",
        "# Used for filling missing values in categorical columns.\n",
        "\n",
        "from collections import Counter\n",
        "\n",
        "colors = ['Red', 'Blue', 'Red', 'Green', 'Red']\n",
        "most_common = Counter(colors).most_common(1)[0][0]\n",
        "\n",
        "print(\"Most frequent color (mode):\", most_common)\n"
      ],
      "metadata": {
        "colab": {
          "base_uri": "https://localhost:8080/"
        },
        "id": "lQ7ua_yfaQ_k",
        "outputId": "c100c11c-ef94-4654-bcdd-c5b9b40b4c2a"
      },
      "execution_count": null,
      "outputs": [
        {
          "output_type": "stream",
          "name": "stdout",
          "text": [
            "Most frequent color (mode): Red\n"
          ]
        }
      ]
    },
    {
      "cell_type": "code",
      "source": [
        "# Variance – Feature Selection\n",
        "# Used to identify low-variance features that may be removed.\n",
        "import numpy as np\n",
        "\n",
        "feature1 = [1, 1, 1, 1, 2, 1]  # Low variance\n",
        "feature2 = [1, 4, 3, 4, 5, 2]  # High variance\n",
        "\n",
        "var1 = np.var(feature1)\n",
        "var2 = np.var(feature2)\n",
        "\n",
        "print(\"Variance of feature1:\", var1)\n",
        "print(\"Variance of feature2:\", var2)\n"
      ],
      "metadata": {
        "colab": {
          "base_uri": "https://localhost:8080/"
        },
        "id": "28vP0UGwbZUU",
        "outputId": "7049b942-b415-4c01-af3c-eb77540cccf3"
      },
      "execution_count": null,
      "outputs": [
        {
          "output_type": "stream",
          "name": "stdout",
          "text": [
            "Variance of feature1: 0.1388888888888889\n",
            "Variance of feature2: 1.8055555555555554\n"
          ]
        }
      ]
    },
    {
      "cell_type": "markdown",
      "source": [
        "**True or False?**\n",
        "\n",
        "1. Mean is what your data becomes when you don't feed it pizza.\n",
        "\n",
        "2. Median is the vacation spot between Mean and Mode, known for statistical sunsets.\n",
        "\n",
        "3. A high variance means your dataset is having an identity crisis.\n",
        "\n",
        "4. Standard deviation wears a cape and rescues outliers from extinction.\n",
        "\n",
        "5. The mode of your lunch order is always pineapple pizza, no matter the data.\n",
        "\n",
        "6. Machine learning models always prefer emotionally stable data with zero variance.\n",
        "\n",
        "7. If your dataset has zero standard deviation, it’s ready to launch into orbit.\n",
        "\n",
        "8. Normalization involves bathing your data with warm water and soap.\n",
        "\n",
        "9. Python’s np.mean() function actually returns your horoscope.\n",
        "\n",
        "10. In ML, replacing outliers with the median instantly makes your model 10x smarter."
      ],
      "metadata": {
        "id": "g3lrBTrcb7pY"
      }
    },
    {
      "cell_type": "markdown",
      "source": [
        "**Day 08 - June 18**\n",
        "\n",
        "NumPy Unleashed: The Matrix of Modern Data"
      ],
      "metadata": {
        "id": "geFPPGLrWm8d"
      }
    },
    {
      "cell_type": "code",
      "source": [
        "# Arrays – ML Starts with Data\n",
        "# NumPy's Role: Used to store structured numeric data efficiently for ML algorithms.\n",
        "# All ML frameworks accept data in NumPy array format.\n",
        "\n",
        "import numpy as np\n",
        "\n",
        "# Dataset: 4 samples with 3 features\n",
        "X = np.array([\n",
        "    [3.13, 4.50, 2.30],\n",
        "    [2.34, 4.66, 1.23],\n",
        "    [4.96, 6.78, 2.81],\n",
        "    [7.66, 1.90, 5.85]\n",
        "])\n",
        "\n",
        "# Labels\n",
        "y = np.array([1, 2, 1, 0])\n",
        "\n",
        "print(\"Shape of data:\", X.shape, y.shape)\n"
      ],
      "metadata": {
        "colab": {
          "base_uri": "https://localhost:8080/"
        },
        "id": "mFRBrY5KWqrv",
        "outputId": "1b2ad313-e0d0-45c6-a246-a57c4a9ca7fd"
      },
      "execution_count": null,
      "outputs": [
        {
          "output_type": "stream",
          "name": "stdout",
          "text": [
            "Shape of data: (4, 3) (4,)\n"
          ]
        }
      ]
    },
    {
      "cell_type": "code",
      "source": [
        "# Indexing + Slicing – Train-Test Splits, Feature Selection\n",
        "# NumPy's Role: Enables fast and intuitive access to specific rows, columns,\n",
        "# or subarrays—vital for splitting datasets and selecting features.\n",
        "\n",
        "# Features (exclude last column)\n",
        "X_features = X[:, :-1]\n",
        "\n",
        "# Select rows 0 and 2\n",
        "subset = X[[0, 2]]\n",
        "\n",
        "print(\"Features only:\\n\", X_features)\n",
        "print(\"Selected samples:\\n\", subset)\n"
      ],
      "metadata": {
        "colab": {
          "base_uri": "https://localhost:8080/"
        },
        "id": "cyu5ShyFXPHN",
        "outputId": "e6eab72c-1dc7-45d2-d56b-35cdc422df59"
      },
      "execution_count": null,
      "outputs": [
        {
          "output_type": "stream",
          "name": "stdout",
          "text": [
            "Features only:\n",
            " [[3.13 4.5 ]\n",
            " [2.34 4.66]\n",
            " [4.96 6.78]\n",
            " [7.66 1.9 ]]\n",
            "Selected samples:\n",
            " [[3.13 4.5  2.3 ]\n",
            " [4.96 6.78 2.81]]\n"
          ]
        }
      ]
    },
    {
      "cell_type": "code",
      "source": [
        "# Vectorized Operations – Normalization for Regression/SVM\n",
        "# NumPy's Role: Performs element-wise operations across arrays without loops,\n",
        "# crucial for data scaling and transformation.\n",
        "\n",
        "X = np.array([\n",
        "    [1.4, 0.2, 0],\n",
        "    [4.7, 1.4, 1],\n",
        "    [5.1, 2.4, 2],\n",
        "    [3.2, 1.3, 1]\n",
        "])\n",
        "# Z-score normalization\n",
        "mean = X.mean()\n",
        "std = X.std()\n",
        "\n",
        "X_scaled = (X - mean) / std\n",
        "print(\"Scaled Features:\\n\", X_scaled)\n"
      ],
      "metadata": {
        "colab": {
          "base_uri": "https://localhost:8080/"
        },
        "id": "2rjP6F6uXeDN",
        "outputId": "285ab32d-e7b1-41ac-9149-1d432237de31"
      },
      "execution_count": null,
      "outputs": [
        {
          "output_type": "stream",
          "name": "stdout",
          "text": [
            "Scaled Features:\n",
            " [[-0.37024606 -1.14293349 -1.27171473]\n",
            " [ 1.75464438 -0.37024606 -0.62780854]\n",
            " [ 2.01220685  0.27366013  0.01609765]\n",
            " [ 0.78878509 -0.43463668 -0.62780854]]\n"
          ]
        }
      ]
    },
    {
      "cell_type": "markdown",
      "source": [],
      "metadata": {
        "id": "KRN7hbciem0r"
      }
    },
    {
      "cell_type": "code",
      "source": [
        "# Distance Calculations – K-Means and Clustering\n",
        "# NumPy's Role: Calculates distances efficiently using broadcasting and vectorized operations—essential\n",
        "# for unsupervised learning algorithms like K-Means.\n",
        "\n",
        "import numpy as np\n",
        "\n",
        "# Step 1: Define sample data points\n",
        "# NumPy is used to efficiently store 2D numerical data\n",
        "X = np.array([\n",
        "    [1.2, 0.7],\n",
        "    [4.1, 2.2],\n",
        "    [5.5, 2.8],\n",
        "    [0.9, 0.5],\n",
        "    [3.3, 1.5]\n",
        "])\n",
        "\n",
        "# Step 2: Define initial cluster centers\n",
        "# These could represent two clusters (like in k-means init)\n",
        "centers = np.array([\n",
        "    [1.0, 0.2],  # Cluster 0 center\n",
        "    [5.0, 2.0]   # Cluster 1 center\n",
        "])\n",
        "\n",
        "# Step 3: Calculate distance from each point to each center\n",
        "# X has shape (5, 2) → reshape to (5, 1, 2) to allow broadcasting\n",
        "# centers has shape (2, 2)\n",
        "# Subtracts each center from each point → result shape: (5, 2, 2)\n",
        "# Computes Euclidean distance for each pair\n",
        "dists = np.linalg.norm(X[:, None, :] - centers, axis=2)\n",
        "\n",
        "# Step 4: Show distances\n",
        "print(\"Distances to centers:\\n\", dists)\n",
        "\n",
        "# Step 5: Assign each point to the nearest cluster center\n",
        "# Finds the index of the closest center for each point\n",
        "assignments = np.argmin(dists, axis=1)\n",
        "\n",
        "# Step 6: Show cluster assignments\n",
        "print(\"Cluster assignments:\", assignments)\n"
      ],
      "metadata": {
        "colab": {
          "base_uri": "https://localhost:8080/"
        },
        "id": "XWUG1LapXoPF",
        "outputId": "82cec860-6256-4d2d-9efd-55078f855cb6"
      },
      "execution_count": null,
      "outputs": [
        {
          "output_type": "stream",
          "name": "stdout",
          "text": [
            "Distances to centers:\n",
            " [[0.53851648 4.01621713]\n",
            " [3.68917335 0.92195445]\n",
            " [5.19711458 0.94339811]\n",
            " [0.31622777 4.36577599]\n",
            " [2.64196896 1.77200451]]\n",
            "Cluster assignments: [0 1 1 0 1]\n"
          ]
        }
      ]
    },
    {
      "cell_type": "code",
      "source": [
        "# Dot Product – Linear Regression & Neural Nets\n",
        "# NumPy's Role: Computes weighted sums for models like linear regression or neural nets\n",
        "# using matrix multiplication.\n",
        "# Dummy weights and bias\n",
        "weights = np.array([0.6, 0.4])\n",
        "bias = 1.5\n",
        "\n",
        "# Linear prediction: y = Xw + b\n",
        "predictions = X.dot(weights) + bias\n",
        "print(\"Predicted outputs:\", predictions)\n"
      ],
      "metadata": {
        "colab": {
          "base_uri": "https://localhost:8080/"
        },
        "id": "GfNYx9YiXrvm",
        "outputId": "65a13847-2921-4097-fc69-47269dbba587"
      },
      "execution_count": null,
      "outputs": [
        {
          "output_type": "stream",
          "name": "stdout",
          "text": [
            "Predicted outputs: [2.5  4.84 5.92 2.24 4.08]\n"
          ]
        }
      ]
    },
    {
      "cell_type": "code",
      "source": [
        "# Boolean Masking – SVM Margin Check / Evaluation\n",
        "# NumPy's Role: Filters and selects subsets of data based on conditions using boolean indexing,\n",
        "# often used in error analysis and evaluation.\n",
        "\n",
        "y = np.array([0, 2, 1, 1, 0])\n",
        "\n",
        "# Sample predictions\n",
        "pred = np.array([0, 2, 2, 1, 1])\n",
        "\n",
        "# Identify misclassified samples\n",
        "mask_wrong = (y != pred)\n",
        "print(\"Misclassified points:\\n\", X[mask_wrong])\n"
      ],
      "metadata": {
        "colab": {
          "base_uri": "https://localhost:8080/"
        },
        "id": "cibVtQsNXu5_",
        "outputId": "163ec872-727c-481e-b2b6-b67de37a5527"
      },
      "execution_count": null,
      "outputs": [
        {
          "output_type": "stream",
          "name": "stdout",
          "text": [
            "Misclassified points:\n",
            " [[5.5 2.8]\n",
            " [3.3 1.5]]\n"
          ]
        }
      ]
    },
    {
      "cell_type": "code",
      "source": [
        "# Matrix Ops – Neural Network Layer Simulation\n",
        "# NumPy's Role: Performs batch matrix operations for the forward pass in neural networks,\n",
        "# enabling efficient computation for multiple samples.\n",
        "# Inputs: 2 samples, 3 features\n",
        "X_nn = np.array([\n",
        "    [1.0, 2.0, 3.0],\n",
        "    [0.5, 0.2, 0.1]\n",
        "])\n",
        "\n",
        "# Weights for hidden layer: 3 inputs → 2 hidden units\n",
        "W1 = np.array([\n",
        "    [0.2, 0.4],\n",
        "    [0.3, 0.1],\n",
        "    [0.5, 0.6]\n",
        "])\n",
        "\n",
        "# Bias for each unit\n",
        "b1 = np.array([0.1, 0.2])\n",
        "\n",
        "# Forward pass: XW + b\n",
        "layer_output = X_nn.dot(W1) + b1\n",
        "print(\"Hidden Layer Output:\\n\", layer_output)\n"
      ],
      "metadata": {
        "colab": {
          "base_uri": "https://localhost:8080/"
        },
        "id": "brbVDiZsXyAR",
        "outputId": "bdb89666-e9ee-449b-d864-da1e0472689b"
      },
      "execution_count": null,
      "outputs": [
        {
          "output_type": "stream",
          "name": "stdout",
          "text": [
            "Hidden Layer Output:\n",
            " [[2.4  2.6 ]\n",
            " [0.31 0.48]]\n"
          ]
        }
      ]
    },
    {
      "cell_type": "markdown",
      "source": [
        "**True or False?**\n",
        "\n",
        "1. If humans could compute distances like NumPy, nobody would get lost in IKEA.\n",
        "\n",
        "2.  When a pizza delivery robot uses NumPy’s np.argmin, it always finds the hungriest cluster first.\n",
        "\n",
        "3. In a world where students are data points and teachers are cluster centers, np.linalg.norm is how you measure emotional distance.\n",
        "\n",
        "4.  When aliens landed, NumPy calculated they were closest to Las Vegas, but they still went to New York—classic cluster confusion.\n",
        "\n",
        "5.  A cat assigned itself to the nearest food bowl using np.argmin. It’s now the CEO of SmartFeeder Inc.\n",
        "\n",
        "6.  If your socks are in X and your laundry baskets are centers, NumPy can help you assign each sock to its soulmate basket.\n",
        "\n",
        "7.  During a zombie apocalypse, survivors used NumPy to cluster in the safest locations. The zombies failed to vectorize.\n",
        "\n",
        "8.  If you ever feel distant in life, just remember np.linalg.norm can calculate that too.\n",
        "\n",
        "9.  NumPy was almost elected mayor after assigning everyone to their nearest coffee shop in milliseconds.\n",
        "\n",
        "10. Cupcakes placed themselves in the bakery based on closest frosting color cluster—thanks to NumPy broadcasting."
      ],
      "metadata": {
        "id": "tbUpdldrng_s"
      }
    },
    {
      "cell_type": "markdown",
      "source": [
        "**Day 10 - 19 June**\n",
        "\n",
        "Pandas - The Panel Data Operations"
      ],
      "metadata": {
        "id": "kzKLXYulc2Wo"
      }
    },
    {
      "cell_type": "code",
      "source": [
        "# Introduction to Pandas\n",
        "import pandas as pd\n",
        "\n",
        "data = {\n",
        "    'Day': ['1st', '2nd', '3rd', '4th', '5th'],\n",
        "    'Cups_of_Chai' :[7, 5, 8, 9, 4],\n",
        "    'Code_Written':[ 1500, 1300, 800, 600, 1800],\n",
        "    'Hours_of_study':[ 8.5, 9, 5.5, 8.5, 6.5],\n",
        "    'Misc': [5, 4, 7, 6, 3]\n",
        "}\n",
        "\n",
        "df = pd.DataFrame(data)\n",
        "print(\"Student’s Exam Survival Log:\\n\", df)\n",
        "print(df['Misc'])\n",
        "\n"
      ],
      "metadata": {
        "colab": {
          "base_uri": "https://localhost:8080/"
        },
        "id": "Zi7XWlbJc-Lg",
        "outputId": "ebac75a1-362e-406a-b1b8-c3884b25e0da"
      },
      "execution_count": null,
      "outputs": [
        {
          "output_type": "stream",
          "name": "stdout",
          "text": [
            "Student’s Exam Survival Log:\n",
            "    Day  Cups_of_Chai  Code_Written  Hours_of_study  Misc\n",
            "0  1st             7          1500             8.5     5\n",
            "1  2nd             5          1300             9.0     4\n",
            "2  3rd             8           800             5.5     7\n",
            "3  4th             9           600             8.5     6\n",
            "4  5th             4          1800             6.5     3\n",
            "0    5\n",
            "1    4\n",
            "2    7\n",
            "3    6\n",
            "4    3\n",
            "Name: Misc, dtype: int64\n"
          ]
        }
      ]
    },
    {
      "cell_type": "code",
      "source": [
        "import pandas as pd\n",
        "\n",
        "df = pd.read_csv('students.csv')\n",
        "\n",
        "total_rows = len(df)\n",
        "print(\"Total Students\", total_rows)\n",
        "\n",
        "# Filter students with score > 80\n",
        "filtered_df = df[ df['score'] > 80 ]\n",
        "total_rows = len(filtered_df)\n",
        "print(\"Total Students with 80+ score\", total_rows)\n",
        "\n",
        "# Drop missing values\n",
        "df_clean = df.dropna()\n",
        "total_rows = len(df_clean)\n",
        "print(\"Total Students after cleaning\", total_rows)\n",
        "\n",
        "# Fill missing values\n",
        "df_filled = df.fillna(df['score'].mean())\n",
        "total_rows = len(df_filled)\n",
        "print(\"Total Students after filling with mean\", total_rows)\n",
        "\n",
        "# Group by age variable\n",
        "df_grouped =df.groupby('age')['score'].mean()\n",
        "total_rows = len(df_grouped)\n",
        "print(\"Total groups by age\", total_rows)\n",
        "print(df_grouped)"
      ],
      "metadata": {
        "colab": {
          "base_uri": "https://localhost:8080/"
        },
        "id": "004l7paIhILH",
        "outputId": "4e13fbd2-9a6e-4cfa-cb69-b7f4a93c578b"
      },
      "execution_count": null,
      "outputs": [
        {
          "output_type": "stream",
          "name": "stdout",
          "text": [
            "Total Students 1000\n",
            "Total Students with 80+ score 207\n",
            "Total Students after cleaning 810\n",
            "Total Students after filling with mean 1000\n",
            "Total groups by age 7\n",
            "age\n",
            "18.0    70.590972\n",
            "19.0    69.040000\n",
            "20.0    67.601124\n",
            "21.0    67.854289\n",
            "22.0    71.329717\n",
            "23.0    67.074741\n",
            "24.0    69.197624\n",
            "Name: score, dtype: float64\n"
          ]
        }
      ]
    },
    {
      "cell_type": "code",
      "source": [
        "import pandas as pd\n",
        "from sklearn.model_selection import train_test_split\n",
        "from sklearn.linear_model import LogisticRegression\n",
        "from sklearn.metrics import accuracy_score\n",
        "\n",
        "# Sample data\n",
        "data = {'Hours_Studied': [1, 2, 3, 4, 5, 6, 7, 8],\n",
        "        'Score': [35, 45, 50, 60, 70, 75, 80, 90],\n",
        "        'Passed': [0, 0, 0, 1, 1, 1, 1, 1]}\n",
        "\n",
        "df = pd.DataFrame(data)\n",
        "\n",
        "# Features and labels\n",
        "X = df[['Hours_Studied', 'Score']]\n",
        "y = df['Passed']\n",
        "\n",
        "# Train-test split\n",
        "X_train, X_test, y_train, y_test = train_test_split(X, y, test_size=0.3, random_state=42)\n",
        "\n",
        "# Train the regression\n",
        "model = LogisticRegression()\n",
        "model.fit(X_train, y_train)\n",
        "\n",
        "# Predict and evaluate\n",
        "y_pred = model.predict(X_test)\n",
        "print(\"Accuracy:\", accuracy_score(y_test, y_pred))\n"
      ],
      "metadata": {
        "colab": {
          "base_uri": "https://localhost:8080/"
        },
        "id": "H7bpAyPA3PZg",
        "outputId": "500b4fc2-c611-42e2-da93-a82e2b198b5d"
      },
      "execution_count": null,
      "outputs": [
        {
          "output_type": "stream",
          "name": "stdout",
          "text": [
            "Accuracy: 1.0\n"
          ]
        }
      ]
    },
    {
      "cell_type": "code",
      "source": [
        "# Homework: Complete this program. Play around using different features from df\n",
        "import pandas as pd\n",
        "from sklearn.linear_model import LinearRegression\n",
        "from sklearn.model_selection import train_test_split\n",
        "from sklearn.metrics import r2_score\n",
        "\n",
        "data = {\n",
        "    'Name': [\n",
        "        'Aanya', 'Aarav', 'Aayushi', 'Aadil', 'Aakash', 'Varun', 'Vanya', 'Vinay', 'Vidya', 'Vaibhav',\n",
        "        'Akhil', 'Aryan', 'Vinayak', 'Aakash', 'Viven','Vrushali', 'Vinuta', 'Vivian', 'Amit', 'Akarsh'],\n",
        "    'Age': [22, 21, 20, 23, 24, 22, 21, 20, 23, 24, 22, 21, 20, 23, 24, 22, 21, 20, 23, 24],\n",
        "    'Hours_Studied': [3, 5, 6, 2, 4, 5, 6, 3, 4, 2, 3, 7, 5, 3, 6, 4, 3, 6, 7, 5],\n",
        "    'Coffee_Cups': [2, 1, 2, 3, 2, 3, 1, 2, 4, 4, 2, 1, 2, 3, 1, 0, 1, 2, 2, 3],\n",
        "    'Chai_Count': [1, 2, 0, 3, 2, 1, 1, 2, 0, 1, 1, 2, 0, 3, 1, 1, 0, 1, 2, 3],\n",
        "    'Sleep_Hours': [5, 6, 4, 3, 6, 5, 4, 3, None, 5, 6, None, 5, 4, 5, None, 5, 3, 4, 6],\n",
        "    'Final_Score': [75, 82, 88, 60, 74, 79, 85, 70, 68, 72, 80, 83, 77, 69, 86, 81, 78, 74, 89, 90]\n",
        "}\n",
        "\n",
        "df = pd.DataFrame(data)\n",
        "print(df.head())\n",
        "\n",
        "df['Sleep_Hours'] =\n",
        "\n",
        "features = ['Hours_Studied', 'Coffee_Cups', 'Chai_Count', 'Sleep_Hours']\n",
        "X = df[features]\n",
        "y = df['Final_Score']\n",
        "\n",
        "X_train, X_test, y_train, y_test = train_test_split(X, y, test_size=0.3, random_state=42)\n",
        "\n",
        "model =\n",
        "model.fit(X_train, y_train)\n",
        "y_pred = model.predict(X_test)\n",
        "\n",
        "r2 = r2_score(y_test, y_pred)\n",
        "print(\"R² Score:\", r2)\n",
        "\n"
      ],
      "metadata": {
        "colab": {
          "base_uri": "https://localhost:8080/",
          "height": 106
        },
        "id": "wLzerb_R6IQT",
        "outputId": "ef502a8c-f7fe-4682-c413-46c9bcddbef9"
      },
      "execution_count": null,
      "outputs": [
        {
          "output_type": "error",
          "ename": "SyntaxError",
          "evalue": "invalid syntax (ipython-input-21-1256268685.py, line 21)",
          "traceback": [
            "\u001b[0;36m  File \u001b[0;32m\"/tmp/ipython-input-21-1256268685.py\"\u001b[0;36m, line \u001b[0;32m21\u001b[0m\n\u001b[0;31m    df['Sleep_Hours'] =\u001b[0m\n\u001b[0m                        ^\u001b[0m\n\u001b[0;31mSyntaxError\u001b[0m\u001b[0;31m:\u001b[0m invalid syntax\n"
          ]
        }
      ]
    },
    {
      "cell_type": "markdown",
      "source": [
        "Day 10 - June 20\n",
        "\n",
        "OOP and Visualization"
      ],
      "metadata": {
        "id": "p9BUKkuHHgZZ"
      }
    },
    {
      "cell_type": "code",
      "source": [
        "# This program demonstrates encapsulation and inheritance using a fun pet example.\n",
        "# The Pet class has a private mood attribute, modified through methods.\n",
        "# The Dog class inherits from Pet, adds its own features like bark, and uses super() to access the parent\n",
        "# constructor, showing clean, modular, and reusable object-oriented design.\n",
        "\n",
        "# Base class:\n",
        "class Pet:\n",
        "  def __init__(self, name):\n",
        "    self.name = name\n",
        "    self.__mood =  \"sleepy\"\n",
        "\n",
        "  def play(self):\n",
        "    self.__mood = \"excited\"\n",
        "\n",
        "  def get_mood(self):\n",
        "    return self.__mood\n",
        "\n",
        "# Derived class:\n",
        "class Dog(Pet):\n",
        "  def __init__(self, name, breed):\n",
        "    super().__init__(name)\n",
        "    self.breed = breed\n",
        "\n",
        "  def bark(self):\n",
        "    print(f\"{self.name} says bow bow!\")\n",
        "\n",
        "  def show_mood(self):\n",
        "    print(self.name + \" is feeling right now\", self.get_mood())\n",
        "\n",
        "# Usage\n",
        "d = Dog(\"Ronik\", \"Dalmation\")\n",
        "d.bark()\n",
        "d.play()\n",
        "d.show_mood()"
      ],
      "metadata": {
        "id": "C9A27atCHmEZ",
        "colab": {
          "base_uri": "https://localhost:8080/"
        },
        "outputId": "983aafbd-1700-40a8-b456-b2d97713dcec"
      },
      "execution_count": null,
      "outputs": [
        {
          "output_type": "stream",
          "name": "stdout",
          "text": [
            "Ronik says bow bow!\n",
            "Ronik is feeling right now excited\n"
          ]
        }
      ]
    },
    {
      "cell_type": "code",
      "source": [
        "# Understanding 6 major plots\n",
        "\n",
        "import matplotlib.pyplot as plt\n",
        "import numpy as np\n",
        "\n",
        "# Sample data\n",
        "x = np.linspace(0, 10, 100)\n",
        "y = np.sin(x)\n",
        "categories = ['A', 'B', 'C', 'D']\n",
        "values = [10, 20, 15, 30]\n",
        "\n",
        "# 1. Line Plot\n",
        "plt.figure(figsize=(10, 8))\n",
        "plt.subplot(2, 3, 1)\n",
        "plt.plot(x, y, color='blue')\n",
        "plt.title(\"Line Plot\")\n",
        "\n",
        "# 2. Scatter Plot\n",
        "plt.subplot(2, 3, 2)\n",
        "plt.scatter(x, y, color='green')\n",
        "plt.title(\"Scatter Plot\")\n",
        "\n",
        "# 3. Bar Plot\n",
        "plt.subplot(2, 3, 3)\n",
        "plt.bar(categories, values, color='orange')\n",
        "plt.title(\"Bar Plot\")\n",
        "\n",
        "# 4. Histogram\n",
        "data = np.random.randn(1000)\n",
        "plt.subplot(2, 3, 4)\n",
        "plt.hist(data, bins=20, color='purple')\n",
        "plt.title(\"Histogram\")\n",
        "\n",
        "# 5. Pie Chart\n",
        "plt.subplot(2, 3, 5)\n",
        "plt.pie(values, labels=categories, autopct='%1.1f%%')\n",
        "plt.title(\"Pie Chart\")\n",
        "\n",
        "# 6. Box Plot\n",
        "plt.subplot(2, 3, 6)\n",
        "data2 = [np.random.normal(0, std, 100) for std in range(1, 4)]\n",
        "plt.boxplot(data2)\n",
        "plt.title(\"Box Plot\")\n",
        "\n",
        "plt.tight_layout()\n",
        "plt.show()\n"
      ],
      "metadata": {
        "colab": {
          "base_uri": "https://localhost:8080/",
          "height": 807
        },
        "id": "BuVWAlkdJxp4",
        "outputId": "1ef0db21-bccd-4375-b2c2-55f500201ae5"
      },
      "execution_count": null,
      "outputs": [
        {
          "output_type": "display_data",
          "data": {
            "text/plain": [
              "<Figure size 1000x800 with 6 Axes>"
            ],
            "image/png": "[encoded data removed]"
          },
          "metadata": {}
        }
      ]
    },
    {
      "cell_type": "code",
      "source": [
        "# Creating pair plots\n",
        "import seaborn as sns\n",
        "import pandas as pd\n",
        "\n",
        "# Sample dataset\n",
        "data = {\n",
        "    \"Height\": [150, 160, 165, 170, 180, 155, 175, 168],\n",
        "    \"Weight\": [50, 60, 65, 70, 80, 55, 75, 68],\n",
        "    \"Age\":    [25, 30, 35, 40, 45, 28, 38, 33],\n",
        "    \"Score\":  [80, 85, 88, 90, 95, 82, 93, 87]\n",
        "}\n",
        "\n",
        "df = pd.DataFrame(data)\n",
        "\n",
        "# Create a pairplot\n",
        "sns.pairplot(df, diag_kind = 'hist') # kde\n"
      ],
      "metadata": {
        "id": "CrwkE_z2l5iZ",
        "colab": {
          "base_uri": "https://localhost:8080/",
          "height": 1000
        },
        "outputId": "58b0bd07-c650-400d-af46-4144a56693f2"
      },
      "execution_count": null,
      "outputs": [
        {
          "output_type": "execute_result",
          "data": {
            "text/plain": [
              "<seaborn.axisgrid.PairGrid at 0x795f08774110>"
            ]
          },
          "metadata": {},
          "execution_count": 14
        },
        {
          "output_type": "display_data",
          "data": {
            "text/plain": [
              "<Figure size 1000x1000 with 20 Axes>"
            ],
            "image/png": "[encoded data removed]"
          },
          "metadata": {}
        }
      ]
    },
    {
      "cell_type": "code",
      "source": [
        "# Homework\n",
        "# Explore the lmplot\n",
        "\n",
        "import pandas as pd\n",
        "import seaborn as sns\n",
        "import matplotlib.pyplot as plt\n",
        "from sklearn.linear_model import LinearRegression\n",
        "\n",
        "# Step 1: Create data\n",
        "data = {\n",
        "    \"Hours_Studied\": [1, 2, 3, 4, 5, 6, 7, 8, 9, 10],\n",
        "    \"Score\": [50, 55, 60, 62, 65, 70, 75, 78, 85, 88]\n",
        "}\n",
        "df = pd.DataFrame(data)\n",
        "\n",
        "# Step 2: Visualize with seaborn\n",
        "\n",
        "plt.title(\"Score vs Hours Studied\")\n",
        "plt.show()\n",
        "\n",
        "# Step 3: Train a linear regression model\n",
        "model =\n",
        "model.fit(df[[\"Hours_Studied\"]], df[\"Score\"])\n",
        "\n",
        "# Step 4: Predict score for 7.5 hours\n",
        "new_data = pd.DataFrame({\"Hours_Studied\": [7.5]})\n",
        "predicted_score = model.predict(new_data)\n",
        "print(\"Predicted Score for 7.5 hours:\", round(predicted_score[0], 2))\n"
      ],
      "metadata": {
        "colab": {
          "base_uri": "https://localhost:8080/",
          "height": 109
        },
        "id": "Ej6wLvLvnhge",
        "outputId": "fe9f274c-da68-4a05-badb-5f0fd298bd0b"
      },
      "execution_count": null,
      "outputs": [
        {
          "output_type": "error",
          "ename": "SyntaxError",
          "evalue": "invalid syntax (ipython-input-6-2013387523.py, line 19)",
          "traceback": [
            "\u001b[0;36m  File \u001b[0;32m\"/tmp/ipython-input-6-2013387523.py\"\u001b[0;36m, line \u001b[0;32m19\u001b[0m\n\u001b[0;31m    model =\u001b[0m\n\u001b[0m            ^\u001b[0m\n\u001b[0;31mSyntaxError\u001b[0m\u001b[0;31m:\u001b[0m invalid syntax\n"
          ]
        }
      ]
    },
    {
      "cell_type": "code",
      "source": [
        "import pandas as pd\n",
        "import seaborn as sns\n",
        "import matplotlib.pyplot as plt\n",
        "\n",
        "# Hobby dataset\n",
        "data = {\n",
        "    \"Introversion\": [8, 6, 3, 2, 9, 7],\n",
        "    \"Creativity\": [7, 9, 6, 5, 8, 7],\n",
        "    \"Love_for_Reading\": [9, 8, 4, 3, 10, 8],\n",
        "    \"Gaming_Hours\": [2, 4, 8, 9, 1, 3],\n",
        "    \"Music_Time\": [5, 6, 7, 8, 4, 6],\n",
        "    \"Painting_Score\": [8, 9, 5, 4, 9, 8]\n",
        "}\n",
        "\n",
        "df = pd.DataFrame(data)\n",
        "corr = df.corr()\n",
        "\n",
        "# Plot\n",
        "sns.heatmap(corr, annot = True)\n",
        "plt.title(\"Hobby Dataset\")\n",
        "plt.show()\n"
      ],
      "metadata": {
        "colab": {
          "base_uri": "https://localhost:8080/",
          "height": 561
        },
        "id": "JyPqvLTNo6b9",
        "outputId": "3dc08a8b-492c-4331-9f61-6ea09780f31e"
      },
      "execution_count": null,
      "outputs": [
        {
          "output_type": "display_data",
          "data": {
            "text/plain": [
              "<Figure size 640x480 with 2 Axes>"
            ],
            "image/png": "[encoded data removed]"
          },
          "metadata": {}
        }
      ]
    },
    {
      "cell_type": "code",
      "source": [
        "# Identify the right plot\n",
        "\n",
        "import pandas as pd\n",
        "import seaborn as sns\n",
        "import matplotlib.pyplot as plt\n",
        "\n",
        "# Sample data\n",
        "data = {\n",
        "    \"Membership\": [\"Basic\", \"Premium\", \"Basic\", \"Premium\", \"Basic\", \"Premium\", \"Basic\", \"Premium\"],\n",
        "    \"Satisfaction\": [3.1, 4.5, 2.9, 4.8, 3.5, 4.2, 2.8, 4.6],\n",
        "    \"Workout_Time\": [50, 50, 25, 60, 35, 55, 50, 65],\n",
        "    \"Calories_Burned\": [200, 400, 180, 420, 210, 410, 170, 430]\n",
        "}\n",
        "df = pd.DataFrame(data)\n",
        "\n",
        "# Plot\n",
        "sns.boxplot(x = \"Membership\", y = \"Workout_Time\", data = df)\n",
        "plt.title(\"Gym Exploration\")\n",
        "plt.show()\n"
      ],
      "metadata": {
        "id": "enCpmP34qvZM",
        "colab": {
          "base_uri": "https://localhost:8080/",
          "height": 472
        },
        "outputId": "ec5ba5f1-8e0e-4bf7-95c5-3b762144c72d"
      },
      "execution_count": null,
      "outputs": [
        {
          "output_type": "display_data",
          "data": {
            "text/plain": [
              "<Figure size 640x480 with 1 Axes>"
            ],
            "image/png": "[encoded data removed]"
          },
          "metadata": {}
        }
      ]
    },
    {
      "cell_type": "code",
      "source": [
        "# Identify the right plot\n",
        "import pandas as pd\n",
        "import seaborn as sns\n",
        "import matplotlib.pyplot as plt\n",
        "\n",
        "# Sample data: customer spending\n",
        "data = {\n",
        "    \"Time_of_Day\": [\n",
        "        \"Morning\", \"Morning\", \"Morning\",\n",
        "        \"Afternoon\", \"Afternoon\", \"Afternoon\",\n",
        "        \"Evening\", \"Evening\", \"Evening\"\n",
        "    ],\n",
        "    \"Amount_Spent\": [120, 80, 95, 150, 100, 110, 90, 70, 130]\n",
        "}\n",
        "\n",
        "df = pd.DataFrame(data)\n",
        "\n",
        "# Plot\n",
        "sns.swarmplot(x = \"Time_of_Day\", y = \"Amount_Spent\", data = df)\n",
        "plt.show()\n"
      ],
      "metadata": {
        "id": "7IxcuppvrlNt",
        "colab": {
          "base_uri": "https://localhost:8080/",
          "height": 450
        },
        "outputId": "8e2aa47e-14f0-4b04-b691-85e7e8f06713"
      },
      "execution_count": null,
      "outputs": [
        {
          "output_type": "display_data",
          "data": {
            "text/plain": [
              "<Figure size 640x480 with 1 Axes>"
            ],
            "image/png": "[encoded data removed]"
          },
          "metadata": {}
        }
      ]
    }
  ]
}